{
 "cells": [
  {
   "cell_type": "code",
   "execution_count": 1,
   "metadata": {
    "collapsed": true
   },
   "outputs": [],
   "source": [
    "### FORMAL DEMOS"
   ]
  },
  {
   "cell_type": "code",
   "execution_count": 4,
   "metadata": {
    "collapsed": false
   },
   "outputs": [
    {
     "name": "stdout",
     "output_type": "stream",
     "text": [
      "[{'course_id': u'MITx/7.28.1x/1T2015', 'name': u'Molecular Biology'},\n",
      " {'course_id': u'course-v1:RICEx+AdvBIOx+3T2016',\n",
      "  'name': u'AP\\xc2\\xae Biology'},\n",
      " {'course_id': u'course-v1:HarvardX+MCB64.1x+2T2016',\n",
      "  'name': u'Cell Biology: Mitochondria'},\n",
      " {'course_id': u'course-v1:IEEEx+SysBio1x+2016_T1',\n",
      "  'name': u'Introduction to Systems Biology.'},\n",
      " {'course_id': u'course-v1:IEEEx+SysBio1x+3T2016',\n",
      "  'name': u'Introduction to Systems Biology.'},\n",
      " {'course_id': u'MITx/7.QBWx/2T2014',\n",
      "  'name': u'Quantitative Biology Workshop'},\n",
      " {'course_id': u'MITx/7.QBW_1x/1T2015',\n",
      "  'name': u'Quantitative Biology Workshop'},\n",
      " {'course_id': u'course-v1:MITx+20.305x+3T2015',\n",
      "  'name': u'Principles of Synthetic Biology'},\n",
      " {'course_id': u'course-v1:MITx+7.QBWx_3+1T2016',\n",
      "  'name': u'Quantitative Biology Workshop'},\n",
      " {'course_id': u'course-v1:MITx+7.QBWx_4+3T2016',\n",
      "  'name': u'Quantitative Biology Workshop'}]\n"
     ]
    }
   ],
   "source": [
    "## SEARCH ENGINE DEMOS\n",
    "from pprint import pprint\n",
    "\n",
    "import rewriter.search as search\n",
    "reload(search)\n",
    "\n",
    "import secure\n",
    "\n",
    "# Create a search engine that searches over all edX courses.\n",
    "# Under the hood, this uses Python's Whoosh library to index\n",
    "# the course data stored in a CSV and then run searches against it.\n",
    "dataset_path = secure.DATASET_PATH_BASE+'Master CourseListings - edX.csv'\n",
    "index_path = secure.INDEX_PATH_BASE+'edx'\n",
    "edx_engine = search.EdXSearchEngine(dataset_path, index_path, create=False)\n",
    "\n",
    "# We expose a simple searching API\n",
    "edx_results = edx_engine.search(\"biology\")\n",
    "pprint(edx_results)\n",
    "\n",
    "# You could also search over HarvardX resources or Udacity courses\n",
    "# with similar classes!"
   ]
  },
  {
   "cell_type": "code",
   "execution_count": null,
   "metadata": {
    "collapsed": true
   },
   "outputs": [],
   "source": []
  },
  {
   "cell_type": "code",
   "execution_count": null,
   "metadata": {
    "collapsed": true
   },
   "outputs": [],
   "source": []
  },
  {
   "cell_type": "code",
   "execution_count": null,
   "metadata": {
    "collapsed": true
   },
   "outputs": [],
   "source": []
  },
  {
   "cell_type": "code",
   "execution_count": null,
   "metadata": {
    "collapsed": true
   },
   "outputs": [],
   "source": []
  },
  {
   "cell_type": "code",
   "execution_count": 6,
   "metadata": {
    "collapsed": false
   },
   "outputs": [
    {
     "name": "stdout",
     "output_type": "stream",
     "text": [
      "['classical mechanics', 'commons category with local link different than on wikidata', 'concepts in physics', 'copernican revolution', 'engvarb from july 2014', 'experimental physics', 'history of physics']\n",
      "classical mechanics commons category with local link different than on wikidata concepts in physics copernican revolution engvarb from july 2014 experimental physics history of physics newton's laws of motion\n",
      "['classical mechanics',\n",
      " 'commons category with local link different than on wikidata',\n",
      " 'concepts in physics',\n",
      " 'copernican revolution',\n",
      " 'engvarb from july 2014',\n",
      " 'experimental physics',\n",
      " 'history of physics',\n",
      " \"newton's laws of motion\"]\n",
      "[u'capitalism',\n",
      " u'communism',\n",
      " u'liberalism',\n",
      " u'ideology',\n",
      " u'marxism',\n",
      " u'marxist',\n",
      " u'anarcho',\n",
      " u'conservatism',\n",
      " u'democracy',\n",
      " u'fascism',\n",
      " u'socialism']\n"
     ]
    }
   ],
   "source": [
    "## QUERY REWRITING DEMOS\n",
    "\n",
    "import gensim.models.word2vec as word2vec\n",
    "import secure\n",
    "import rewriter\n",
    "\n",
    "# Query rewriting lets you turn a single search query into\n",
    "# multiple related queries. You can then search for *all*\n",
    "# of these queries, which can result in more and more useful\n",
    "# results than just the original query would give.\n",
    "\n",
    "# First, a rewriter that uses the Wikipedia category API\n",
    "# to find terms related to the original term\n",
    "wiki_rewriter = rewriter.WikipediaRewriter()\n",
    "wiki_rewritten_queries = wiki_rewriter.rewrite(\"newton's laws of motion\")\n",
    "pprint(wiki_rewritten_queries)\n",
    "\n",
    "\n",
    "# Second, a rewriter that uses Word2Vec to find similar\n",
    "# words to the entered term. This is a machine learning\n",
    "# algorithm trained on a large text corpus.\n",
    "# Prepare the corpus (from Wikipedia) to use for the Word2Vec Rewriter.\n",
    "corpus = word2vec.Text8Corpus(secure.DATASET_PATH_BASE + 'wikiclean8')\n",
    "# Now make the rewriter...\n",
    "w2v_rewriter = rewriter.Word2VecRewriter(corpus=corpus, create=False)\n",
    "w2v_rewritten_queries = w2v_rewriter.rewrite(\"socialism\")\n",
    "pprint(w2v_rewritten_queries)"
   ]
  },
  {
   "cell_type": "code",
   "execution_count": 9,
   "metadata": {
    "collapsed": false
   },
   "outputs": [
    {
     "name": "stdout",
     "output_type": "stream",
     "text": [
      "[{'course_id': u'SchoolYourself/GeometryX/1T2015',\n",
      "  'name': u'Introduction to Geometry'},\n",
      " {'course_id': u'course-v1:SchoolYourself+GeometryX+2T2016',\n",
      "  'name': u'Introduction to Geometry'},\n",
      " {'course_id': u'course-v1:TsinghuaX+70240183x+3T2015',\n",
      "  'name': u'Computational Geometry'},\n",
      " {'course_id': u'course-v1:TsinghuaX+70240183x+3T2016',\n",
      "  'name': u'Computational Geometry'},\n",
      " {'course_id': u'course-v1:TeachForAmericaX+HSMATH2.1x+3T2016',\n",
      "  'name': u'How to Teach High School Geometry'},\n",
      " {'course_id': u'BUx/Math226.1x/1T2015',\n",
      "  'name': u'Introduction to Differential Equations'},\n",
      " {'course_id': u'course-v1:BUx+Math226.2x+2T2015',\n",
      "  'name': u'Linear Differential Equations'},\n",
      " {'course_id': u'course-v1:BUx+Math226.1x+1T2016',\n",
      "  'name': u'Introduction to Differential Equations'},\n",
      " {'course_id': u'course-v1:BUx+Math226.2x+1T2016',\n",
      "  'name': u'Linear Differential Equations'},\n",
      " {'course_id': u'course-v1:BUx+Math226.3x+3T2015',\n",
      "  'name': u'Nonlinear Differential Equations: Order and Chaos'},\n",
      " {'course_id': u'course-v1:BUx+Math226.3x+1T2016',\n",
      "  'name': u'Nonlinear Differential Equations: Order and Chaos'},\n",
      " {'course_id': u'BUx/Math226.1x/1T2015',\n",
      "  'name': u'Introduction to Differential Equations'},\n",
      " {'course_id': u'course-v1:BUx+Math226.2x+2T2015',\n",
      "  'name': u'Linear Differential Equations'},\n",
      " {'course_id': u'course-v1:BUx+Math226.1x+1T2016',\n",
      "  'name': u'Introduction to Differential Equations'},\n",
      " {'course_id': u'course-v1:BUx+Math226.2x+1T2016',\n",
      "  'name': u'Linear Differential Equations'},\n",
      " {'course_id': u'course-v1:BUx+Math226.3x+3T2015',\n",
      "  'name': u'Nonlinear Differential Equations: Order and Chaos'},\n",
      " {'course_id': u'course-v1:BUx+Math226.3x+1T2016',\n",
      "  'name': u'Nonlinear Differential Equations: Order and Chaos'},\n",
      " {'course_id': u'CaltechX/BEM1105x/1T2015',\n",
      "  'name': u'Pricing Options with Mathematical Models'},\n",
      " {'course_id': u'course-v1:CaltechX+BEM1105x+3T2015',\n",
      "  'name': u'Pricing Options with Mathematical Models'},\n",
      " {'course_id': u'course-v1:CaltechX+BEM1105x+1T2016',\n",
      "  'name': u'Pricing Options with Mathematical Models'},\n",
      " {'course_id': u'course-v1:CaltechX+BEM1105x+3T2016',\n",
      "  'name': u'Pricing Options with Mathematical Models'},\n",
      " {'course_id': u'BerkeleyX/CS191x/2013_Spring',\n",
      "  'name': u'Quantum Mechanics and Quantum Computation'},\n",
      " {'course_id': u'BerkeleyX/CS-191x/2013_August',\n",
      "  'name': u'Quantum Mechanics and Quantum Computation'},\n",
      " {'course_id': u'course-v1:MITx+6.004.1x_2+3T2015',\n",
      "  'name': u'Computation Structures 1: Digital Circuits'},\n",
      " {'course_id': u'course-v1:MITx+6.004.2x+3T2015',\n",
      "  'name': u'Computation Structures 2: Computer Architecture'},\n",
      " {'course_id': u'course-v1:MITx+6.004.3x+2T2016',\n",
      "  'name': u'Computation Structures 3: Computer Organization'},\n",
      " {'course_id': u'course-v1:MITx+6.004.1x_3+3T2016',\n",
      "  'name': u'Computation Structures 1: Digital Circuits'},\n",
      " {'course_id': u'course-v1:MITx+6.004.2x_2+3T2016',\n",
      "  'name': u'Computation Structures 2: Computer Architecture'},\n",
      " {'course_id': u'MITx/6.004.1x/1T2015',\n",
      "  'name': u'Computation Structures - Part 1: Digital Circuits'},\n",
      " {'course_id': u'SchoolYourself/AlgebraX/1T2015',\n",
      "  'name': u'Introduction to Algebra'},\n",
      " {'course_id': u'course-v1:SchoolYourself+AlgebraX+2T2016',\n",
      "  'name': u'Introduction to Algebra'},\n",
      " {'course_id': u'course-v1:ASUx+MAT117x+1T2016',\n",
      "  'name': u'College Algebra and Problem Solving'},\n",
      " {'course_id': u'course-v1:ASUx+MAT117x+Test123',\n",
      "  'name': u'College Algebra Mobile Tester'},\n",
      " {'course_id': u'DavidsonX/D003x.1/1T2015',\n",
      "  'name': u'Applications of Linear Algebra (Part 1)'},\n",
      " {'course_id': u'DavidsonX/D003x.2/2T2015',\n",
      "  'name': u'Applications of Linear Algebra (Part 2)'},\n",
      " {'course_id': u'HarvardX/PH525.2x/1T2015',\n",
      "  'name': u'Matrix Algebra and Linear Models'},\n",
      " {'course_id': u'UPValenciaX/BMA101x/2T2015',\n",
      "  'name': u'Bases matem\\xc3\\xa1ticas: Algebra'},\n",
      " {'course_id': u'course-v1:HarvardX+PH525.2x+2T2016',\n",
      "  'name': u'Introduction to Linear Models and Matrix Algebra'},\n",
      " {'course_id': u'UTAustinX/UT.5.01x/1T2014',\n",
      "  'name': u'LAFF: Linear Algebra - Foundations to Frontiers'},\n",
      " {'course_id': u'course-v1:DavidsonNext+Cal_APccx+2T2015',\n",
      "  'name': u'AP\\xc2\\xae Calculus: Challenging Concepts from Calculus AB & Calculus BC'},\n",
      " {'course_id': u'course-v1:DavidsonNext+Cal_APccx+2T2016',\n",
      "  'name': u'AP\\xc2\\xae Calculus: Challenging Concepts from Calculus AB & Calculus BC'},\n",
      " {'course_id': u'CaltechX/Ec1011x/1T2014',\n",
      "  'name': u'Principles of Economics with Calculus'},\n",
      " {'course_id': u'course-v1:CaltechX+Ec1011x_2+T12015',\n",
      "  'name': u'Principles of Economics with Calculus'},\n",
      " {'course_id': u'course-v1:CaltechX+Ec1011x+1T2016',\n",
      "  'name': u'Principles of Economics with Calculus'},\n",
      " {'course_id': u'course-v1:CaltechX+Ec1011x+1T2017',\n",
      "  'name': u'Principles of Economics with Calculus'},\n",
      " {'course_id': u'course-v1:DavidsonNext+Cal_APBCx+3T2016',\n",
      "  'name': u'AP\\xc2\\xae Calculus BC'},\n",
      " {'course_id': u'DelftX/Calc001x/2T2015', 'name': u'Pre-University Calculus'},\n",
      " {'course_id': u'course-v1:DelftX+Calc001x+2T2016',\n",
      "  'name': u'Pre-University Calculus'},\n",
      " {'course_id': u'course-v1:DelftX+Calc001x+3T2016',\n",
      "  'name': u'Pre-University Calculus'}]\n"
     ]
    }
   ],
   "source": [
    "## PUTTING IT ALL TOGETHER\n",
    "\n",
    "# We can apply a query rewriter to a search engine\n",
    "# to create a new search engine that runs the\n",
    "# query rewriter on all incoming searches and returns\n",
    "# all results it gets from the queries\n",
    "\n",
    "# For example, imagine trying the Word2Vec rewriter\n",
    "# on the edX search engine \n",
    "w2v_edx_engine = search.RewritingSearchEngine(w2v_rewriter, edx_engine)\n",
    "rewritten_results = w2v_edx_engine.search(\"calculus\")\n",
    "pprint(rewritten_results)"
   ]
  },
  {
   "cell_type": "code",
   "execution_count": null,
   "metadata": {
    "collapsed": true
   },
   "outputs": [],
   "source": []
  }
 ],
 "metadata": {
  "anaconda-cloud": {},
  "kernelspec": {
   "display_name": "Python [default]",
   "language": "python",
   "name": "python2"
  },
  "language_info": {
   "codemirror_mode": {
    "name": "ipython",
    "version": 2
   },
   "file_extension": ".py",
   "mimetype": "text/x-python",
   "name": "python",
   "nbconvert_exporter": "python",
   "pygments_lexer": "ipython2",
   "version": "2.7.12"
  }
 },
 "nbformat": 4,
 "nbformat_minor": 2
}
