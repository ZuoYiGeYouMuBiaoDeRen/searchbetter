{
 "cells": [
  {
   "cell_type": "code",
   "execution_count": 4,
   "metadata": {
    "collapsed": false
   },
   "outputs": [
    {
     "name": "stdout",
     "output_type": "stream",
     "text": [
      "[{'slug': u'grand-central-dispatch-gcd--ud576',\n",
      "  'title': u'Grand Central Dispatch (GCD)'},\n",
      " {'slug': u'intro-to-ios-app-development-with-swift--ud585',\n",
      "  'title': u'Intro to iOS App Development with Swift'},\n",
      " {'slug': u'swift-for-beginners--ud1022', 'title': u'Swift for Beginners'},\n",
      " {'slug': u'server-side-swift--ud1031', 'title': u'Server-Side Swift'},\n",
      " {'slug': u'learn-swift-programming-syntax--ud902',\n",
      "  'title': u'Learn Swift Programming Syntax'},\n",
      " {'slug': u'ios-persistence-and-core-data--ud325',\n",
      "  'title': u'iOS Persistence and Core Data'}]\n"
     ]
    }
   ],
   "source": [
    "from pprint import pprint\n",
    "\n",
    "import search\n",
    "reload(search)\n",
    "\n",
    "# reopen index, but reload it instead of creating it afresh\n",
    "udacity_se = search.UdacitySearchEngine(create=False)\n",
    "    \n",
    "# dictionary of results\n",
    "results = udacity_se.search(\"apple\")\n",
    "pprint(results)"
   ]
  },
  {
   "cell_type": "code",
   "execution_count": null,
   "metadata": {
    "collapsed": true
   },
   "outputs": [],
   "source": []
  }
 ],
 "metadata": {
  "kernelspec": {
   "display_name": "Python 2",
   "language": "python",
   "name": "python2"
  },
  "language_info": {
   "codemirror_mode": {
    "name": "ipython",
    "version": 2
   },
   "file_extension": ".py",
   "mimetype": "text/x-python",
   "name": "python",
   "nbconvert_exporter": "python",
   "pygments_lexer": "ipython2",
   "version": "2.7.13"
  }
 },
 "nbformat": 4,
 "nbformat_minor": 2
}
