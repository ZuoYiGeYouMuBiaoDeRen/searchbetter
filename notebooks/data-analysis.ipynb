{
 "cells": [
  {
   "cell_type": "code",
   "execution_count": null,
   "metadata": {
    "collapsed": false
   },
   "outputs": [],
   "source": [
    "import sys\n",
    "sys.path.append('../')\n",
    "sys.path.append('../src/')\n",
    "\n",
    "import pandas\n",
    "import scipy\n",
    "import numpy as np\n",
    "from pprint import pprint\n",
    "\n",
    "from gensim.models.phrases import *\n",
    "\n",
    "import gensim.models as models\n",
    "import gensim.models.word2vec as word2vec\n",
    "import secure\n",
    "\n",
    "import searchbetter.search as search\n",
    "reload(search)\n",
    "import searchbetter.rewriter as rewriter\n",
    "reload(rewriter)\n",
    "import analysis.plots as plots\n",
    "reload(plots)\n",
    "\n",
    "import plotly\n",
    "import plotly.graph_objs as go\n",
    "import plotly.offline as py\n",
    "\n",
    "import webcolors\n",
    "\n",
    "py.init_notebook_mode()\n",
    "\n",
    "\n",
    "# definitions and stuff\n",
    "\n",
    "# colors plotly uses\n",
    "\n",
    "colors = [\n",
    "    '#1f77b4', # blue\n",
    "    '#ff7f0e', # orange\n",
    "    '#2ca02c', # green\n",
    "    '#d62728', # red\n",
    "    '#9467bd'  # purple\n",
    "]\n",
    "\n",
    "# need to convert, e.g., #FF0000 to 'rgb(255,0,0)'\n",
    "rgb_colors = [webcolors.hex_to_rgb(color) for color in colors]\n",
    "color_strings = ['rgb(%s,%s,%s)' % (c[0], c[1], c[2]) for c in rgb_colors]"
   ]
  },
  {
   "cell_type": "code",
   "execution_count": 4,
   "metadata": {
    "collapsed": false
   },
   "outputs": [],
   "source": [
    "model_path = secure.MODEL_PATH_BASE+'word2vec/word2vec'\n",
    "w2v_rewriter = rewriter.Word2VecRewriter(model_path, create=False)\n",
    "\n",
    "# Create a search engine that searches over all edX courses.\n",
    "# Under the hood, this uses Python's Whoosh library to index\n",
    "# the course data stored in a CSV and then run searches against it.\n",
    "dataset_path = secure.DATASET_PATH_BASE+'Master CourseListings - edX.csv'\n",
    "index_path = secure.INDEX_PATH_BASE+'edx'\n",
    "edx_engine = search.EdXSearchEngine(dataset_path, index_path, create=False)\n",
    "\n",
    "# comparison testing\n",
    "\n",
    "rewriters = [\n",
    "    rewriter.ControlRewriter(),\n",
    "    rewriter.WikipediaRewriter(),\n",
    "    w2v_rewriter\n",
    "]"
   ]
  },
  {
   "cell_type": "code",
   "execution_count": null,
   "metadata": {
    "collapsed": false
   },
   "outputs": [],
   "source": [
    "def stats(term):\n",
    "    ans = [num_results(term, rw) for rw in rewriters]\n",
    "    ans = [term] + ans\n",
    "    return ans\n",
    "    \n",
    "    \n",
    "def num_results(term, rw):\n",
    "    edx_engine.set_rewriter(rw)\n",
    "    results = edx_engine.search(term)\n",
    "    num_results = len(results)\n",
    "    return num_results\n",
    "\n",
    "\n",
    "with open('../test/test-search-terms/generic.txt', 'r') as f:\n",
    "    # read terms but chop the newlines at the end of each line\n",
    "    terms = [line.rstrip('\\n') for line in f]\n",
    "    data = [stats(term) for term in terms]\n",
    "\n",
    "df = pandas.DataFrame(columns=[\"term\",\"control\",\"wiki\",\"word2vec\"],data=data)"
   ]
  },
  {
   "cell_type": "code",
   "execution_count": null,
   "metadata": {
    "collapsed": true
   },
   "outputs": [],
   "source": [
    "control_hits = list(df['control'])\n",
    "wiki_hits = list(df['wiki'])\n",
    "w2v_hits = list(df['word2vec'])"
   ]
  },
  {
   "cell_type": "code",
   "execution_count": null,
   "metadata": {
    "collapsed": false
   },
   "outputs": [],
   "source": [
    "# reference: https://plot.ly/python/reference/#scattergl\n",
    "\n",
    "traceControl = go.Scattergl(\n",
    "    x = control_hits,\n",
    "    y = control_hits,\n",
    "    mode = 'lines',\n",
    "    name = 'Control (no rewriting)',\n",
    "    hoverinfo = 'text+name',\n",
    "#     opacity = 0.3,\n",
    "    line = dict(\n",
    "#         color = 'rgb(0,0,0)',\n",
    "#         opacity = 0.3\n",
    "        color = color_strings[0]\n",
    "    )\n",
    ")\n",
    "\n",
    "# plot wiki\n",
    "wikiTraces = plots.plotSeriesWithRegression(\n",
    "    control_hits, wiki_hits, name='Wikipedia Categories', color=color_strings[1])\n",
    "w2vTraces = plots.plotSeriesWithRegression(\n",
    "    control_hits, wiki_hits, name='Word2Vec', color=color_strings[2])\n",
    "\n",
    "plot = [traceControl] + w2vTraces + wikiTraces\n",
    "\n",
    "layout = go.Layout(\n",
    "    title='Effect of query rewriting on search engine hits (edX)',\n",
    "    xaxis=dict(\n",
    "        title='# hits before rewriting'\n",
    "    ),\n",
    "    yaxis=dict(\n",
    "        title='# hits after rewriting'\n",
    "    )\n",
    ")\n",
    "\n",
    "fig = go.Figure(data=plot, layout=layout)\n",
    "\n",
    "# Plot and embed in ipython notebook!\n",
    "py.iplot(fig)"
   ]
  },
  {
   "cell_type": "code",
   "execution_count": null,
   "metadata": {
    "collapsed": true
   },
   "outputs": [],
   "source": []
  },
  {
   "cell_type": "code",
   "execution_count": null,
   "metadata": {
    "collapsed": false
   },
   "outputs": [],
   "source": [
    "# more stats\n",
    "rewriter_names =[\n",
    "    'control',\n",
    "    'wiki',\n",
    "    'word2vec'\n",
    "]\n",
    "# series containing # of hits for each search term\n",
    "data_series = [df[name] for name in rewriter_names]\n",
    "average_hits = [s.mean() for s in data_series]\n",
    "\n",
    "# now filter on just those terms where the control gives nothing\n",
    "\n",
    "df_where_no_hits = df[df['control'] == 0]\n",
    "data_series_zero = [df_where_no_hits[name] for name in rewriter_names]\n",
    "average_hits_zero = [s.mean() for s in data_series_zero]\n",
    "\n",
    "\n",
    "# bar chart of hits\n",
    "\n",
    "# first trace: all search terms\n",
    "rewriter_fancy_names = [\n",
    "    'Control (no rewriting)',\n",
    "    'Wikipedia Categories',\n",
    "    'Word2Vec'\n",
    "]\n",
    "\n",
    "traceAllTerms = go.Bar(\n",
    "    x=rewriter_fancy_names,\n",
    "    y=average_hits,\n",
    "    name='All terms'\n",
    ")\n",
    "traceJustMisses = go.Bar(\n",
    "    x=rewriter_fancy_names,\n",
    "    y=average_hits_zero,\n",
    "    name='Terms where no hits by default'\n",
    ")\n",
    "\n",
    "traces = [traceAllTerms, traceJustMisses]\n",
    "layout = go.Layout(\n",
    "    barmode='group',\n",
    "    title='Average hits per rewriter (edX)',\n",
    "    xaxis=dict(\n",
    "        title='Query rewriter'\n",
    "    ),\n",
    "    yaxis=dict(\n",
    "        title='Average # hits'\n",
    "    )\n",
    ")\n",
    "\n",
    "fig = go.Figure(data=traces, layout=layout)\n",
    "py.iplot(fig)"
   ]
  },
  {
   "cell_type": "code",
   "execution_count": null,
   "metadata": {
    "collapsed": true
   },
   "outputs": [],
   "source": [
    "# summarize it all into a df\n",
    "\n",
    "# each row = a rewriter, each col = a condition (all terms, terms w/ no hits by default)\n",
    "# entry = mean\n",
    "\n"
   ]
  },
  {
   "cell_type": "code",
   "execution_count": null,
   "metadata": {
    "collapsed": true
   },
   "outputs": [],
   "source": [
    "def summary_of_frame(df):\n",
    "    \"\"\"\n",
    "    Returns a dataframe containing the mean and standard deviation of the dataframe.\n",
    "    \"\"\"\n",
    "    means = df.mean()\n",
    "    stds = df.std()\n",
    "    summary = pd.concat([means, stds], axis=1)\n",
    "    summary.columns = ['mean', 'std']\n",
    "    return summary"
   ]
  },
  {
   "cell_type": "code",
   "execution_count": null,
   "metadata": {
    "collapsed": false
   },
   "outputs": [],
   "source": [
    "summary_of_frame(df)"
   ]
  },
  {
   "cell_type": "code",
   "execution_count": null,
   "metadata": {
    "collapsed": false
   },
   "outputs": [],
   "source": [
    "misses_df = df[df['control'] == 0]"
   ]
  },
  {
   "cell_type": "code",
   "execution_count": null,
   "metadata": {
    "collapsed": false
   },
   "outputs": [],
   "source": [
    "summary_of_frame(misses_df)"
   ]
  },
  {
   "cell_type": "code",
   "execution_count": null,
   "metadata": {
    "collapsed": true
   },
   "outputs": [],
   "source": []
  },
  {
   "cell_type": "code",
   "execution_count": null,
   "metadata": {
    "collapsed": false
   },
   "outputs": [],
   "source": [
    "non_failures = df[(df['control'] > 0) | (df['wiki'] > 0) | (df['word2vec'] > 0)]"
   ]
  },
  {
   "cell_type": "code",
   "execution_count": null,
   "metadata": {
    "collapsed": false
   },
   "outputs": [],
   "source": [
    "summary_of_frame(non_failures)"
   ]
  },
  {
   "cell_type": "code",
   "execution_count": null,
   "metadata": {
    "collapsed": false
   },
   "outputs": [],
   "source": [
    "non_failures_zero = non_failures[non_failures['control'] == 0]"
   ]
  },
  {
   "cell_type": "code",
   "execution_count": null,
   "metadata": {
    "collapsed": false
   },
   "outputs": [],
   "source": [
    "summary_of_frame(non_failures_zero)"
   ]
  },
  {
   "cell_type": "code",
   "execution_count": null,
   "metadata": {
    "collapsed": true
   },
   "outputs": [],
   "source": [
    "# TODO add error bars\n",
    "# TODO try better queries maybe??"
   ]
  },
  {
   "cell_type": "code",
   "execution_count": null,
   "metadata": {
    "collapsed": true
   },
   "outputs": [],
   "source": []
  },
  {
   "cell_type": "code",
   "execution_count": null,
   "metadata": {
    "collapsed": true
   },
   "outputs": [],
   "source": []
  },
  {
   "cell_type": "code",
   "execution_count": null,
   "metadata": {
    "collapsed": true
   },
   "outputs": [],
   "source": []
  },
  {
   "cell_type": "code",
   "execution_count": null,
   "metadata": {
    "collapsed": true
   },
   "outputs": [],
   "source": []
  },
  {
   "cell_type": "code",
   "execution_count": null,
   "metadata": {
    "collapsed": true
   },
   "outputs": [],
   "source": []
  },
  {
   "cell_type": "code",
   "execution_count": null,
   "metadata": {
    "collapsed": true
   },
   "outputs": [],
   "source": []
  }
 ],
 "metadata": {
  "anaconda-cloud": {},
  "kernelspec": {
   "display_name": "Python [default]",
   "language": "python",
   "name": "python2"
  },
  "language_info": {
   "codemirror_mode": {
    "name": "ipython",
    "version": 2
   },
   "file_extension": ".py",
   "mimetype": "text/x-python",
   "name": "python",
   "nbconvert_exporter": "python",
   "pygments_lexer": "ipython2",
   "version": "2.7.12"
  }
 },
 "nbformat": 4,
 "nbformat_minor": 2
}
