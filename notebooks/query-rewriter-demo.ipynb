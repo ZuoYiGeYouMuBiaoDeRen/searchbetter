{
 "cells": [
  {
   "cell_type": "code",
   "execution_count": 2,
   "metadata": {
    "collapsed": true
   },
   "outputs": [],
   "source": [
    "### FORMAL DEMOS\n",
    "import sys\n",
    "sys.path.append('../')"
   ]
  },
  {
   "cell_type": "code",
   "execution_count": 3,
   "metadata": {
    "collapsed": false
   },
   "outputs": [
    {
     "name": "stdout",
     "output_type": "stream",
     "text": [
      "[{'course_id': u'MITx/7.28.1x/1T2015', 'name': u'Molecular Biology'},\n",
      " {'course_id': u'course-v1:RICEx+AdvBIOx+3T2016',\n",
      "  'name': u'AP\\xc2\\xae Biology'},\n",
      " {'course_id': u'course-v1:HarvardX+MCB64.1x+2T2016',\n",
      "  'name': u'Cell Biology: Mitochondria'},\n",
      " {'course_id': u'course-v1:IEEEx+SysBio1x+2016_T1',\n",
      "  'name': u'Introduction to Systems Biology.'},\n",
      " {'course_id': u'course-v1:IEEEx+SysBio1x+3T2016',\n",
      "  'name': u'Introduction to Systems Biology.'},\n",
      " {'course_id': u'MITx/7.QBWx/2T2014',\n",
      "  'name': u'Quantitative Biology Workshop'},\n",
      " {'course_id': u'MITx/7.QBW_1x/1T2015',\n",
      "  'name': u'Quantitative Biology Workshop'},\n",
      " {'course_id': u'course-v1:MITx+20.305x+3T2015',\n",
      "  'name': u'Principles of Synthetic Biology'},\n",
      " {'course_id': u'course-v1:MITx+7.QBWx_3+1T2016',\n",
      "  'name': u'Quantitative Biology Workshop'},\n",
      " {'course_id': u'course-v1:MITx+7.QBWx_4+3T2016',\n",
      "  'name': u'Quantitative Biology Workshop'}]\n"
     ]
    }
   ],
   "source": [
    "## SEARCH ENGINE DEMOS\n",
    "from pprint import pprint\n",
    "\n",
    "import searchbetter.search as search\n",
    "reload(search)\n",
    "\n",
    "import secure\n",
    "\n",
    "# Create a search engine that searches over all edX courses.\n",
    "# Under the hood, this uses Python's Whoosh library to index\n",
    "# the course data stored in a CSV and then run searches against it.\n",
    "dataset_path = secure.DATASET_PATH_BASE+'Master CourseListings - edX.csv'\n",
    "index_path = secure.INDEX_PATH_BASE+'edx'\n",
    "edx_engine = search.EdXSearchEngine(dataset_path, index_path, create=False)\n",
    "\n",
    "# We expose a simple searching API\n",
    "edx_results = edx_engine.search(\"biology\")\n",
    "pprint(edx_results)\n",
    "\n",
    "# You could also search over HarvardX resources or Udacity courses\n",
    "# with similar classes!"
   ]
  },
  {
   "cell_type": "code",
   "execution_count": 9,
   "metadata": {
    "collapsed": false
   },
   "outputs": [
    {
     "name": "stdout",
     "output_type": "stream",
     "text": [
      "['classical mechanics',\n",
      " 'commons category with local link different than on wikidata',\n",
      " 'concepts in physics',\n",
      " 'copernican revolution',\n",
      " 'engvarb from july 2014',\n",
      " 'experimental physics',\n",
      " 'history of physics',\n",
      " \"newton's laws of motion\"]\n",
      "[u'communism',\n",
      " u'capitalism',\n",
      " u'ideology',\n",
      " u'fascism',\n",
      " u'liberalism',\n",
      " u'marxism',\n",
      " u'marxist',\n",
      " u'laissez faire',\n",
      " u'imperialism',\n",
      " u'nationalism',\n",
      " u'socialism']\n"
     ]
    }
   ],
   "source": [
    "## QUERY REWRITING DEMOS\n",
    "\n",
    "import gensim.models.word2vec as word2vec\n",
    "import secure\n",
    "import searchbetter.rewriter as rewriter\n",
    "reload(rewriter)\n",
    "\n",
    "# Query rewriting lets you turn a single search query into\n",
    "# multiple related queries. You can then search for *all*\n",
    "# of these queries, which can result in more and more useful\n",
    "# results than just the original query would give.\n",
    "\n",
    "# First, a rewriter that uses the Wikipedia category API\n",
    "# to find terms related to the original term\n",
    "wiki_rewriter = rewriter.WikipediaRewriter()\n",
    "wiki_rewritten_queries = wiki_rewriter.rewrite(\"newton's laws of motion\")\n",
    "pprint(wiki_rewritten_queries)\n",
    "\n",
    "\n",
    "# Second, a rewriter that uses Word2Vec to find similar\n",
    "# words to the entered term. This is a machine learning\n",
    "# algorithm trained on a large text corpus.\n",
    "# Prepare the corpus (from Wikipedia) to use for the Word2Vec Rewriter.\n",
    "corpus = word2vec.LineSentence(secure.DATASET_PATH_BASE + 'wikiclean8')\n",
    "\n",
    "# Now make the rewriter...\n",
    "model_path = secure.MODEL_PATH_BASE+'word2vec/word2vec'\n",
    "# w2v_rewriter = rewriter.Word2VecRewriter(model_path, create=True, corpus=corpus, bigrams=True)\n",
    "w2v_rewriter = rewriter.Word2VecRewriter(model_path, create=False)\n",
    "w2v_rewritten_queries = w2v_rewriter.rewrite(\"socialism\")\n",
    "pprint(w2v_rewritten_queries)"
   ]
  },
  {
   "cell_type": "code",
   "execution_count": null,
   "metadata": {
    "collapsed": true
   },
   "outputs": [],
   "source": []
  },
  {
   "cell_type": "code",
   "execution_count": 5,
   "metadata": {
    "collapsed": false
   },
   "outputs": [
    {
     "name": "stdout",
     "output_type": "stream",
     "text": [
      "[{'course_id': u'CaltechX/BEM1105x/1T2015',\n",
      "  'name': u'Pricing Options with Mathematical Models'},\n",
      " {'course_id': u'course-v1:CaltechX+BEM1105x+3T2015',\n",
      "  'name': u'Pricing Options with Mathematical Models'},\n",
      " {'course_id': u'course-v1:CaltechX+BEM1105x+1T2016',\n",
      "  'name': u'Pricing Options with Mathematical Models'},\n",
      " {'course_id': u'course-v1:CaltechX+BEM1105x+3T2016',\n",
      "  'name': u'Pricing Options with Mathematical Models'},\n",
      " {'course_id': u'SchoolYourself/GeometryX/1T2015',\n",
      "  'name': u'Introduction to Geometry'},\n",
      " {'course_id': u'course-v1:SchoolYourself+GeometryX+2T2016',\n",
      "  'name': u'Introduction to Geometry'},\n",
      " {'course_id': u'course-v1:TsinghuaX+70240183x+3T2015',\n",
      "  'name': u'Computational Geometry'},\n",
      " {'course_id': u'course-v1:TsinghuaX+70240183x+3T2016',\n",
      "  'name': u'Computational Geometry'},\n",
      " {'course_id': u'course-v1:TeachForAmericaX+HSMATH2.1x+3T2016',\n",
      "  'name': u'How to Teach High School Geometry'},\n",
      " {'course_id': u'SchoolYourself/AlgebraX/1T2015',\n",
      "  'name': u'Introduction to Algebra'}]\n"
     ]
    }
   ],
   "source": [
    "## PUTTING IT ALL TOGETHER\n",
    "\n",
    "# We can apply a query rewriter to a search engine\n",
    "# to create a new search engine that runs the\n",
    "# query rewriter on all incoming searches and returns\n",
    "# all results it gets from the queries\n",
    "\n",
    "# For example, imagine trying the Word2Vec rewriter\n",
    "# on the edX search engine \n",
    "w2v_edx_engine = search.RewritingSearchEngine(w2v_rewriter, edx_engine)\n",
    "rewritten_results = w2v_edx_engine.search(\"calculus\")\n",
    "pprint(rewritten_results[0:10])"
   ]
  },
  {
   "cell_type": "code",
   "execution_count": null,
   "metadata": {
    "collapsed": true
   },
   "outputs": [],
   "source": []
  }
 ],
 "metadata": {
  "anaconda-cloud": {},
  "kernelspec": {
   "display_name": "Python [default]",
   "language": "python",
   "name": "python2"
  },
  "language_info": {
   "codemirror_mode": {
    "name": "ipython",
    "version": 2
   },
   "file_extension": ".py",
   "mimetype": "text/x-python",
   "name": "python",
   "nbconvert_exporter": "python",
   "pygments_lexer": "ipython2",
   "version": "2.7.12"
  }
 },
 "nbformat": 4,
 "nbformat_minor": 2
}
