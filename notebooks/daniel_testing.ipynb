{
 "cells": [
  {
   "cell_type": "code",
   "execution_count": 1,
   "metadata": {
    "collapsed": false
   },
   "outputs": [],
   "source": [
    "from pprint import pprint\n",
    "import sys\n",
    "sys.path.append('../')\n",
    "\n",
    "import search\n",
    "reload(search)\n",
    "\n",
    "# reopen index, but reload it instead of creating it afresh\n",
    "udacity_se = search.UdacitySearchEngine(create=False)\n",
    "\n",
    "# dictionary of results\n",
    "results = udacity_se.search(\"computer\")"
   ]
  },
  {
   "cell_type": "code",
   "execution_count": 2,
   "metadata": {
    "collapsed": false
   },
   "outputs": [
    {
     "data": {
      "text/html": [
       "<div>Total Number of Results 10</div>"
      ],
      "text/plain": [
       "<IPython.core.display.HTML object>"
      ]
     },
     "metadata": {},
     "output_type": "display_data"
    },
    {
     "data": {
      "text/html": [
       "\n",
       "    <div>\n",
       "        <div>\n",
       "            <img class=\"pull-left\" src=https://lh3.googleusercontent.com/s2S7Q8NyH4OlJ8Evfgdm08DDn9xyT6gUsbxZd3eN9Fpr9p_QAnZZfocSbgFG0uwvBQC4vElFS_zJ5btSRg=s0#w=1440&h=780 width=6%/>\n",
       "        </div>\n",
       "        <div style=\"padding-left: 2cm;\">\n",
       "            <h5>1. Intro to Computer Science</h5>(intro-to-computer-science--cs101)\n",
       "        </div>\n",
       "    </div>\n"
      ],
      "text/plain": [
       "<IPython.core.display.HTML object>"
      ]
     },
     "metadata": {},
     "output_type": "display_data"
    },
    {
     "data": {
      "text/html": [
       "\n",
       "    <div>\n",
       "        <div>\n",
       "            <img class=\"pull-left\" src=https://lh3.googleusercontent.com/s2S7Q8NyH4OlJ8Evfgdm08DDn9xyT6gUsbxZd3eN9Fpr9p_QAnZZfocSbgFG0uwvBQC4vElFS_zJ5btSRg=s0#w=1440&h=780 width=6%/>\n",
       "        </div>\n",
       "        <div style=\"padding-left: 2cm;\">\n",
       "            <h5>2. Computer Networking</h5>(computer-networking--ud436)\n",
       "        </div>\n",
       "    </div>\n"
      ],
      "text/plain": [
       "<IPython.core.display.HTML object>"
      ]
     },
     "metadata": {},
     "output_type": "display_data"
    },
    {
     "data": {
      "text/html": [
       "\n",
       "    <div>\n",
       "        <div>\n",
       "            <img class=\"pull-left\" src=https://lh3.googleusercontent.com/s2S7Q8NyH4OlJ8Evfgdm08DDn9xyT6gUsbxZd3eN9Fpr9p_QAnZZfocSbgFG0uwvBQC4vElFS_zJ5btSRg=s0#w=1440&h=780 width=6%/>\n",
       "        </div>\n",
       "        <div style=\"padding-left: 2cm;\">\n",
       "            <h5>3. Intro to Theoretical Computer Science</h5>(intro-to-theoretical-computer-science--cs313)\n",
       "        </div>\n",
       "    </div>\n"
      ],
      "text/plain": [
       "<IPython.core.display.HTML object>"
      ]
     },
     "metadata": {},
     "output_type": "display_data"
    },
    {
     "data": {
      "text/html": [
       "\n",
       "    <div>\n",
       "        <div>\n",
       "            <img class=\"pull-left\" src=https://lh3.googleusercontent.com/s2S7Q8NyH4OlJ8Evfgdm08DDn9xyT6gUsbxZd3eN9Fpr9p_QAnZZfocSbgFG0uwvBQC4vElFS_zJ5btSRg=s0#w=1440&h=780 width=6%/>\n",
       "        </div>\n",
       "        <div style=\"padding-left: 2cm;\">\n",
       "            <h5>4. Introduction to Computer Vision</h5>(introduction-to-computer-vision--ud810)\n",
       "        </div>\n",
       "    </div>\n"
      ],
      "text/plain": [
       "<IPython.core.display.HTML object>"
      ]
     },
     "metadata": {},
     "output_type": "display_data"
    },
    {
     "data": {
      "text/html": [
       "\n",
       "    <div>\n",
       "        <div>\n",
       "            <img class=\"pull-left\" src=https://lh3.googleusercontent.com/s2S7Q8NyH4OlJ8Evfgdm08DDn9xyT6gUsbxZd3eN9Fpr9p_QAnZZfocSbgFG0uwvBQC4vElFS_zJ5btSRg=s0#w=1440&h=780 width=6%/>\n",
       "        </div>\n",
       "        <div style=\"padding-left: 2cm;\">\n",
       "            <h5>5. Interactive 3D Graphics</h5>(interactive-3d-graphics--cs291)\n",
       "        </div>\n",
       "    </div>\n"
      ],
      "text/plain": [
       "<IPython.core.display.HTML object>"
      ]
     },
     "metadata": {},
     "output_type": "display_data"
    },
    {
     "data": {
      "text/html": [
       "\n",
       "    <div>\n",
       "        <div>\n",
       "            <img class=\"pull-left\" src=https://lh3.googleusercontent.com/s2S7Q8NyH4OlJ8Evfgdm08DDn9xyT6gUsbxZd3eN9Fpr9p_QAnZZfocSbgFG0uwvBQC4vElFS_zJ5btSRg=s0#w=1440&h=780 width=6%/>\n",
       "        </div>\n",
       "        <div style=\"padding-left: 2cm;\">\n",
       "            <h5>6. High Performance Computer Architecture</h5>(high-performance-computer-architecture--ud007)\n",
       "        </div>\n",
       "    </div>\n"
      ],
      "text/plain": [
       "<IPython.core.display.HTML object>"
      ]
     },
     "metadata": {},
     "output_type": "display_data"
    },
    {
     "data": {
      "text/html": [
       "\n",
       "    <div>\n",
       "        <div>\n",
       "            <img class=\"pull-left\" src=https://lh3.googleusercontent.com/s2S7Q8NyH4OlJ8Evfgdm08DDn9xyT6gUsbxZd3eN9Fpr9p_QAnZZfocSbgFG0uwvBQC4vElFS_zJ5btSRg=s0#w=1440&h=780 width=6%/>\n",
       "        </div>\n",
       "        <div style=\"padding-left: 2cm;\">\n",
       "            <h5>7. Intro to Artificial Intelligence</h5>(intro-to-artificial-intelligence--cs271)\n",
       "        </div>\n",
       "    </div>\n"
      ],
      "text/plain": [
       "<IPython.core.display.HTML object>"
      ]
     },
     "metadata": {},
     "output_type": "display_data"
    },
    {
     "data": {
      "text/html": [
       "\n",
       "    <div>\n",
       "        <div>\n",
       "            <img class=\"pull-left\" src=https://lh3.googleusercontent.com/s2S7Q8NyH4OlJ8Evfgdm08DDn9xyT6gUsbxZd3eN9Fpr9p_QAnZZfocSbgFG0uwvBQC4vElFS_zJ5btSRg=s0#w=1440&h=780 width=6%/>\n",
       "        </div>\n",
       "        <div style=\"padding-left: 2cm;\">\n",
       "            <h5>8. Intro to Java Programming</h5>(intro-to-java-programming--cs046)\n",
       "        </div>\n",
       "    </div>\n"
      ],
      "text/plain": [
       "<IPython.core.display.HTML object>"
      ]
     },
     "metadata": {},
     "output_type": "display_data"
    },
    {
     "data": {
      "text/html": [
       "\n",
       "    <div>\n",
       "        <div>\n",
       "            <img class=\"pull-left\" src=https://lh3.googleusercontent.com/s2S7Q8NyH4OlJ8Evfgdm08DDn9xyT6gUsbxZd3eN9Fpr9p_QAnZZfocSbgFG0uwvBQC4vElFS_zJ5btSRg=s0#w=1440&h=780 width=6%/>\n",
       "        </div>\n",
       "        <div style=\"padding-left: 2cm;\">\n",
       "            <h5>9. Intro to Information Security</h5>(intro-to-information-security--ud459)\n",
       "        </div>\n",
       "    </div>\n"
      ],
      "text/plain": [
       "<IPython.core.display.HTML object>"
      ]
     },
     "metadata": {},
     "output_type": "display_data"
    },
    {
     "data": {
      "text/html": [
       "\n",
       "    <div>\n",
       "        <div>\n",
       "            <img class=\"pull-left\" src=https://lh3.googleusercontent.com/s2S7Q8NyH4OlJ8Evfgdm08DDn9xyT6gUsbxZd3eN9Fpr9p_QAnZZfocSbgFG0uwvBQC4vElFS_zJ5btSRg=s0#w=1440&h=780 width=6%/>\n",
       "        </div>\n",
       "        <div style=\"padding-left: 2cm;\">\n",
       "            <h5>10. 2D Game Development with libGDX</h5>(2d-game-development-with-libgdx--ud405)\n",
       "        </div>\n",
       "    </div>\n"
      ],
      "text/plain": [
       "<IPython.core.display.HTML object>"
      ]
     },
     "metadata": {},
     "output_type": "display_data"
    }
   ],
   "source": [
    "from IPython.core.display import display, HTML\n",
    "\n",
    "tmp_img_url = \"https://lh3.googleusercontent.com/s2S7Q8NyH4OlJ8Evfgdm08DDn9xyT6gUsbxZd3eN9Fpr9p_QAnZZfocSbgFG0uwvBQC4vElFS_zJ5btSRg=s0#w=1440&h=780\"\n",
    "template = \"\"\"\n",
    "    <div>\n",
    "        <div>\n",
    "            <img class=\"pull-left\" src={} width=6%/>\n",
    "        </div>\n",
    "        <div style=\"padding-left: 2cm;\">\n",
    "            <h5>{}. {}</h5>({})\n",
    "        </div>\n",
    "    </div>\n",
    "\"\"\"\n",
    "\n",
    "display(HTML('<div>Total Number of Results {}</div>'.format(len(results))))\n",
    "for i,r in enumerate(results):\n",
    "    display(HTML(template.format(tmp_img_url,i+1,r['title'],r['slug'])))"
   ]
  },
  {
   "cell_type": "code",
   "execution_count": 3,
   "metadata": {
    "collapsed": false
   },
   "outputs": [
    {
     "data": {
      "text/html": [
       "<div><h4>There are also ways to pass things to cells, but requires a bit more coding.</h4></div>"
      ],
      "text/plain": [
       "<IPython.core.display.HTML object>"
      ]
     },
     "metadata": {},
     "output_type": "display_data"
    }
   ],
   "source": [
    "%%HTML\n",
    "<div><h4>There are also ways to pass things to cells, but requires a bit more coding.</h4></div>"
   ]
  },
  {
   "cell_type": "code",
   "execution_count": 57,
   "metadata": {
    "collapsed": false
   },
   "outputs": [
    {
     "name": "stdout",
     "output_type": "stream",
     "text": [
      "[]\n",
      "neural networks\n",
      "('neural networks', 2, 2)\n",
      "['apodidae', 'birds by common name']\n",
      "apodidae birds by common name swift\n",
      "('swift', 9, 9)\n",
      "['corporate finance', 'entrepreneurship', 'equity securities', 'private equity']\n",
      "corporate finance entrepreneurship equity securities private equity venture capital\n",
      "('venture capital', 1, 1)\n",
      "[]\n",
      "object-oriented programming\n",
      "('object-oriented programming', 6, 6)\n",
      "[]\n",
      "deep learning\n",
      "('deep learning', 1, 1)\n",
      "['1999 software', 'apple inc. operating systems', 'apple inc. software', 'computer-related introductions in 1999', 'macos', 'mac os']\n",
      "1999 software apple inc. operating systems apple inc. software computer-related introductions in 1999 macos mac os macOS\n",
      "('macOS', 0, 0)\n",
      "['cognitive science', 'psychology']\n",
      "cognitive science psychology cognition\n",
      "('cognition', 1, 4)\n",
      "['surnames']\n",
      "surnames einstein\n",
      "('einstein', 2, 2)\n",
      "['biotechnology', 'molecular biology']\n",
      "biotechnology molecular biology biochemistry\n",
      "('biochemistry', 0, 1)\n"
     ]
    }
   ],
   "source": [
    "import rewriter\n",
    "reload(rewriter)\n",
    "\n",
    "searches = [\n",
    "    \"neural networks\",\n",
    "    \"swift\",\n",
    "    \"venture capital\",\n",
    "    \"object-oriented programming\",\n",
    "    \"deep learning\",\n",
    "    \"macOS\",\n",
    "    \"cognition\",\n",
    "    \"einstein\",\n",
    "    \"biochemistry\"\n",
    "]\n",
    "\n",
    "udacity_se = search.UdacitySearchEngine(create=False)\n",
    "rw = rewriter.WikipediaRewriter()\n",
    "cw = rewriter.ControlRewriter()\n",
    "\n",
    "wikidacity = rewriter.RewritingSearchEngine(rw, udacity_se)\n",
    "plaindacity = rewriter.RewritingSearchEngine(cw, udacity_se)\n",
    "\n",
    "for query in searches:\n",
    "    # normal results\n",
    "    num_plain_results = len(plaindacity.search(query))\n",
    "    \n",
    "    # with wikipedia rewriting\n",
    "    num_wiki_results = len(wikidacity.search(query))\n",
    "    \n",
    "    print (query, num_plain_results, num_wiki_results)"
   ]
  },
  {
   "cell_type": "code",
   "execution_count": 36,
   "metadata": {
    "collapsed": false
   },
   "outputs": [],
   "source": [
    "import json\n",
    "with open('../datasets/udacity-api.json', 'r') as f:\n",
    "    J = json.load(f)"
   ]
  },
  {
   "cell_type": "code",
   "execution_count": null,
   "metadata": {
    "collapsed": false
   },
   "outputs": [],
   "source": [
    "len(J['courses'])"
   ]
  },
  {
   "cell_type": "code",
   "execution_count": null,
   "metadata": {
    "collapsed": true
   },
   "outputs": [],
   "source": [
    "sys.path.append('../../explore_dart_recker/')\n",
    "import recker_prototype"
   ]
  },
  {
   "cell_type": "code",
   "execution_count": 22,
   "metadata": {
    "collapsed": false
   },
   "outputs": [
    {
     "name": "stdout",
     "output_type": "stream",
     "text": [
      "200\n",
      "{u'batchcomplete': u'',\n",
      " u'query': {u'normalized': [{u'from': u'cognition', u'to': u'Cognition'}],\n",
      "            u'pages': {u'106238': {u'categories': [{u'ns': 14,\n",
      "                                                    u'title': u'Category:All accuracy disputes'},\n",
      "                                                   {u'ns': 14,\n",
      "                                                    u'title': u'Category:All articles with unsourced statements'},\n",
      "                                                   {u'ns': 14,\n",
      "                                                    u'title': u'Category:Articles with disputed statements from September 2013'},\n",
      "                                                   {u'ns': 14,\n",
      "                                                    u'title': u'Category:Articles with unsourced statements from May 2013'},\n",
      "                                                   {u'ns': 14,\n",
      "                                                    u'title': u'Category:Articles with unsourced statements from September 2013'},\n",
      "                                                   {u'ns': 14,\n",
      "                                                    u'title': u'Category:Cognition'},\n",
      "                                                   {u'ns': 14,\n",
      "                                                    u'title': u'Category:Cognitive science'},\n",
      "                                                   {u'ns': 14,\n",
      "                                                    u'title': u'Category:Psychology'},\n",
      "                                                   {u'ns': 14,\n",
      "                                                    u'title': u'Category:Wikipedia articles needing page number citations from December 2012'},\n",
      "                                                   {u'ns': 14,\n",
      "                                                    u'title': u'Category:Wikipedia articles with GND identifiers'}],\n",
      "                                   u'ns': 0,\n",
      "                                   u'pageid': 106238,\n",
      "                                   u'title': u'Cognition'}}}}\n"
     ]
    }
   ],
   "source": [
    "import requests\n",
    "resp = requests.get(\"http://en.wikipedia.org/w/api.php?action=query&prop=categories&format=json&titles=cognition\")\n",
    "print(resp.status_code)   #  200\n",
    "pprint(resp.json())"
   ]
  },
  {
   "cell_type": "code",
   "execution_count": 34,
   "metadata": {
    "collapsed": false
   },
   "outputs": [
    {
     "data": {
      "text/plain": [
       "[u'Cognition', u'Cognitive science', u'Psychology']"
      ]
     },
     "execution_count": 34,
     "metadata": {},
     "output_type": "execute_result"
    }
   ],
   "source": [
    "categories = resp.json()['query']['pages']['106238']['categories']\n",
    "\n",
    "dropwords = ['Articles', 'Wikipedia', 'accuracy', 'All']\n",
    "[w['title'].split('Category:')[-1] for w in categories if not any(d in w['title'] for d in dropwords)]\n"
   ]
  },
  {
   "cell_type": "code",
   "execution_count": null,
   "metadata": {
    "collapsed": true
   },
   "outputs": [],
   "source": []
  }
 ],
 "metadata": {
  "anaconda-cloud": {},
  "kernelspec": {
   "display_name": "Python [default]",
   "language": "python",
   "name": "python2"
  },
  "language_info": {
   "codemirror_mode": {
    "name": "ipython",
    "version": 2
   },
   "file_extension": ".py",
   "mimetype": "text/x-python",
   "name": "python",
   "nbconvert_exporter": "python",
   "pygments_lexer": "ipython2",
   "version": "2.7.12"
  }
 },
 "nbformat": 4,
 "nbformat_minor": 2
}
