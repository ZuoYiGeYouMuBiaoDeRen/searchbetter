{
 "cells": [
  {
   "cell_type": "code",
   "execution_count": 1,
   "metadata": {
    "collapsed": false
   },
   "outputs": [
    {
     "data": {
      "text/plain": [
       "<module 'searchbetter.rewriter' from '../searchbetter/rewriter.pyc'>"
      ]
     },
     "execution_count": 1,
     "metadata": {},
     "output_type": "execute_result"
    }
   ],
   "source": [
    "import sys\n",
    "sys.path.append('../')\n",
    "\n",
    "from lxml import etree\n",
    "import abc\n",
    "import re\n",
    "import requests\n",
    "import pandas\n",
    "\n",
    "from gensim.models.phrases import *\n",
    "\n",
    "import gensim.models as models\n",
    "import gensim.models.word2vec as word2vec\n",
    "import secure\n",
    "\n",
    "import searchbetter.search as search\n",
    "reload(search)\n",
    "import searchbetter.rewriter as rewriter\n",
    "reload(rewriter)\n"
   ]
  },
  {
   "cell_type": "code",
   "execution_count": null,
   "metadata": {
    "collapsed": true
   },
   "outputs": [],
   "source": []
  },
  {
   "cell_type": "markdown",
   "metadata": {},
   "source": [
    "# NEW CHECKPOINT 4/17 5:18p"
   ]
  },
  {
   "cell_type": "code",
   "execution_count": 4,
   "metadata": {
    "collapsed": false
   },
   "outputs": [],
   "source": [
    "import searchbetter.rewriter as rewriter \n",
    "reload(rewriter)\n",
    "import secure\n",
    "\n",
    "model_path = secure.MODEL_PATH_BASE+'word2vec/word2vec'\n",
    "w2v_rewriter = rewriter.Word2VecRewriter(model_path, create=False)"
   ]
  },
  {
   "cell_type": "code",
   "execution_count": null,
   "metadata": {
    "collapsed": true
   },
   "outputs": [],
   "source": []
  },
  {
   "cell_type": "code",
   "execution_count": 5,
   "metadata": {
    "collapsed": false
   },
   "outputs": [
    {
     "data": {
      "text/plain": [
       "[u'philadelphia',\n",
       " u'los angeles',\n",
       " u'london',\n",
       " u'boston',\n",
       " u'chicago',\n",
       " u'princeton',\n",
       " u'seattle',\n",
       " u'chicago illinois',\n",
       " u'san francisco',\n",
       " u'ny',\n",
       " u'New York']"
      ]
     },
     "execution_count": 5,
     "metadata": {},
     "output_type": "execute_result"
    }
   ],
   "source": [
    "w2v_rewriter.rewrite(\"New York\")"
   ]
  },
  {
   "cell_type": "code",
   "execution_count": 6,
   "metadata": {
    "collapsed": false
   },
   "outputs": [],
   "source": [
    "## SEARCH ENGINE DEMOS\n",
    "from pprint import pprint\n",
    "\n",
    "import searchbetter.search as search\n",
    "reload(search)\n",
    "\n",
    "import secure\n",
    "\n",
    "# Create a search engine that searches over all edX courses.\n",
    "# Under the hood, this uses Python's Whoosh library to index\n",
    "# the course data stored in a CSV and then run searches against it.\n",
    "dataset_path = secure.DATASET_PATH_BASE+'Master CourseListings - edX.csv'\n",
    "index_path = secure.INDEX_PATH_BASE+'edx'\n",
    "edx_engine = search.EdXSearchEngine(dataset_path, index_path, create=False)"
   ]
  },
  {
   "cell_type": "code",
   "execution_count": 7,
   "metadata": {
    "collapsed": false
   },
   "outputs": [
    {
     "data": {
      "text/plain": [
       "[{'course_id': u'DavidsonX/D.001x/3T2014', 'name': u'Medicinal Chemistry'},\n",
       " {'course_id': u'course-v1:DavidsonX+D001x+3T2015',\n",
       "  'name': u'Medicinal Chemistry'},\n",
       " {'course_id': u'course-v1:CooperUnion+Chem.1x+2T2016',\n",
       "  'name': u'Preparing for CLEP Chemistry: Part 1'},\n",
       " {'course_id': u'course-v1:CooperUnion+Chem.2x+2T2016',\n",
       "  'name': u'Preparing for CLEP Chemistry: Part 2'},\n",
       " {'course_id': u'MITx/3.091x_2/1T2014',\n",
       "  'name': u'Introduction to Solid State Chemistry'},\n",
       " {'course_id': u'MITx/3.091x_3/3T2014',\n",
       "  'name': u'Introduction to Solid State Chemistry'},\n",
       " {'course_id': u'course-v1:MITx+3.091x_4+1T2015',\n",
       "  'name': u'Introduction to Solid State Chemistry'},\n",
       " {'course_id': u'course-v1:MITx+3.091x_5+3T2015',\n",
       "  'name': u'Introduction to Solid State Chemistry'},\n",
       " {'course_id': u'course-v1:MITx+3.091x+3T2016',\n",
       "  'name': u'Introduction to Solid State Chemistry'},\n",
       " {'course_id': u'CooperUnion/Chem.1x/1T2015',\n",
       "  'name': u'Preparing for the AP* Chemistry Exam - Part 1'}]"
      ]
     },
     "execution_count": 7,
     "metadata": {},
     "output_type": "execute_result"
    }
   ],
   "source": [
    "edx_engine.search(\"chemistry\")"
   ]
  },
  {
   "cell_type": "code",
   "execution_count": null,
   "metadata": {
    "collapsed": true
   },
   "outputs": [],
   "source": []
  },
  {
   "cell_type": "code",
   "execution_count": null,
   "metadata": {
    "collapsed": true
   },
   "outputs": [],
   "source": []
  },
  {
   "cell_type": "markdown",
   "metadata": {},
   "source": [
    "## Testing"
   ]
  },
  {
   "cell_type": "code",
   "execution_count": 10,
   "metadata": {
    "collapsed": false
   },
   "outputs": [],
   "source": [
    "# comparison testing\n",
    "search_terms = [\n",
    "    \"chemical reaction\",\n",
    "    \"psychology\",\n",
    "    \"cognitive bias\",\n",
    "    \"machine learning\"\n",
    "]\n",
    "\n",
    "rewriters = [\n",
    "    rewriter.ControlRewriter(),\n",
    "    rewriter.WikipediaRewriter(),\n",
    "    w2v_rewriter\n",
    "]"
   ]
  },
  {
   "cell_type": "code",
   "execution_count": 54,
   "metadata": {
    "collapsed": false
   },
   "outputs": [],
   "source": [
    "\n",
    "def stats(term):\n",
    "    ans = [num_results(term, rw) for rw in rewriters]\n",
    "    ans = [term] + ans\n",
    "    return ans\n",
    "    \n",
    "    \n",
    "def num_results(term, rw):\n",
    "    edx_engine.set_rewriter(rw)\n",
    "    results = edx_engine.search(term)\n",
    "    num_results = len(results)\n",
    "    return num_results\n",
    "\n",
    "data = [stats(term) for term in search_terms]\n",
    "    \n",
    "#     results=  [[s['name'] for s in rr] for rr in raw_results]"
   ]
  },
  {
   "cell_type": "code",
   "execution_count": 58,
   "metadata": {
    "collapsed": false
   },
   "outputs": [],
   "source": [
    "df = pandas.DataFrame(columns=[\"term\",\"control\",\"wiki\",\"word2vec\"],data=data)"
   ]
  },
  {
   "cell_type": "code",
   "execution_count": 59,
   "metadata": {
    "collapsed": false
   },
   "outputs": [
    {
     "data": {
      "text/html": [
       "<div>\n",
       "<table border=\"1\" class=\"dataframe\">\n",
       "  <thead>\n",
       "    <tr style=\"text-align: right;\">\n",
       "      <th></th>\n",
       "      <th>term</th>\n",
       "      <th>control</th>\n",
       "      <th>wiki</th>\n",
       "      <th>word2vec</th>\n",
       "    </tr>\n",
       "  </thead>\n",
       "  <tbody>\n",
       "    <tr>\n",
       "      <th>0</th>\n",
       "      <td>chemical reaction</td>\n",
       "      <td>0</td>\n",
       "      <td>10</td>\n",
       "      <td>6</td>\n",
       "    </tr>\n",
       "    <tr>\n",
       "      <th>1</th>\n",
       "      <td>psychology</td>\n",
       "      <td>10</td>\n",
       "      <td>10</td>\n",
       "      <td>58</td>\n",
       "    </tr>\n",
       "    <tr>\n",
       "      <th>2</th>\n",
       "      <td>cognitive bias</td>\n",
       "      <td>0</td>\n",
       "      <td>4</td>\n",
       "      <td>8</td>\n",
       "    </tr>\n",
       "    <tr>\n",
       "      <th>3</th>\n",
       "      <td>machine learning</td>\n",
       "      <td>10</td>\n",
       "      <td>20</td>\n",
       "      <td>10</td>\n",
       "    </tr>\n",
       "  </tbody>\n",
       "</table>\n",
       "</div>"
      ],
      "text/plain": [
       "                term  control  wiki  word2vec\n",
       "0  chemical reaction        0    10         6\n",
       "1         psychology       10    10        58\n",
       "2     cognitive bias        0     4         8\n",
       "3   machine learning       10    20        10"
      ]
     },
     "execution_count": 59,
     "metadata": {},
     "output_type": "execute_result"
    }
   ],
   "source": [
    "df"
   ]
  },
  {
   "cell_type": "code",
   "execution_count": null,
   "metadata": {
    "collapsed": true
   },
   "outputs": [],
   "source": []
  }
 ],
 "metadata": {
  "anaconda-cloud": {},
  "kernelspec": {
   "display_name": "Python [default]",
   "language": "python",
   "name": "python2"
  },
  "language_info": {
   "codemirror_mode": {
    "name": "ipython",
    "version": 2
   },
   "file_extension": ".py",
   "mimetype": "text/x-python",
   "name": "python",
   "nbconvert_exporter": "python",
   "pygments_lexer": "ipython2",
   "version": "2.7.12"
  }
 },
 "nbformat": 4,
 "nbformat_minor": 2
}
