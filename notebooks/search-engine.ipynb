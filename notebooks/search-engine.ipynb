{
 "cells": [
  {
   "cell_type": "code",
   "execution_count": 5,
   "metadata": {
    "collapsed": false
   },
   "outputs": [
    {
     "data": {
      "text/plain": [
       "<module 'searchbetter.rewriter' from '../searchbetter/rewriter.pyc'>"
      ]
     },
     "execution_count": 5,
     "metadata": {},
     "output_type": "execute_result"
    }
   ],
   "source": [
    "import sys\n",
    "sys.path.append('../')\n",
    "\n",
    "from lxml import etree\n",
    "import abc\n",
    "import re\n",
    "import requests\n",
    "\n",
    "from gensim.models.phrases import *\n",
    "\n",
    "import gensim.models as models\n",
    "import gensim.models.word2vec as word2vec\n",
    "import secure\n",
    "\n",
    "import searchbetter.search as search\n",
    "reload(search)\n",
    "import searchbetter.rewriter as rewriter\n",
    "reload(rewriter)\n"
   ]
  },
  {
   "cell_type": "markdown",
   "metadata": {},
   "source": [
    "# NEW CHECKPOINT 4/17 5:18p"
   ]
  },
  {
   "cell_type": "code",
   "execution_count": 72,
   "metadata": {
    "collapsed": false
   },
   "outputs": [],
   "source": [
    "import searchbetter.rewriter as rewriter \n",
    "reload(rewriter)\n",
    "import secure\n",
    "\n",
    "model_path = secure.MODEL_PATH_BASE+'word2vec/word2vec'\n",
    "w2v_rewriter = rewriter.Word2VecRewriter(model_path, create=False)"
   ]
  },
  {
   "cell_type": "code",
   "execution_count": 75,
   "metadata": {
    "collapsed": false
   },
   "outputs": [
    {
     "data": {
      "text/plain": [
       "[u'philadelphia',\n",
       " u'los angeles',\n",
       " u'london',\n",
       " u'boston',\n",
       " u'chicago',\n",
       " u'princeton',\n",
       " u'seattle',\n",
       " u'chicago illinois',\n",
       " u'san francisco',\n",
       " u'ny',\n",
       " u'New York']"
      ]
     },
     "execution_count": 75,
     "metadata": {},
     "output_type": "execute_result"
    }
   ],
   "source": [
    "w2v_rewriter.rewrite(\"New York\")"
   ]
  },
  {
   "cell_type": "code",
   "execution_count": 87,
   "metadata": {
    "collapsed": false
   },
   "outputs": [],
   "source": [
    "## SEARCH ENGINE DEMOS\n",
    "from pprint import pprint\n",
    "\n",
    "import searchbetter.search as search\n",
    "reload(search)\n",
    "\n",
    "import secure\n",
    "\n",
    "# Create a search engine that searches over all edX courses.\n",
    "# Under the hood, this uses Python's Whoosh library to index\n",
    "# the course data stored in a CSV and then run searches against it.\n",
    "dataset_path = secure.DATASET_PATH_BASE+'Master CourseListings - edX.csv'\n",
    "index_path = secure.INDEX_PATH_BASE+'edx'\n",
    "edx_engine = search.EdXSearchEngine(dataset_path, index_path, create=False)"
   ]
  },
  {
   "cell_type": "code",
   "execution_count": 88,
   "metadata": {
    "collapsed": false
   },
   "outputs": [
    {
     "data": {
      "text/plain": [
       "[{'course_id': u'DavidsonX/D.001x/3T2014', 'name': u'Medicinal Chemistry'},\n",
       " {'course_id': u'course-v1:DavidsonX+D001x+3T2015',\n",
       "  'name': u'Medicinal Chemistry'},\n",
       " {'course_id': u'course-v1:CooperUnion+Chem.1x+2T2016',\n",
       "  'name': u'Preparing for CLEP Chemistry: Part 1'},\n",
       " {'course_id': u'course-v1:CooperUnion+Chem.2x+2T2016',\n",
       "  'name': u'Preparing for CLEP Chemistry: Part 2'},\n",
       " {'course_id': u'MITx/3.091x_2/1T2014',\n",
       "  'name': u'Introduction to Solid State Chemistry'},\n",
       " {'course_id': u'MITx/3.091x_3/3T2014',\n",
       "  'name': u'Introduction to Solid State Chemistry'},\n",
       " {'course_id': u'course-v1:MITx+3.091x_4+1T2015',\n",
       "  'name': u'Introduction to Solid State Chemistry'},\n",
       " {'course_id': u'course-v1:MITx+3.091x_5+3T2015',\n",
       "  'name': u'Introduction to Solid State Chemistry'},\n",
       " {'course_id': u'course-v1:MITx+3.091x+3T2016',\n",
       "  'name': u'Introduction to Solid State Chemistry'},\n",
       " {'course_id': u'CooperUnion/Chem.1x/1T2015',\n",
       "  'name': u'Preparing for the AP* Chemistry Exam - Part 1'}]"
      ]
     },
     "execution_count": 88,
     "metadata": {},
     "output_type": "execute_result"
    }
   ],
   "source": [
    "edx_engine.search(\"chemistry\")"
   ]
  },
  {
   "cell_type": "code",
   "execution_count": 89,
   "metadata": {
    "collapsed": true
   },
   "outputs": [],
   "source": [
    "edx_engine.set_rewriter(w2v_rewriter)"
   ]
  },
  {
   "cell_type": "code",
   "execution_count": 90,
   "metadata": {
    "collapsed": false
   },
   "outputs": [
    {
     "data": {
      "text/plain": [
       "[{'course_id': u'course-v1:HarvardX+MCB63X+3T2015',\n",
       "  'name': u'Principles of Biochemistry'},\n",
       " {'course_id': u'MITx/7.28.1x/1T2015', 'name': u'Molecular Biology'},\n",
       " {'course_id': u'course-v1:RICEx+AdvBIOx+3T2016',\n",
       "  'name': u'AP\\xc2\\xae Biology'},\n",
       " {'course_id': u'course-v1:HarvardX+MCB64.1x+2T2016',\n",
       "  'name': u'Cell Biology: Mitochondria'},\n",
       " {'course_id': u'course-v1:IEEEx+SysBio1x+2016_T1',\n",
       "  'name': u'Introduction to Systems Biology.'},\n",
       " {'course_id': u'course-v1:IEEEx+SysBio1x+3T2016',\n",
       "  'name': u'Introduction to Systems Biology.'},\n",
       " {'course_id': u'MITx/7.QBWx/2T2014',\n",
       "  'name': u'Quantitative Biology Workshop'},\n",
       " {'course_id': u'MITx/7.QBW_1x/1T2015',\n",
       "  'name': u'Quantitative Biology Workshop'},\n",
       " {'course_id': u'course-v1:MITx+20.305x+3T2015',\n",
       "  'name': u'Principles of Synthetic Biology'},\n",
       " {'course_id': u'course-v1:MITx+7.QBWx_3+1T2016',\n",
       "  'name': u'Quantitative Biology Workshop'},\n",
       " {'course_id': u'course-v1:MITx+7.QBWx_4+3T2016',\n",
       "  'name': u'Quantitative Biology Workshop'},\n",
       " {'course_id': u'course-v1:DavidsonNext+Phy_APccx+2T2015',\n",
       "  'name': u'AP\\xc2\\xae Physics: Challenging Concepts from Physics 1 & Physics 2'},\n",
       " {'course_id': u'BUx/PY1x/1T2015', 'name': u'AP\\xc2\\xae Physics 1'},\n",
       " {'course_id': u'course-v1:BUx+PY1x+3T2015', 'name': u'AP\\xc2\\xae Physics 1'},\n",
       " {'course_id': u'ccx-v1:BUx+PY1x+3T2016+ccx@17', 'name': u'AP Physics 1'},\n",
       " {'course_id': u'course-v1:RICEx+AdvPHY1x+2T2016',\n",
       "  'name': u'AP\\xc2\\xae Physics 1'},\n",
       " {'course_id': u'course-v1:RICEx+AdvPHY2x+3T2016',\n",
       "  'name': u'AP\\xc2\\xae Physics 2'},\n",
       " {'course_id': u'RiceX/AdvPHY2/3T2014', 'name': u'AP Physics 2'},\n",
       " {'course_id': u'course-v1:RiceX+AdvPHY2.3x+2016T1',\n",
       "  'name': u'AP\\xc2\\xae Physics 2 - Part 3: Optics and Modern Physics'},\n",
       " {'course_id': u'RiceX/AdvPHY2.3x/1T2015',\n",
       "  'name': u'AP\\xc2\\xae Physics 2 - Part 3: Optics and Modern Physics (Archived)'},\n",
       " {'course_id': u'ccx-v1:BUx+PY1x+3T2016+ccx@13', 'name': u'AHS AP Physics'},\n",
       " {'course_id': u'RiceX/MedDigX/2T2015',\n",
       "  'name': u'Medicine in the Digital Age'},\n",
       " {'course_id': u'course-v1:RiceX+MedDigX_+2015T2',\n",
       "  'name': u'Medicine in the Digital Age'},\n",
       " {'course_id': u'GeorgetownX/MEDX202-01/2014_SOND',\n",
       "  'name': u'Genomic Medicine Gets Personal'},\n",
       " {'course_id': u'course-v1:GeorgetownX+MEDX202-01+2015_3T',\n",
       "  'name': u'Genomic Medicine Gets Personal'},\n",
       " {'course_id': u'KIx/KIBEHMEDx/3T2014',\n",
       "  'name': u'Behavioral Medicine: A Key to Better Health'},\n",
       " {'course_id': u'course-v1:KIx+KIBEHMEDx+T1_2016',\n",
       "  'name': u'Behavioral Medicine: A Key to Better Health'},\n",
       " {'course_id': u'course-v1:KIx+KIBEHMEDx+3T2016',\n",
       "  'name': u'Behavioral Medicine: A Key to Better Health'},\n",
       " {'course_id': u'UTAustinX/UT.4.01x/2013_Sept',\n",
       "  'name': u'Take Your Medicine - The Impact of Drug Development'},\n",
       " {'course_id': u'course-v1:UTAustinX+UT.4.20x+3T2015',\n",
       "  'name': u'Take Your Medicine: How to Be a Savvy Consumer'},\n",
       " {'course_id': u'course-v1:MITx+3.054.2x+1T2016',\n",
       "  'name': u'Cellular Solids Part 2: Cellular Solids in Medicine'},\n",
       " {'course_id': u'MITx/7.28.1x/1T2015', 'name': u'Molecular Biology'},\n",
       " {'course_id': u'course-v1:MITx+7.28.2x+3T2015',\n",
       "  'name': u'Molecular Biology: Transcription and Transposition'},\n",
       " {'course_id': u'course-v1:MITx+7.28.2x_1+2T2016',\n",
       "  'name': u'Molecular Biology: Transcription and Transposition'},\n",
       " {'course_id': u'course-v1:MITx+7.28.1x_1+2T2015',\n",
       "  'name': u'Molecular Biology: DNA Replication and Repair'},\n",
       " {'course_id': u'course-v1:MITx+7.28.1x_2+2T2016',\n",
       "  'name': u'Molecular Biology: DNA Replication and Repair'},\n",
       " {'course_id': u'course-v1:MITx+7.28.3x+3T2016',\n",
       "  'name': u'Molecular Biology: RNA Processing and Translation'},\n",
       " {'course_id': u'HarvardX/CS50x/2014_T1',\n",
       "  'name': u'Introduction to Computer Science'},\n",
       " {'course_id': u'course-v1:HarvardX+CS50+X',\n",
       "  'name': u'Introduction to Computer Science'},\n",
       " {'course_id': u'HarvardX/CS50x3/2015',\n",
       "  'name': u'Introduction to Computer Science'},\n",
       " {'course_id': u'course-v1:HarvardX+CS50+AP',\n",
       "  'name': u'AP Computer Science Principles'},\n",
       " {'course_id': u'HarveyMuddX/CS001x/1T2015',\n",
       "  'name': u'MyCS: Computer Science for Beginners'},\n",
       " {'course_id': u'MITx/EECS.6.00x/3T2013',\n",
       "  'name': u'Introduction to Computer Science and Programming'},\n",
       " {'course_id': u'MITx/6.00.1x/3T2013',\n",
       "  'name': u'Introduction to Computer Science and Programming'},\n",
       " {'course_id': u'course-v1:UTAustinX+UT.WTCS.14.01x+1T2017',\n",
       "  'name': u'Foundations of Computer Science for Teachers'},\n",
       " {'course_id': u'course-v1:HarvardX+CS100000x+1T2016',\n",
       "  'name': u'Introduction to Computer Science Michele Test'},\n",
       " {'course_id': u'course-v1:PurdueX+CS180.1x+3T2016',\n",
       "  'name': u'AP Computer Science A: Java Programming'},\n",
       " {'course_id': u'course-v1:HarvardX+MCB64.1x+2T2016',\n",
       "  'name': u'Cell Biology: Mitochondria'},\n",
       " {'course_id': u'course-v1:RiceX+AdvBIO.1x+2015T3',\n",
       "  'name': u'AP\\xc2\\xae Biology - Part 1: The Cell'},\n",
       " {'course_id': u'RiceX/AdvBIO.1x/2014T3',\n",
       "  'name': u'AP\\xc2\\xae Biology - Part 1: The Cell (Archived)'},\n",
       " {'course_id': u'DavidsonX/D.001x/3T2014', 'name': u'Medicinal Chemistry'},\n",
       " {'course_id': u'course-v1:DavidsonX+D001x+3T2015',\n",
       "  'name': u'Medicinal Chemistry'},\n",
       " {'course_id': u'course-v1:CooperUnion+Chem.1x+2T2016',\n",
       "  'name': u'Preparing for CLEP Chemistry: Part 1'},\n",
       " {'course_id': u'course-v1:CooperUnion+Chem.2x+2T2016',\n",
       "  'name': u'Preparing for CLEP Chemistry: Part 2'},\n",
       " {'course_id': u'MITx/3.091x_2/1T2014',\n",
       "  'name': u'Introduction to Solid State Chemistry'},\n",
       " {'course_id': u'MITx/3.091x_3/3T2014',\n",
       "  'name': u'Introduction to Solid State Chemistry'},\n",
       " {'course_id': u'course-v1:MITx+3.091x_4+1T2015',\n",
       "  'name': u'Introduction to Solid State Chemistry'},\n",
       " {'course_id': u'course-v1:MITx+3.091x_5+3T2015',\n",
       "  'name': u'Introduction to Solid State Chemistry'},\n",
       " {'course_id': u'course-v1:MITx+3.091x+3T2016',\n",
       "  'name': u'Introduction to Solid State Chemistry'},\n",
       " {'course_id': u'CooperUnion/Chem.1x/1T2015',\n",
       "  'name': u'Preparing for the AP* Chemistry Exam - Part 1'}]"
      ]
     },
     "execution_count": 90,
     "metadata": {},
     "output_type": "execute_result"
    }
   ],
   "source": [
    "edx_engine.search(\"chemistry\")"
   ]
  },
  {
   "cell_type": "code",
   "execution_count": null,
   "metadata": {
    "collapsed": true
   },
   "outputs": [],
   "source": []
  },
  {
   "cell_type": "code",
   "execution_count": null,
   "metadata": {
    "collapsed": true
   },
   "outputs": [],
   "source": []
  },
  {
   "cell_type": "code",
   "execution_count": null,
   "metadata": {
    "collapsed": true
   },
   "outputs": [],
   "source": []
  },
  {
   "cell_type": "code",
   "execution_count": null,
   "metadata": {
    "collapsed": true
   },
   "outputs": [],
   "source": []
  },
  {
   "cell_type": "code",
   "execution_count": null,
   "metadata": {
    "collapsed": true
   },
   "outputs": [],
   "source": []
  },
  {
   "cell_type": "code",
   "execution_count": null,
   "metadata": {
    "collapsed": true
   },
   "outputs": [],
   "source": [
    "qrse = search.RewritingSearchEngine()"
   ]
  }
 ],
 "metadata": {
  "anaconda-cloud": {},
  "kernelspec": {
   "display_name": "Python [default]",
   "language": "python",
   "name": "python2"
  },
  "language_info": {
   "codemirror_mode": {
    "name": "ipython",
    "version": 2
   },
   "file_extension": ".py",
   "mimetype": "text/x-python",
   "name": "python",
   "nbconvert_exporter": "python",
   "pygments_lexer": "ipython2",
   "version": "2.7.12"
  }
 },
 "nbformat": 4,
 "nbformat_minor": 2
}
