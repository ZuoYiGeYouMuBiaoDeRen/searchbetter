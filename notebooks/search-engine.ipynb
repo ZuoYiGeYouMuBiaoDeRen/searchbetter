{
 "cells": [
  {
   "cell_type": "code",
   "execution_count": 1,
   "metadata": {
    "collapsed": false
   },
   "outputs": [
    {
     "data": {
      "text/plain": [
       "<module 'searchbetter.rewriter' from '../searchbetter/rewriter.pyc'>"
      ]
     },
     "execution_count": 1,
     "metadata": {},
     "output_type": "execute_result"
    }
   ],
   "source": [
    "import sys\n",
    "sys.path.append('../')\n",
    "\n",
    "from lxml import etree\n",
    "import abc\n",
    "import re\n",
    "import requests\n",
    "import pandas\n",
    "import scipy\n",
    "from pprint import pprint\n",
    "\n",
    "from gensim.models.phrases import *\n",
    "\n",
    "import gensim.models as models\n",
    "import gensim.models.word2vec as word2vec\n",
    "import secure\n",
    "\n",
    "import searchbetter.search as search\n",
    "reload(search)\n",
    "import searchbetter.rewriter as rewriter\n",
    "reload(rewriter)\n"
   ]
  },
  {
   "cell_type": "code",
   "execution_count": 2,
   "metadata": {
    "collapsed": false
   },
   "outputs": [],
   "source": [
    "import searchbetter.rewriter as rewriter \n",
    "reload(rewriter)\n",
    "import secure\n",
    "\n",
    "model_path = secure.MODEL_PATH_BASE+'word2vec/word2vec'\n",
    "w2v_rewriter = rewriter.Word2VecRewriter(model_path, create=False)"
   ]
  },
  {
   "cell_type": "code",
   "execution_count": 3,
   "metadata": {
    "collapsed": false
   },
   "outputs": [
    {
     "data": {
      "text/plain": [
       "[u'philadelphia',\n",
       " u'los angeles',\n",
       " u'london',\n",
       " u'boston',\n",
       " u'chicago',\n",
       " u'princeton',\n",
       " u'seattle',\n",
       " u'chicago illinois',\n",
       " u'san francisco',\n",
       " u'ny',\n",
       " u'New York']"
      ]
     },
     "execution_count": 3,
     "metadata": {},
     "output_type": "execute_result"
    }
   ],
   "source": [
    "w2v_rewriter.rewrite(\"New York\")"
   ]
  },
  {
   "cell_type": "code",
   "execution_count": 4,
   "metadata": {
    "collapsed": false
   },
   "outputs": [],
   "source": [
    "\n",
    "\n",
    "import searchbetter.search as search\n",
    "reload(search)\n",
    "\n",
    "import secure\n",
    "\n",
    "# Create a search engine that searches over all edX courses.\n",
    "# Under the hood, this uses Python's Whoosh library to index\n",
    "# the course data stored in a CSV and then run searches against it.\n",
    "dataset_path = secure.DATASET_PATH_BASE+'Master CourseListings - edX.csv'\n",
    "index_path = secure.INDEX_PATH_BASE+'edx'\n",
    "edx_engine = search.EdXSearchEngine(dataset_path, index_path, create=False)"
   ]
  },
  {
   "cell_type": "code",
   "execution_count": 5,
   "metadata": {
    "collapsed": false
   },
   "outputs": [
    {
     "data": {
      "text/plain": [
       "[{'course_id': u'DavidsonX/D.001x/3T2014', 'name': u'Medicinal Chemistry'},\n",
       " {'course_id': u'course-v1:DavidsonX+D001x+3T2015',\n",
       "  'name': u'Medicinal Chemistry'},\n",
       " {'course_id': u'course-v1:CooperUnion+Chem.1x+2T2016',\n",
       "  'name': u'Preparing for CLEP Chemistry: Part 1'},\n",
       " {'course_id': u'course-v1:CooperUnion+Chem.2x+2T2016',\n",
       "  'name': u'Preparing for CLEP Chemistry: Part 2'},\n",
       " {'course_id': u'MITx/3.091x_2/1T2014',\n",
       "  'name': u'Introduction to Solid State Chemistry'},\n",
       " {'course_id': u'MITx/3.091x_3/3T2014',\n",
       "  'name': u'Introduction to Solid State Chemistry'},\n",
       " {'course_id': u'course-v1:MITx+3.091x_4+1T2015',\n",
       "  'name': u'Introduction to Solid State Chemistry'},\n",
       " {'course_id': u'course-v1:MITx+3.091x_5+3T2015',\n",
       "  'name': u'Introduction to Solid State Chemistry'},\n",
       " {'course_id': u'course-v1:MITx+3.091x+3T2016',\n",
       "  'name': u'Introduction to Solid State Chemistry'},\n",
       " {'course_id': u'CooperUnion/Chem.1x/1T2015',\n",
       "  'name': u'Preparing for the AP* Chemistry Exam - Part 1'}]"
      ]
     },
     "execution_count": 5,
     "metadata": {},
     "output_type": "execute_result"
    }
   ],
   "source": [
    "edx_engine.search(\"chemistry\")"
   ]
  },
  {
   "cell_type": "markdown",
   "metadata": {},
   "source": [
    "## Testing"
   ]
  },
  {
   "cell_type": "code",
   "execution_count": 6,
   "metadata": {
    "collapsed": false
   },
   "outputs": [],
   "source": [
    "# comparison testingt\n",
    "# TODO load from file\n",
    "search_terms = [\n",
    "    \"chemical reaction\",\n",
    "    \"psychology\",\n",
    "    \"cognitive bias\",\n",
    "    \"machine learning\"\n",
    "]\n",
    "\n",
    "rewriters = [\n",
    "    rewriter.ControlRewriter(),\n",
    "    rewriter.WikipediaRewriter(),\n",
    "    w2v_rewriter\n",
    "]"
   ]
  },
  {
   "cell_type": "code",
   "execution_count": null,
   "metadata": {
    "collapsed": false
   },
   "outputs": [],
   "source": [
    "def stats(term):\n",
    "    ans = [num_results(term, rw) for rw in rewriters]\n",
    "    ans = [term] + ans\n",
    "    return ans\n",
    "    \n",
    "    \n",
    "def num_results(term, rw):\n",
    "    edx_engine.set_rewriter(rw)\n",
    "    results = edx_engine.search(term)\n",
    "    num_results = len(results)\n",
    "    return num_results\n",
    "\n",
    "with open('../test/test-search-terms/generic.txt', 'r') as f:\n",
    "    # read terms but chop the newlines at the end of each line\n",
    "    terms = [line.rstrip('\\n') for line in f]\n",
    "    data = [stats(term) for term in terms]\n",
    "\n",
    "df = pandas.DataFrame(columns=[\"term\",\"control\",\"wiki\",\"word2vec\"],data=data)"
   ]
  },
  {
   "cell_type": "code",
   "execution_count": null,
   "metadata": {
    "collapsed": false
   },
   "outputs": [],
   "source": [
    "import plotly\n",
    "import plotly.graph_objs as go\n",
    "import plotly.offline as py\n",
    "\n",
    "py.init_notebook_mode()"
   ]
  },
  {
   "cell_type": "code",
   "execution_count": null,
   "metadata": {
    "collapsed": false
   },
   "outputs": [],
   "source": [
    "df"
   ]
  },
  {
   "cell_type": "code",
   "execution_count": null,
   "metadata": {
    "collapsed": true
   },
   "outputs": [],
   "source": [
    "xs = list(df['control'])"
   ]
  },
  {
   "cell_type": "code",
   "execution_count": null,
   "metadata": {
    "collapsed": false
   },
   "outputs": [],
   "source": [
    "ys = list(df['wiki'])"
   ]
  },
  {
   "cell_type": "code",
   "execution_count": null,
   "metadata": {
    "collapsed": true
   },
   "outputs": [],
   "source": [
    "y2 = list(df['word2vec'])"
   ]
  },
  {
   "cell_type": "code",
   "execution_count": null,
   "metadata": {
    "collapsed": true
   },
   "outputs": [],
   "source": [
    "import webcolors\n",
    "# colors plotly uses\n",
    "\n",
    "colors = [\n",
    "    '#1f77b4', # blue\n",
    "    '#ff7f0e', # orange\n",
    "    '#2ca02c', # green\n",
    "    '#d62728', # red\n",
    "    '#9467bd'  # purple\n",
    "]\n",
    "\n",
    "# need to convert, e.g., #FF0000 to 'rgb(255,0,0)'\n",
    "rgb_colors = [webcolors.hex_to_rgb(color) for color in colors]\n",
    "color_strings = ['rgb(%s,%s,%s)' % (c[0], c[1], c[2]) for c in rgb_colors]"
   ]
  },
  {
   "cell_type": "code",
   "execution_count": null,
   "metadata": {
    "collapsed": false
   },
   "outputs": [],
   "source": [
    "# reference: https://plot.ly/python/reference/#scattergl\n",
    "\n",
    "traceControl = go.Scattergl(\n",
    "    x = xs,\n",
    "    y = xs,\n",
    "    mode = 'lines',\n",
    "    name = 'Control (no rewriting)',\n",
    "    hoverinfo = 'text+name',\n",
    "#     opacity = 0.3,\n",
    "    line = dict(\n",
    "#         color = 'rgb(0,0,0)',\n",
    "#         opacity = 0.3\n",
    "        color = color_strings[0]\n",
    "    )\n",
    ")\n",
    "\n",
    "traceWiki = go.Scattergl(\n",
    "    x = xs,\n",
    "    y = ys,\n",
    "    mode = 'markers',\n",
    "    name = 'Wiki',\n",
    "    marker = dict(\n",
    "        color = color_strings[1],\n",
    "        opacity = 0.5,\n",
    "        size = 12,\n",
    "        line = dict(\n",
    "            width = 2,\n",
    "            color = 'rgb(0, 0, 0)'\n",
    "        )\n",
    "#         width = 5\n",
    "\n",
    "    )\n",
    ")\n",
    "\n",
    "traceWikiLOBF = go.Scattergl(\n",
    "    x = np.unique(xs),\n",
    "    y = np.poly1d(np.polyfit(xs, ys, 1))(np.unique(xs)),\n",
    "    mode = 'lines',\n",
    "    name = 'WikiLOBF',\n",
    "    hoverinfo = 'text+name',\n",
    "    line = dict(\n",
    "        color = color_strings[1]\n",
    "    )\n",
    ")\n",
    "\n",
    "traceWord2Vec = go.Scattergl(\n",
    "    x = xs,\n",
    "    y = y2,\n",
    "    mode = 'markers',\n",
    "    name = 'Word2Vec',\n",
    "    marker = dict(\n",
    "        color = color_strings[2],\n",
    "        opacity = 0.5,\n",
    "        size = 12,\n",
    "        line = dict(\n",
    "            width = 2,\n",
    "            color = 'rgb(0, 0, 0)'\n",
    "        )\n",
    "#         width = 5\n",
    "#         color = 'rgba(255,0,0,0.2)'\n",
    "    )\n",
    ")\n",
    "\n",
    "traceWord2VecLOBF = go.Scattergl(\n",
    "    x = np.unique(xs),\n",
    "    y = np.poly1d(np.polyfit(xs, y2, 1))(np.unique(xs)),\n",
    "    mode = 'lines',\n",
    "    name = 'Word2VecLOBF',\n",
    "    hoverinfo = 'text+name',\n",
    "    line = dict(\n",
    "        color = color_strings[2]\n",
    "    )\n",
    ")\n",
    "\n",
    "\n",
    "def plotSeriesWithRegression(xs, ys, name, color):\n",
    "    # setting legend group lets user toggle the series AND its\n",
    "    # line of best fit together\n",
    "    legendgroup_name = '%s group' % name\n",
    "    \n",
    "    # plot points\n",
    "    traceScatter = go.Scattergl(\n",
    "        x = xs,\n",
    "        y = ys,\n",
    "        mode = 'markers',\n",
    "        name = name,\n",
    "        legendgroup = legendgroup_name,\n",
    "        marker = dict(\n",
    "            color = color,\n",
    "            opacity = 0.5,\n",
    "            size = 12,\n",
    "            line = dict(\n",
    "                width = 2,\n",
    "                color = 'rgb(0, 0, 0)'\n",
    "            )\n",
    "        )\n",
    "    )\n",
    "    \n",
    "    # plot line of best fit\n",
    "    slope, intercept, r_value, p_value, std_err = scipy.stats.linregress(xs, ys)\n",
    "    line_of_best_fit = np.poly1d([slope, intercept])\n",
    "    r_squared = r_value ** 2\n",
    "    \n",
    "    # to show line of best fit\n",
    "    # y = %.2fx + %.2f, r^2 = %.2f' % (slope, intercept, r_squared),\n",
    "    \n",
    "    traceRegression = go.Scattergl(\n",
    "        x = np.unique(xs),\n",
    "        y = line_of_best_fit(np.unique(xs)),\n",
    "        mode = 'lines',\n",
    "        name = name + ' linear regression',\n",
    "        legendgroup = legendgroup_name,\n",
    "        hoverinfo = 'text+name',\n",
    "        line = dict(\n",
    "            color = color\n",
    "        )\n",
    "    )\n",
    "    \n",
    "    return [traceScatter, traceRegression]\n",
    "\n",
    "\n",
    "# plot wiki\n",
    "wikiTraces = plotSeriesWithRegression(xs, ys, name='Wikipedia Categories', color=color_strings[1])\n",
    "w2vTraces = plotSeriesWithRegression(xs, y2, name='Word2Vec', color=color_strings[2])\n",
    "\n",
    "plot = [traceControl] + wikiTraces + w2vTraces\n",
    "\n",
    "layout = go.Layout(\n",
    "    title='Effect of query rewriting on search engine hits (Udacity)',\n",
    "    xaxis=dict(\n",
    "        title='# hits before rewriting'\n",
    "    ),\n",
    "    yaxis=dict(\n",
    "        title='# hits after rewriting'\n",
    "    )\n",
    ")\n",
    "\n",
    "fig = go.Figure(data=plot, layout=layout)\n",
    "\n",
    "# Plot and embed in ipython notebook!\n",
    "py.iplot(fig)"
   ]
  },
  {
   "cell_type": "code",
   "execution_count": null,
   "metadata": {
    "collapsed": true
   },
   "outputs": [],
   "source": []
  },
  {
   "cell_type": "code",
   "execution_count": null,
   "metadata": {
    "collapsed": true
   },
   "outputs": [],
   "source": []
  },
  {
   "cell_type": "code",
   "execution_count": null,
   "metadata": {
    "collapsed": true
   },
   "outputs": [],
   "source": []
  },
  {
   "cell_type": "code",
   "execution_count": null,
   "metadata": {
    "collapsed": true
   },
   "outputs": [],
   "source": []
  },
  {
   "cell_type": "code",
   "execution_count": null,
   "metadata": {
    "collapsed": true
   },
   "outputs": [],
   "source": []
  },
  {
   "cell_type": "code",
   "execution_count": null,
   "metadata": {
    "collapsed": true
   },
   "outputs": [],
   "source": []
  },
  {
   "cell_type": "code",
   "execution_count": null,
   "metadata": {
    "collapsed": true
   },
   "outputs": [],
   "source": []
  },
  {
   "cell_type": "code",
   "execution_count": null,
   "metadata": {
    "collapsed": true
   },
   "outputs": [],
   "source": []
  },
  {
   "cell_type": "code",
   "execution_count": null,
   "metadata": {
    "collapsed": true
   },
   "outputs": [],
   "source": []
  },
  {
   "cell_type": "code",
   "execution_count": null,
   "metadata": {
    "collapsed": true
   },
   "outputs": [],
   "source": []
  },
  {
   "cell_type": "code",
   "execution_count": null,
   "metadata": {
    "collapsed": true
   },
   "outputs": [],
   "source": []
  },
  {
   "cell_type": "code",
   "execution_count": null,
   "metadata": {
    "collapsed": true
   },
   "outputs": [],
   "source": []
  },
  {
   "cell_type": "code",
   "execution_count": null,
   "metadata": {
    "collapsed": true
   },
   "outputs": [],
   "source": []
  },
  {
   "cell_type": "code",
   "execution_count": null,
   "metadata": {
    "collapsed": false
   },
   "outputs": [],
   "source": [
    "np.poly1d(np.polyfit(xs, ys, 1))"
   ]
  },
  {
   "cell_type": "code",
   "execution_count": null,
   "metadata": {
    "collapsed": true
   },
   "outputs": [],
   "source": [
    "    coeffs, residual, _, _, _ = np.polyfit(xs, ys, 1, full=True)"
   ]
  },
  {
   "cell_type": "code",
   "execution_count": null,
   "metadata": {
    "collapsed": false
   },
   "outputs": [],
   "source": [
    "coeffs"
   ]
  },
  {
   "cell_type": "code",
   "execution_count": null,
   "metadata": {
    "collapsed": false
   },
   "outputs": [],
   "source": [
    "residual"
   ]
  },
  {
   "cell_type": "code",
   "execution_count": null,
   "metadata": {
    "collapsed": true
   },
   "outputs": [],
   "source": []
  },
  {
   "cell_type": "code",
   "execution_count": null,
   "metadata": {
    "collapsed": false
   },
   "outputs": [],
   "source": [
    "slope, intercept, r_value, p_value, std_err = scipy.stats.linregress(xs, ys)"
   ]
  },
  {
   "cell_type": "code",
   "execution_count": null,
   "metadata": {
    "collapsed": true
   },
   "outputs": [],
   "source": []
  },
  {
   "cell_type": "code",
   "execution_count": null,
   "metadata": {
    "collapsed": true
   },
   "outputs": [],
   "source": []
  },
  {
   "cell_type": "code",
   "execution_count": null,
   "metadata": {
    "collapsed": false
   },
   "outputs": [],
   "source": [
    "slope"
   ]
  },
  {
   "cell_type": "code",
   "execution_count": null,
   "metadata": {
    "collapsed": false
   },
   "outputs": [],
   "source": [
    "intercept"
   ]
  },
  {
   "cell_type": "code",
   "execution_count": null,
   "metadata": {
    "collapsed": false
   },
   "outputs": [],
   "source": [
    "r_value"
   ]
  },
  {
   "cell_type": "code",
   "execution_count": null,
   "metadata": {
    "collapsed": true
   },
   "outputs": [],
   "source": []
  },
  {
   "cell_type": "code",
   "execution_count": null,
   "metadata": {
    "collapsed": false
   },
   "outputs": [],
   "source": [
    "p_value"
   ]
  },
  {
   "cell_type": "code",
   "execution_count": null,
   "metadata": {
    "collapsed": false
   },
   "outputs": [],
   "source": [
    "np.poly1d([slope, intercept])"
   ]
  },
  {
   "cell_type": "code",
   "execution_count": null,
   "metadata": {
    "collapsed": true
   },
   "outputs": [],
   "source": []
  },
  {
   "cell_type": "code",
   "execution_count": null,
   "metadata": {
    "collapsed": true
   },
   "outputs": [],
   "source": []
  },
  {
   "cell_type": "code",
   "execution_count": null,
   "metadata": {
    "collapsed": true
   },
   "outputs": [],
   "source": []
  },
  {
   "cell_type": "code",
   "execution_count": null,
   "metadata": {
    "collapsed": true
   },
   "outputs": [],
   "source": []
  },
  {
   "cell_type": "code",
   "execution_count": null,
   "metadata": {
    "collapsed": true
   },
   "outputs": [],
   "source": []
  },
  {
   "cell_type": "code",
   "execution_count": null,
   "metadata": {
    "collapsed": true
   },
   "outputs": [],
   "source": []
  },
  {
   "cell_type": "code",
   "execution_count": null,
   "metadata": {
    "collapsed": true
   },
   "outputs": [],
   "source": []
  },
  {
   "cell_type": "code",
   "execution_count": null,
   "metadata": {
    "collapsed": true
   },
   "outputs": [],
   "source": []
  },
  {
   "cell_type": "code",
   "execution_count": null,
   "metadata": {
    "collapsed": true
   },
   "outputs": [],
   "source": []
  },
  {
   "cell_type": "code",
   "execution_count": null,
   "metadata": {
    "collapsed": true
   },
   "outputs": [],
   "source": []
  },
  {
   "cell_type": "code",
   "execution_count": null,
   "metadata": {
    "collapsed": true
   },
   "outputs": [],
   "source": []
  },
  {
   "cell_type": "code",
   "execution_count": null,
   "metadata": {
    "collapsed": true
   },
   "outputs": [],
   "source": []
  },
  {
   "cell_type": "code",
   "execution_count": null,
   "metadata": {
    "collapsed": true
   },
   "outputs": [],
   "source": []
  },
  {
   "cell_type": "code",
   "execution_count": null,
   "metadata": {
    "collapsed": true
   },
   "outputs": [],
   "source": []
  },
  {
   "cell_type": "code",
   "execution_count": null,
   "metadata": {
    "collapsed": true
   },
   "outputs": [],
   "source": []
  },
  {
   "cell_type": "code",
   "execution_count": null,
   "metadata": {
    "collapsed": true
   },
   "outputs": [],
   "source": []
  },
  {
   "cell_type": "code",
   "execution_count": null,
   "metadata": {
    "collapsed": true
   },
   "outputs": [],
   "source": []
  },
  {
   "cell_type": "code",
   "execution_count": null,
   "metadata": {
    "collapsed": true
   },
   "outputs": [],
   "source": []
  },
  {
   "cell_type": "code",
   "execution_count": null,
   "metadata": {
    "collapsed": true
   },
   "outputs": [],
   "source": []
  },
  {
   "cell_type": "code",
   "execution_count": null,
   "metadata": {
    "collapsed": true
   },
   "outputs": [],
   "source": []
  },
  {
   "cell_type": "code",
   "execution_count": null,
   "metadata": {
    "collapsed": true
   },
   "outputs": [],
   "source": []
  },
  {
   "cell_type": "code",
   "execution_count": null,
   "metadata": {
    "collapsed": true
   },
   "outputs": [],
   "source": []
  },
  {
   "cell_type": "code",
   "execution_count": null,
   "metadata": {
    "collapsed": true
   },
   "outputs": [],
   "source": []
  },
  {
   "cell_type": "code",
   "execution_count": null,
   "metadata": {
    "collapsed": true
   },
   "outputs": [],
   "source": []
  },
  {
   "cell_type": "code",
   "execution_count": null,
   "metadata": {
    "collapsed": true
   },
   "outputs": [],
   "source": []
  },
  {
   "cell_type": "code",
   "execution_count": null,
   "metadata": {
    "collapsed": true
   },
   "outputs": [],
   "source": []
  },
  {
   "cell_type": "code",
   "execution_count": null,
   "metadata": {
    "collapsed": true
   },
   "outputs": [],
   "source": []
  },
  {
   "cell_type": "code",
   "execution_count": null,
   "metadata": {
    "collapsed": true
   },
   "outputs": [],
   "source": []
  },
  {
   "cell_type": "code",
   "execution_count": null,
   "metadata": {
    "collapsed": true
   },
   "outputs": [],
   "source": []
  },
  {
   "cell_type": "code",
   "execution_count": null,
   "metadata": {
    "collapsed": true
   },
   "outputs": [],
   "source": []
  },
  {
   "cell_type": "code",
   "execution_count": null,
   "metadata": {
    "collapsed": true
   },
   "outputs": [],
   "source": []
  },
  {
   "cell_type": "code",
   "execution_count": null,
   "metadata": {
    "collapsed": true
   },
   "outputs": [],
   "source": []
  },
  {
   "cell_type": "code",
   "execution_count": null,
   "metadata": {
    "collapsed": true
   },
   "outputs": [],
   "source": []
  },
  {
   "cell_type": "code",
   "execution_count": null,
   "metadata": {
    "collapsed": true
   },
   "outputs": [],
   "source": []
  },
  {
   "cell_type": "code",
   "execution_count": null,
   "metadata": {
    "collapsed": true
   },
   "outputs": [],
   "source": []
  },
  {
   "cell_type": "code",
   "execution_count": null,
   "metadata": {
    "collapsed": false
   },
   "outputs": [],
   "source": []
  },
  {
   "cell_type": "code",
   "execution_count": null,
   "metadata": {
    "collapsed": true
   },
   "outputs": [],
   "source": []
  },
  {
   "cell_type": "code",
   "execution_count": null,
   "metadata": {
    "collapsed": false
   },
   "outputs": [],
   "source": [
    "['rgb(%s,%s,%s)' % (c[0], c[1], c[2]) for c in rgb_colors]"
   ]
  },
  {
   "cell_type": "code",
   "execution_count": null,
   "metadata": {
    "collapsed": true
   },
   "outputs": [],
   "source": []
  },
  {
   "cell_type": "code",
   "execution_count": null,
   "metadata": {
    "collapsed": false
   },
   "outputs": [],
   "source": [
    "(1,2,3)[0]"
   ]
  },
  {
   "cell_type": "code",
   "execution_count": null,
   "metadata": {
    "collapsed": true
   },
   "outputs": [],
   "source": []
  },
  {
   "cell_type": "code",
   "execution_count": null,
   "metadata": {
    "collapsed": true
   },
   "outputs": [],
   "source": []
  },
  {
   "cell_type": "code",
   "execution_count": null,
   "metadata": {
    "collapsed": true
   },
   "outputs": [],
   "source": []
  },
  {
   "cell_type": "code",
   "execution_count": null,
   "metadata": {
    "collapsed": true
   },
   "outputs": [],
   "source": []
  },
  {
   "cell_type": "code",
   "execution_count": null,
   "metadata": {
    "collapsed": true
   },
   "outputs": [],
   "source": []
  },
  {
   "cell_type": "code",
   "execution_count": null,
   "metadata": {
    "collapsed": true
   },
   "outputs": [],
   "source": []
  },
  {
   "cell_type": "code",
   "execution_count": null,
   "metadata": {
    "collapsed": true
   },
   "outputs": [],
   "source": []
  },
  {
   "cell_type": "code",
   "execution_count": null,
   "metadata": {
    "collapsed": true
   },
   "outputs": [],
   "source": []
  },
  {
   "cell_type": "code",
   "execution_count": null,
   "metadata": {
    "collapsed": true
   },
   "outputs": [],
   "source": []
  },
  {
   "cell_type": "code",
   "execution_count": null,
   "metadata": {
    "collapsed": true
   },
   "outputs": [],
   "source": []
  },
  {
   "cell_type": "code",
   "execution_count": null,
   "metadata": {
    "collapsed": true
   },
   "outputs": [],
   "source": []
  },
  {
   "cell_type": "code",
   "execution_count": null,
   "metadata": {
    "collapsed": true
   },
   "outputs": [],
   "source": []
  },
  {
   "cell_type": "code",
   "execution_count": null,
   "metadata": {
    "collapsed": true
   },
   "outputs": [],
   "source": []
  },
  {
   "cell_type": "code",
   "execution_count": null,
   "metadata": {
    "collapsed": true
   },
   "outputs": [],
   "source": []
  },
  {
   "cell_type": "code",
   "execution_count": null,
   "metadata": {
    "collapsed": true
   },
   "outputs": [],
   "source": []
  },
  {
   "cell_type": "code",
   "execution_count": null,
   "metadata": {
    "collapsed": true
   },
   "outputs": [],
   "source": []
  },
  {
   "cell_type": "code",
   "execution_count": null,
   "metadata": {
    "collapsed": true
   },
   "outputs": [],
   "source": []
  },
  {
   "cell_type": "code",
   "execution_count": null,
   "metadata": {
    "collapsed": true
   },
   "outputs": [],
   "source": []
  },
  {
   "cell_type": "code",
   "execution_count": null,
   "metadata": {
    "collapsed": true
   },
   "outputs": [],
   "source": []
  },
  {
   "cell_type": "code",
   "execution_count": null,
   "metadata": {
    "collapsed": true
   },
   "outputs": [],
   "source": []
  },
  {
   "cell_type": "code",
   "execution_count": null,
   "metadata": {
    "collapsed": true
   },
   "outputs": [],
   "source": []
  }
 ],
 "metadata": {
  "anaconda-cloud": {},
  "kernelspec": {
   "display_name": "Python [default]",
   "language": "python",
   "name": "python2"
  },
  "language_info": {
   "codemirror_mode": {
    "name": "ipython",
    "version": 2
   },
   "file_extension": ".py",
   "mimetype": "text/x-python",
   "name": "python",
   "nbconvert_exporter": "python",
   "pygments_lexer": "ipython2",
   "version": "2.7.12"
  }
 },
 "nbformat": 4,
 "nbformat_minor": 2
}
