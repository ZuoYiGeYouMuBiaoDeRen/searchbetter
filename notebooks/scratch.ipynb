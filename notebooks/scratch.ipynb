{
 "cells": [
  {
   "cell_type": "code",
   "execution_count": null,
   "metadata": {
    "collapsed": true
   },
   "outputs": [],
   "source": [
    "# OPTIONAL: make a fancy display out of results\n",
    "\n",
    "from IPython.core.display import display, HTML\n",
    "\n",
    "def fancy_display(results):\n",
    "    \"\"\"\n",
    "    Fancy HTML display of results.\n",
    "    Results should be an array of dicts with properties:\n",
    "        name (str/unicode)\n",
    "        slug (str/unicode)\n",
    "    \"\"\"\n",
    "\n",
    "    tmp_img_url = \"https://lh3.googleusercontent.com/s2S7Q8NyH4OlJ8Evfgdm08DDn9xyT6gUsbxZd3eN9Fpr9p_QAnZZfocSbgFG0uwvBQC4vElFS_zJ5btSRg=s0#w=1440&h=780\"\n",
    "    template = \"\"\"\n",
    "        <div>\n",
    "            <div>\n",
    "                <img class=\"pull-left\" src={} width=6%/>\n",
    "            </div>\n",
    "            <div style=\"padding-left: 2cm;\">\n",
    "                <h5>{}. {}</h5>({})\n",
    "            </div>\n",
    "        </div>\n",
    "    \"\"\"\n",
    "\n",
    "    display(HTML('<div>Total Number of Results {}</div>'.format(len(results))))\n",
    "    for i,r in enumerate(results):\n",
    "        display(HTML(template.format(tmp_img_url,i+1,r['name'].encode('ascii', 'replace'),r['slug'].encode('ascii', 'replace'))))"
   ]
  }
 ],
 "metadata": {
  "anaconda-cloud": {},
  "kernelspec": {
   "display_name": "Python [default]",
   "language": "python",
   "name": "python2"
  },
  "language_info": {
   "codemirror_mode": {
    "name": "ipython",
    "version": 2
   },
   "file_extension": ".py",
   "mimetype": "text/x-python",
   "name": "python",
   "nbconvert_exporter": "python",
   "pygments_lexer": "ipython2",
   "version": "2.7.12"
  }
 },
 "nbformat": 4,
 "nbformat_minor": 2
}
