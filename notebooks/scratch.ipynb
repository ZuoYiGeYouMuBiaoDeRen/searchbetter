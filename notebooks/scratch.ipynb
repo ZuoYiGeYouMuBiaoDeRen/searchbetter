{
 "cells": [
  {
   "cell_type": "code",
   "execution_count": null,
   "metadata": {
    "collapsed": true
   },
   "outputs": [],
   "source": [
    "# OPTIONAL: make a fancy display out of results\n",
    "\n",
    "from IPython.core.display import display, HTML\n",
    "\n",
    "def fancy_display(results):\n",
    "    \"\"\"\n",
    "    Fancy HTML display of results.\n",
    "    Results should be an array of dicts with properties:\n",
    "        name (str/unicode)\n",
    "        slug (str/unicode)\n",
    "    \"\"\"\n",
    "\n",
    "    tmp_img_url = \"https://lh3.googleusercontent.com/s2S7Q8NyH4OlJ8Evfgdm08DDn9xyT6gUsbxZd3eN9Fpr9p_QAnZZfocSbgFG0uwvBQC4vElFS_zJ5btSRg=s0#w=1440&h=780\"\n",
    "    template = \"\"\"\n",
    "        <div>\n",
    "            <div>\n",
    "                <img class=\"pull-left\" src={} width=6%/>\n",
    "            </div>\n",
    "            <div style=\"padding-left: 2cm;\">\n",
    "                <h5>{}. {}</h5>({})\n",
    "            </div>\n",
    "        </div>\n",
    "    \"\"\"\n",
    "\n",
    "    display(HTML('<div>Total Number of Results {}</div>'.format(len(results))))\n",
    "    for i,r in enumerate(results):\n",
    "        display(HTML(template.format(tmp_img_url,i+1,r['name'].encode('ascii', 'replace'),r['slug'].encode('ascii', 'replace'))))"
   ]
  },
  {
   "cell_type": "code",
   "execution_count": null,
   "metadata": {
    "collapsed": true
   },
   "outputs": [],
   "source": []
  },
  {
   "cell_type": "code",
   "execution_count": 1,
   "metadata": {
    "collapsed": false
   },
   "outputs": [
    {
     "data": {
      "text/plain": [
       "<module 'searchbetter.rewriter' from '../searchbetter/rewriter.pyc'>"
      ]
     },
     "execution_count": 1,
     "metadata": {},
     "output_type": "execute_result"
    }
   ],
   "source": [
    "import sys\n",
    "sys.path.append('../')\n",
    "sys.path.append('../src/')\n",
    "\n",
    "import pandas\n",
    "import scipy\n",
    "import numpy as np\n",
    "from pprint import pprint\n",
    "\n",
    "from gensim.models.phrases import *\n",
    "\n",
    "import gensim.models as models\n",
    "import gensim.models.word2vec as word2vec\n",
    "import secure\n",
    "\n",
    "import searchbetter.search as search\n",
    "reload(search)\n",
    "import searchbetter.rewriter as rewriter\n",
    "reload(rewriter)\n"
   ]
  },
  {
   "cell_type": "code",
   "execution_count": null,
   "metadata": {
    "collapsed": true
   },
   "outputs": [],
   "source": []
  },
  {
   "cell_type": "code",
   "execution_count": null,
   "metadata": {
    "collapsed": true
   },
   "outputs": [],
   "source": []
  },
  {
   "cell_type": "code",
   "execution_count": 2,
   "metadata": {
    "collapsed": true
   },
   "outputs": [],
   "source": [
    "# Create a search engine that searches over all edX courses.\n",
    "# Under the hood, this uses Python's Whoosh library to index\n",
    "# the course data stored in a CSV and then run searches against it.\n",
    "dataset_path = secure.DATASET_PATH_BASE+'udacity-api.json'\n",
    "index_path = secure.INDEX_PATH_BASE+'udacity'\n",
    "\n",
    "# Use `create=False` if you've already made the search engine, `create=True` if this is\n",
    "# your first time making it. We cache the search indices behind search engines on disk.\n",
    "# UNCOMMENT IF YOU'RE RUNNING THIS FOR THE FIRST TIME\n",
    "# udacity_engine = search.UdacitySearchEngine(dataset_path, index_path, create=True)\n",
    "udacity_engine = search.UdacitySearchEngine(dataset_path, index_path, create=False)"
   ]
  },
  {
   "cell_type": "code",
   "execution_count": 3,
   "metadata": {
    "collapsed": false
   },
   "outputs": [
    {
     "data": {
      "text/plain": [
       "<searchbetter.search.UdacitySearchEngine at 0x1045ee290>"
      ]
     },
     "execution_count": 3,
     "metadata": {},
     "output_type": "execute_result"
    }
   ],
   "source": [
    "udacity_engine"
   ]
  },
  {
   "cell_type": "code",
   "execution_count": null,
   "metadata": {
    "collapsed": true
   },
   "outputs": [],
   "source": []
  },
  {
   "cell_type": "code",
   "execution_count": null,
   "metadata": {
    "collapsed": true
   },
   "outputs": [],
   "source": []
  },
  {
   "cell_type": "code",
   "execution_count": 4,
   "metadata": {
    "collapsed": true
   },
   "outputs": [],
   "source": [
    "## MAKE REWRITERS\n",
    "model_path = secure.MODEL_PATH_BASE+'word2vec/word2vec'\n",
    "w2v_rewriter = rewriter.Word2VecRewriter(model_path, create=False)"
   ]
  },
  {
   "cell_type": "code",
   "execution_count": null,
   "metadata": {
    "collapsed": true
   },
   "outputs": [],
   "source": []
  },
  {
   "cell_type": "code",
   "execution_count": 5,
   "metadata": {
    "collapsed": true
   },
   "outputs": [],
   "source": [
    "    SEARCH_FIELDS = [\n",
    "        'title',\n",
    "        'query',\n",
    "        'description'\n",
    "    ]\n",
    "\n",
    "index_path = secure.INDEX_PATH_BASE+'dart'\n",
    "dse = search.PrebuiltSearchEngine(SEARCH_FIELDS, index_path)"
   ]
  },
  {
   "cell_type": "code",
   "execution_count": 6,
   "metadata": {
    "collapsed": false
   },
   "outputs": [],
   "source": [
    "bio = dse.search('biology')"
   ]
  },
  {
   "cell_type": "code",
   "execution_count": null,
   "metadata": {
    "collapsed": true
   },
   "outputs": [],
   "source": []
  },
  {
   "cell_type": "code",
   "execution_count": 7,
   "metadata": {
    "collapsed": false
   },
   "outputs": [
    {
     "data": {
      "text/plain": [
       "463"
      ]
     },
     "execution_count": 7,
     "metadata": {},
     "output_type": "execute_result"
    }
   ],
   "source": [
    "len(bio)"
   ]
  },
  {
   "cell_type": "code",
   "execution_count": 8,
   "metadata": {
    "collapsed": true
   },
   "outputs": [],
   "source": [
    "dse.set_rewriter(w2v_rewriter)"
   ]
  },
  {
   "cell_type": "code",
   "execution_count": null,
   "metadata": {
    "collapsed": true
   },
   "outputs": [],
   "source": []
  },
  {
   "cell_type": "code",
   "execution_count": 10,
   "metadata": {
    "collapsed": false
   },
   "outputs": [
    {
     "name": "stdout",
     "output_type": "stream",
     "text": [
      "[(u'meiosis', 0.895240843296051), (u'interphase', 0.8882024884223938), (u'cell_division', 0.8864457607269287), (u'dna_replication', 0.8818225860595703), (u'metaphase', 0.8813681602478027), (u'centromere', 0.8685916662216187), (u'anaerobic_conditions', 0.8538564443588257), (u'fractionated', 0.850751519203186), (u'phosphorylation', 0.8489464521408081), (u'citric_acid', 0.8447400331497192)]\n"
     ]
    },
    {
     "data": {
      "text/plain": [
       "[u'meiosis',\n",
       " u'interphase',\n",
       " u'cell division',\n",
       " u'dna replication',\n",
       " u'metaphase',\n",
       " u'centromere',\n",
       " u'anaerobic conditions',\n",
       " u'fractionated',\n",
       " u'phosphorylation',\n",
       " u'citric acid',\n",
       " u'mitosis']"
      ]
     },
     "execution_count": 10,
     "metadata": {},
     "output_type": "execute_result"
    }
   ],
   "source": [
    "w2v_rewriter.rewrite(\"mitosis\")"
   ]
  },
  {
   "cell_type": "code",
   "execution_count": 11,
   "metadata": {
    "collapsed": false
   },
   "outputs": [
    {
     "name": "stdout",
     "output_type": "stream",
     "text": [
      "[(u'mitosis', 0.8864457011222839), (u'dna_replication', 0.8789602518081665), (u'meiosis', 0.8761456608772278), (u'recombination', 0.8670289516448975), (u'aerobic', 0.8641796112060547), (u'fertilization', 0.8534643650054932), (u'cavitation', 0.8419016003608704), (u'electric_currents', 0.8392415046691895), (u'chemical_reactions', 0.8347456455230713), (u'photosynthesis', 0.8329719305038452)]\n"
     ]
    },
    {
     "data": {
      "text/plain": [
       "[u'mitosis',\n",
       " u'dna replication',\n",
       " u'meiosis',\n",
       " u'recombination',\n",
       " u'aerobic',\n",
       " u'fertilization',\n",
       " u'cavitation',\n",
       " u'electric currents',\n",
       " u'chemical reactions',\n",
       " u'photosynthesis',\n",
       " u'cell_division']"
      ]
     },
     "execution_count": 11,
     "metadata": {},
     "output_type": "execute_result"
    }
   ],
   "source": [
    "w2v_rewriter.rewrite(\"cell_division\")"
   ]
  },
  {
   "cell_type": "code",
   "execution_count": 12,
   "metadata": {
    "collapsed": false
   },
   "outputs": [
    {
     "name": "stdout",
     "output_type": "stream",
     "text": [
      "[(u'molecular_biology', 0.9332444667816162), (u'biology', 0.893613338470459), (u'pathology', 0.8885238766670227), (u'molecular', 0.8851317167282104), (u'genetics', 0.8838498592376709), (u'particle_physics', 0.8836815357208252), (u'chemistry', 0.8766592741012573), (u'cell_biology', 0.8745608925819397), (u'physiology', 0.8742819428443909), (u'microbiology', 0.8684334754943848)]\n"
     ]
    },
    {
     "data": {
      "text/plain": [
       "[u'molecular biology',\n",
       " u'biology',\n",
       " u'pathology',\n",
       " u'molecular',\n",
       " u'genetics',\n",
       " u'particle physics',\n",
       " u'chemistry',\n",
       " u'cell biology',\n",
       " u'physiology',\n",
       " u'microbiology',\n",
       " u'biochemistry']"
      ]
     },
     "execution_count": 12,
     "metadata": {},
     "output_type": "execute_result"
    }
   ],
   "source": [
    "w2v_rewriter.rewrite(\"biochemistry\")"
   ]
  },
  {
   "cell_type": "code",
   "execution_count": 14,
   "metadata": {
    "collapsed": false
   },
   "outputs": [
    {
     "name": "stdout",
     "output_type": "stream",
     "text": [
      "[(u'citric_acid', 0.9275580644607544), (u'chymotrypsin', 0.8846492767333984), (u'galvanic_cell', 0.8846079111099243), (u'amide', 0.8826756477355957), (u'electrophoresis', 0.8819854855537415), (u'ethylene_oxide', 0.8751167058944702), (u'ketone', 0.874347984790802), (u'active_transport', 0.8736797571182251), (u'oxidizing', 0.8725018501281738), (u'emulsion', 0.8713603019714355)]\n"
     ]
    },
    {
     "data": {
      "text/plain": [
       "[u'citric acid',\n",
       " u'chymotrypsin',\n",
       " u'galvanic cell',\n",
       " u'amide',\n",
       " u'electrophoresis',\n",
       " u'ethylene oxide',\n",
       " u'ketone',\n",
       " u'active transport',\n",
       " u'oxidizing',\n",
       " u'emulsion',\n",
       " u'krebs_cycle']"
      ]
     },
     "execution_count": 14,
     "metadata": {},
     "output_type": "execute_result"
    }
   ],
   "source": [
    "w2v_rewriter.rewrite(\"krebs_cycle\")"
   ]
  },
  {
   "cell_type": "code",
   "execution_count": null,
   "metadata": {
    "collapsed": true
   },
   "outputs": [],
   "source": []
  }
 ],
 "metadata": {
  "anaconda-cloud": {},
  "kernelspec": {
   "display_name": "Python [default]",
   "language": "python",
   "name": "python2"
  },
  "language_info": {
   "codemirror_mode": {
    "name": "ipython",
    "version": 2
   },
   "file_extension": ".py",
   "mimetype": "text/x-python",
   "name": "python",
   "nbconvert_exporter": "python",
   "pygments_lexer": "ipython2",
   "version": "2.7.12"
  }
 },
 "nbformat": 4,
 "nbformat_minor": 2
}
