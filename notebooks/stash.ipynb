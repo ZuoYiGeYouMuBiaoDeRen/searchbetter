{
 "cells": [
  {
   "cell_type": "markdown",
   "metadata": {},
   "source": [
    "### Stashed code snippets"
   ]
  },
  {
   "cell_type": "code",
   "execution_count": 1,
   "metadata": {
    "collapsed": false
   },
   "outputs": [
    {
     "ename": "NameError",
     "evalue": "name 'df' is not defined",
     "output_type": "error",
     "traceback": [
      "\u001b[0;31m---------------------------------------------------------------------------\u001b[0m",
      "\u001b[0;31mNameError\u001b[0m                                 Traceback (most recent call last)",
      "\u001b[0;32m<ipython-input-1-6a761565c3bf>\u001b[0m in \u001b[0;36m<module>\u001b[0;34m()\u001b[0m\n\u001b[1;32m      7\u001b[0m ]\n\u001b[1;32m      8\u001b[0m \u001b[0;31m# series containing # of hits for each search term\u001b[0m\u001b[0;34m\u001b[0m\u001b[0;34m\u001b[0m\u001b[0m\n\u001b[0;32m----> 9\u001b[0;31m \u001b[0mdata_series\u001b[0m \u001b[0;34m=\u001b[0m \u001b[0;34m[\u001b[0m\u001b[0mdf\u001b[0m\u001b[0;34m[\u001b[0m\u001b[0mname\u001b[0m\u001b[0;34m]\u001b[0m \u001b[0;32mfor\u001b[0m \u001b[0mname\u001b[0m \u001b[0;32min\u001b[0m \u001b[0mrewriter_names\u001b[0m\u001b[0;34m]\u001b[0m\u001b[0;34m\u001b[0m\u001b[0m\n\u001b[0m\u001b[1;32m     10\u001b[0m \u001b[0maverage_hits\u001b[0m \u001b[0;34m=\u001b[0m \u001b[0;34m[\u001b[0m\u001b[0ms\u001b[0m\u001b[0;34m.\u001b[0m\u001b[0mmean\u001b[0m\u001b[0;34m(\u001b[0m\u001b[0;34m)\u001b[0m \u001b[0;32mfor\u001b[0m \u001b[0ms\u001b[0m \u001b[0;32min\u001b[0m \u001b[0mdata_series\u001b[0m\u001b[0;34m]\u001b[0m\u001b[0;34m\u001b[0m\u001b[0m\n\u001b[1;32m     11\u001b[0m \u001b[0;34m\u001b[0m\u001b[0m\n",
      "\u001b[0;31mNameError\u001b[0m: name 'df' is not defined"
     ]
    }
   ],
   "source": [
    "# BAR CHARTS\n",
    "# more stats\n",
    "rewriter_names =[\n",
    "    'control',\n",
    "    'wiki',\n",
    "    'word2vec'\n",
    "]\n",
    "# series containing # of hits for each search term\n",
    "data_series = [df[name] for name in rewriter_names]\n",
    "average_hits = [s.mean() for s in data_series]\n",
    "\n",
    "# now filter on just those terms where the control gives nothing\n",
    "\n",
    "df_where_no_hits = df[df['control'] == 0]\n",
    "data_series_zero = [df_where_no_hits[name] for name in rewriter_names]\n",
    "average_hits_zero = [s.mean() for s in data_series_zero]\n",
    "\n",
    "\n",
    "# bar chart of hits\n",
    "\n",
    "# first trace: all search terms\n",
    "rewriter_fancy_names = [\n",
    "    'Control (no rewriting)',\n",
    "    'Wikipedia Categories',\n",
    "    'Word2Vec'\n",
    "]\n",
    "\n",
    "traceAllTerms = go.Bar(\n",
    "    x=rewriter_fancy_names,\n",
    "    y=average_hits,\n",
    "    name='All terms'\n",
    ")\n",
    "traceJustMisses = go.Bar(\n",
    "    x=rewriter_fancy_names,\n",
    "    y=average_hits_zero,\n",
    "    name='Terms where no hits by default'\n",
    ")\n",
    "\n",
    "traces = [traceAllTerms, traceJustMisses]\n",
    "layout = go.Layout(\n",
    "    barmode='group',\n",
    "    title='Average hits per rewriter (edX)',\n",
    "    xaxis=dict(\n",
    "        title='Query rewriter'\n",
    "    ),\n",
    "    yaxis=dict(\n",
    "        title='Average # hits'\n",
    "    )\n",
    ")\n",
    "\n",
    "fig = go.Figure(data=traces, layout=layout)\n",
    "py.iplot(fig)"
   ]
  },
  {
   "cell_type": "code",
   "execution_count": null,
   "metadata": {
    "collapsed": true
   },
   "outputs": [],
   "source": []
  },
  {
   "cell_type": "code",
   "execution_count": null,
   "metadata": {
    "collapsed": true
   },
   "outputs": [],
   "source": []
  },
  {
   "cell_type": "code",
   "execution_count": null,
   "metadata": {
    "collapsed": true
   },
   "outputs": [],
   "source": []
  }
 ],
 "metadata": {
  "anaconda-cloud": {},
  "kernelspec": {
   "display_name": "Python [default]",
   "language": "python",
   "name": "python2"
  },
  "language_info": {
   "codemirror_mode": {
    "name": "ipython",
    "version": 2
   },
   "file_extension": ".py",
   "mimetype": "text/x-python",
   "name": "python",
   "nbconvert_exporter": "python",
   "pygments_lexer": "ipython2",
   "version": "2.7.12"
  }
 },
 "nbformat": 4,
 "nbformat_minor": 2
}
