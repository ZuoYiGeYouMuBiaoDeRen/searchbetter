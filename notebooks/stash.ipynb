{
 "cells": [
  {
   "cell_type": "markdown",
   "metadata": {},
   "source": [
    "### Stashed code snippets"
   ]
  },
  {
   "cell_type": "code",
   "execution_count": null,
   "metadata": {
    "collapsed": true
   },
   "outputs": [],
   "source": [
    "# BAR CHARTS\n",
    "# more stats\n",
    "rewriter_names =[\n",
    "    'control',\n",
    "    'wiki',\n",
    "    'word2vec'\n",
    "]\n",
    "# series containing # of hits for each search term\n",
    "data_series = [df[name] for name in rewriter_names]\n",
    "average_hits = [s.mean() for s in data_series]\n",
    "\n",
    "# now filter on just those terms where the control gives nothing\n",
    "\n",
    "df_where_no_hits = df[df['control'] == 0]\n",
    "data_series_zero = [df_where_no_hits[name] for name in rewriter_names]\n",
    "average_hits_zero = [s.mean() for s in data_series_zero]\n",
    "\n",
    "\n",
    "# bar chart of hits\n",
    "\n",
    "# first trace: all search terms\n",
    "rewriter_fancy_names = [\n",
    "    'Control (no rewriting)',\n",
    "    'Wikipedia Categories',\n",
    "    'Word2Vec'\n",
    "]\n",
    "\n",
    "traceAllTerms = go.Bar(\n",
    "    x=rewriter_fancy_names,\n",
    "    y=average_hits,\n",
    "    name='All terms'\n",
    ")\n",
    "traceJustMisses = go.Bar(\n",
    "    x=rewriter_fancy_names,\n",
    "    y=average_hits_zero,\n",
    "    name='Terms where no hits by default'\n",
    ")\n",
    "\n",
    "traces = [traceAllTerms, traceJustMisses]\n",
    "layout = go.Layout(\n",
    "    barmode='group',\n",
    "    title='Average hits per rewriter (edX)',\n",
    "    xaxis=dict(\n",
    "        title='Query rewriter'\n",
    "    ),\n",
    "    yaxis=dict(\n",
    "        title='Average # hits'\n",
    "    )\n",
    ")\n",
    "\n",
    "fig = go.Figure(data=traces, layout=layout)\n",
    "py.iplot(fig)"
   ]
  },
  {
   "cell_type": "code",
   "execution_count": null,
   "metadata": {
    "collapsed": true
   },
   "outputs": [],
   "source": []
  },
  {
   "cell_type": "code",
   "execution_count": null,
   "metadata": {
    "collapsed": true
   },
   "outputs": [],
   "source": []
  },
  {
   "cell_type": "code",
   "execution_count": null,
   "metadata": {
    "collapsed": true
   },
   "outputs": [],
   "source": []
  }
 ],
 "metadata": {
  "anaconda-cloud": {},
  "kernelspec": {
   "display_name": "Python [default]",
   "language": "python",
   "name": "python2"
  },
  "language_info": {
   "codemirror_mode": {
    "name": "ipython",
    "version": 2
   },
   "file_extension": ".py",
   "mimetype": "text/x-python",
   "name": "python",
   "nbconvert_exporter": "python",
   "pygments_lexer": "ipython2",
   "version": "2.7.12"
  }
 },
 "nbformat": 4,
 "nbformat_minor": 2
}
