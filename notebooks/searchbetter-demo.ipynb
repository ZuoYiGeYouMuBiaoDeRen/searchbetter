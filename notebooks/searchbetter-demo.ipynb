{
 "cells": [
  {
   "cell_type": "markdown",
   "metadata": {},
   "source": [
    "# SearchBetter demos"
   ]
  },
  {
   "cell_type": "code",
   "execution_count": 21,
   "metadata": {
    "collapsed": true
   },
   "outputs": [],
   "source": [
    "# First, let's get all the imports out of the way...\n",
    "\n",
    "import gensim.models.word2vec as word2vec\n",
    "from pprint import pprint\n",
    "from IPython.core.display import display, HTML\n",
    "\n",
    "import sys\n",
    "sys.path.append('../')\n",
    "\n",
    "import searchbetter.search as search\n",
    "reload(search)\n",
    "import searchbetter.rewriter as rewriter\n",
    "reload(rewriter)\n",
    "\n",
    "import secure"
   ]
  },
  {
   "cell_type": "markdown",
   "metadata": {},
   "source": [
    "## Making a search engine\n",
    "\n",
    "SearchBetter "
   ]
  },
  {
   "cell_type": "code",
   "execution_count": null,
   "metadata": {
    "collapsed": true
   },
   "outputs": [],
   "source": []
  },
  {
   "cell_type": "code",
   "execution_count": null,
   "metadata": {
    "collapsed": true
   },
   "outputs": [],
   "source": []
  },
  {
   "cell_type": "code",
   "execution_count": null,
   "metadata": {
    "collapsed": true
   },
   "outputs": [],
   "source": []
  },
  {
   "cell_type": "code",
   "execution_count": 3,
   "metadata": {
    "collapsed": false
   },
   "outputs": [
    {
     "name": "stdout",
     "output_type": "stream",
     "text": [
      "[{'course_id': u'MITx/7.28.1x/1T2015', 'name': u'Molecular Biology'},\n",
      " {'course_id': u'course-v1:RICEx+AdvBIOx+3T2016',\n",
      "  'name': u'AP\\xc2\\xae Biology'},\n",
      " {'course_id': u'course-v1:HarvardX+MCB64.1x+2T2016',\n",
      "  'name': u'Cell Biology: Mitochondria'},\n",
      " {'course_id': u'course-v1:IEEEx+SysBio1x+2016_T1',\n",
      "  'name': u'Introduction to Systems Biology.'},\n",
      " {'course_id': u'course-v1:IEEEx+SysBio1x+3T2016',\n",
      "  'name': u'Introduction to Systems Biology.'},\n",
      " {'course_id': u'MITx/7.QBWx/2T2014',\n",
      "  'name': u'Quantitative Biology Workshop'},\n",
      " {'course_id': u'MITx/7.QBW_1x/1T2015',\n",
      "  'name': u'Quantitative Biology Workshop'},\n",
      " {'course_id': u'course-v1:MITx+20.305x+3T2015',\n",
      "  'name': u'Principles of Synthetic Biology'},\n",
      " {'course_id': u'course-v1:MITx+7.QBWx_3+1T2016',\n",
      "  'name': u'Quantitative Biology Workshop'},\n",
      " {'course_id': u'course-v1:MITx+7.QBWx_4+3T2016',\n",
      "  'name': u'Quantitative Biology Workshop'}]\n"
     ]
    }
   ],
   "source": [
    "\n",
    "\n",
    "# Create a search engine that searches over all edX courses.\n",
    "# Under the hood, this uses Python's Whoosh library to index\n",
    "# the course data stored in a CSV and then run searches against it.\n",
    "dataset_path = secure.DATASET_PATH_BASE+'Master CourseListings - edX.csv'\n",
    "index_path = secure.INDEX_PATH_BASE+'edx'\n",
    "edx_engine = search.EdXSearchEngine(dataset_path, index_path, create=False)\n",
    "\n",
    "# We expose a simple searching API\n",
    "edx_results = edx_engine.search(\"biology\")\n",
    "pprint(edx_results)\n",
    "\n",
    "# You could also search over HarvardX resources or Udacity courses\n",
    "# with similar classes!"
   ]
  },
  {
   "cell_type": "code",
   "execution_count": 4,
   "metadata": {
    "collapsed": false
   },
   "outputs": [
    {
     "name": "stdout",
     "output_type": "stream",
     "text": [
      "['classical mechanics',\n",
      " 'commons category with local link different than on wikidata',\n",
      " 'concepts in physics',\n",
      " 'copernican revolution',\n",
      " 'engvarb from july 2014',\n",
      " 'experimental physics',\n",
      " 'history of physics',\n",
      " \"newton's laws of motion\"]\n",
      "[u'communism',\n",
      " u'capitalism',\n",
      " u'ideology',\n",
      " u'fascism',\n",
      " u'liberalism',\n",
      " u'marxism',\n",
      " u'marxist',\n",
      " u'laissez faire',\n",
      " u'imperialism',\n",
      " u'nationalism',\n",
      " u'socialism']\n"
     ]
    }
   ],
   "source": [
    "## QUERY REWRITING DEMOS\n",
    "\n",
    "\n",
    "\n",
    "# Query rewriting lets you turn a single search query into\n",
    "# multiple related queries. You can then search for *all*\n",
    "# of these queries, which can result in more and more useful\n",
    "# results than just the original query would give.\n",
    "\n",
    "# First, a rewriter that uses the Wikipedia category API\n",
    "# to find terms related to the original term\n",
    "wiki_rewriter = rewriter.WikipediaRewriter()\n",
    "wiki_rewritten_queries = wiki_rewriter.rewrite(\"newton's laws of motion\")\n",
    "pprint(wiki_rewritten_queries)\n",
    "\n",
    "\n",
    "# Second, a rewriter that uses Word2Vec to find similar\n",
    "# words to the entered term. This is a machine learning\n",
    "# algorithm trained on a large text corpus.\n",
    "# Prepare the corpus (from Wikipedia) to use for the Word2Vec Rewriter.\n",
    "corpus = word2vec.LineSentence(secure.DATASET_PATH_BASE + 'wikiclean8')\n",
    "\n",
    "# Now make the rewriter...\n",
    "model_path = secure.MODEL_PATH_BASE+'word2vec/word2vec'\n",
    "# w2v_rewriter = rewriter.Word2VecRewriter(model_path, create=True, corpus=corpus, bigrams=True)\n",
    "w2v_rewriter = rewriter.Word2VecRewriter(model_path, create=False)\n",
    "w2v_rewritten_queries = w2v_rewriter.rewrite(\"socialism\")\n",
    "pprint(w2v_rewritten_queries)"
   ]
  },
  {
   "cell_type": "code",
   "execution_count": 12,
   "metadata": {
    "collapsed": false
   },
   "outputs": [
    {
     "name": "stdout",
     "output_type": "stream",
     "text": [
      "[{'course_id': u'CaltechX/BEM1105x/1T2015',\n",
      "  'name': u'Pricing Options with Mathematical Models'},\n",
      " {'course_id': u'course-v1:CaltechX+BEM1105x+3T2015',\n",
      "  'name': u'Pricing Options with Mathematical Models'},\n",
      " {'course_id': u'course-v1:CaltechX+BEM1105x+1T2016',\n",
      "  'name': u'Pricing Options with Mathematical Models'},\n",
      " {'course_id': u'course-v1:CaltechX+BEM1105x+3T2016',\n",
      "  'name': u'Pricing Options with Mathematical Models'},\n",
      " {'course_id': u'SchoolYourself/GeometryX/1T2015',\n",
      "  'name': u'Introduction to Geometry'},\n",
      " {'course_id': u'course-v1:SchoolYourself+GeometryX+2T2016',\n",
      "  'name': u'Introduction to Geometry'},\n",
      " {'course_id': u'course-v1:TsinghuaX+70240183x+3T2015',\n",
      "  'name': u'Computational Geometry'},\n",
      " {'course_id': u'course-v1:TsinghuaX+70240183x+3T2016',\n",
      "  'name': u'Computational Geometry'},\n",
      " {'course_id': u'course-v1:TeachForAmericaX+HSMATH2.1x+3T2016',\n",
      "  'name': u'How to Teach High School Geometry'},\n",
      " {'course_id': u'SchoolYourself/AlgebraX/1T2015',\n",
      "  'name': u'Introduction to Algebra'},\n",
      " {'course_id': u'course-v1:SchoolYourself+AlgebraX+2T2016',\n",
      "  'name': u'Introduction to Algebra'},\n",
      " {'course_id': u'course-v1:ASUx+MAT117x+1T2016',\n",
      "  'name': u'College Algebra and Problem Solving'},\n",
      " {'course_id': u'course-v1:ASUx+MAT117x+Test123',\n",
      "  'name': u'College Algebra Mobile Tester'},\n",
      " {'course_id': u'DavidsonX/D003x.1/1T2015',\n",
      "  'name': u'Applications of Linear Algebra (Part 1)'},\n",
      " {'course_id': u'DavidsonX/D003x.2/2T2015',\n",
      "  'name': u'Applications of Linear Algebra (Part 2)'},\n",
      " {'course_id': u'HarvardX/PH525.2x/1T2015',\n",
      "  'name': u'Matrix Algebra and Linear Models'},\n",
      " {'course_id': u'UPValenciaX/BMA101x/2T2015',\n",
      "  'name': u'Bases matem\\xc3\\xa1ticas: Algebra'},\n",
      " {'course_id': u'course-v1:HarvardX+PH525.2x+2T2016',\n",
      "  'name': u'Introduction to Linear Models and Matrix Algebra'}]\n"
     ]
    }
   ],
   "source": [
    "## PUTTING IT ALL TOGETHER\n",
    "\n",
    "# We can apply a query rewriter to a search engine\n",
    "# to create a new search engine that runs the\n",
    "# query rewriter on all incoming searches and returns\n",
    "# all results it gets from the queries\n",
    "\n",
    "# For example, imagine trying the Word2Vec rewriter\n",
    "# on the edX search engine \n",
    "edx_engine.set_rewriter(w2v_rewriter)\n",
    "rewritten_results = edx_engine.search(\"calculus\")\n",
    "pprint(rewritten_results[0:18])"
   ]
  },
  {
   "cell_type": "code",
   "execution_count": null,
   "metadata": {
    "collapsed": true
   },
   "outputs": [],
   "source": []
  },
  {
   "cell_type": "code",
   "execution_count": 19,
   "metadata": {
    "collapsed": false
   },
   "outputs": [
    {
     "data": {
      "text/html": [
       "<div>Total Number of Results 47</div>"
      ],
      "text/plain": [
       "<IPython.core.display.HTML object>"
      ]
     },
     "metadata": {},
     "output_type": "display_data"
    },
    {
     "data": {
      "text/html": [
       "\n",
       "    <div>\n",
       "        <div>\n",
       "            <img class=\"pull-left\" src=https://lh3.googleusercontent.com/s2S7Q8NyH4OlJ8Evfgdm08DDn9xyT6gUsbxZd3eN9Fpr9p_QAnZZfocSbgFG0uwvBQC4vElFS_zJ5btSRg=s0#w=1440&h=780 width=6%/>\n",
       "        </div>\n",
       "        <div style=\"padding-left: 2cm;\">\n",
       "            <h5>1. Pricing Options with Mathematical Models</h5>(CaltechX/BEM1105x/1T2015)\n",
       "        </div>\n",
       "    </div>\n"
      ],
      "text/plain": [
       "<IPython.core.display.HTML object>"
      ]
     },
     "metadata": {},
     "output_type": "display_data"
    },
    {
     "data": {
      "text/html": [
       "\n",
       "    <div>\n",
       "        <div>\n",
       "            <img class=\"pull-left\" src=https://lh3.googleusercontent.com/s2S7Q8NyH4OlJ8Evfgdm08DDn9xyT6gUsbxZd3eN9Fpr9p_QAnZZfocSbgFG0uwvBQC4vElFS_zJ5btSRg=s0#w=1440&h=780 width=6%/>\n",
       "        </div>\n",
       "        <div style=\"padding-left: 2cm;\">\n",
       "            <h5>2. Pricing Options with Mathematical Models</h5>(course-v1:CaltechX+BEM1105x+3T2015)\n",
       "        </div>\n",
       "    </div>\n"
      ],
      "text/plain": [
       "<IPython.core.display.HTML object>"
      ]
     },
     "metadata": {},
     "output_type": "display_data"
    },
    {
     "data": {
      "text/html": [
       "\n",
       "    <div>\n",
       "        <div>\n",
       "            <img class=\"pull-left\" src=https://lh3.googleusercontent.com/s2S7Q8NyH4OlJ8Evfgdm08DDn9xyT6gUsbxZd3eN9Fpr9p_QAnZZfocSbgFG0uwvBQC4vElFS_zJ5btSRg=s0#w=1440&h=780 width=6%/>\n",
       "        </div>\n",
       "        <div style=\"padding-left: 2cm;\">\n",
       "            <h5>3. Pricing Options with Mathematical Models</h5>(course-v1:CaltechX+BEM1105x+1T2016)\n",
       "        </div>\n",
       "    </div>\n"
      ],
      "text/plain": [
       "<IPython.core.display.HTML object>"
      ]
     },
     "metadata": {},
     "output_type": "display_data"
    },
    {
     "data": {
      "text/html": [
       "\n",
       "    <div>\n",
       "        <div>\n",
       "            <img class=\"pull-left\" src=https://lh3.googleusercontent.com/s2S7Q8NyH4OlJ8Evfgdm08DDn9xyT6gUsbxZd3eN9Fpr9p_QAnZZfocSbgFG0uwvBQC4vElFS_zJ5btSRg=s0#w=1440&h=780 width=6%/>\n",
       "        </div>\n",
       "        <div style=\"padding-left: 2cm;\">\n",
       "            <h5>4. Pricing Options with Mathematical Models</h5>(course-v1:CaltechX+BEM1105x+3T2016)\n",
       "        </div>\n",
       "    </div>\n"
      ],
      "text/plain": [
       "<IPython.core.display.HTML object>"
      ]
     },
     "metadata": {},
     "output_type": "display_data"
    },
    {
     "data": {
      "text/html": [
       "\n",
       "    <div>\n",
       "        <div>\n",
       "            <img class=\"pull-left\" src=https://lh3.googleusercontent.com/s2S7Q8NyH4OlJ8Evfgdm08DDn9xyT6gUsbxZd3eN9Fpr9p_QAnZZfocSbgFG0uwvBQC4vElFS_zJ5btSRg=s0#w=1440&h=780 width=6%/>\n",
       "        </div>\n",
       "        <div style=\"padding-left: 2cm;\">\n",
       "            <h5>5. Introduction to Geometry</h5>(SchoolYourself/GeometryX/1T2015)\n",
       "        </div>\n",
       "    </div>\n"
      ],
      "text/plain": [
       "<IPython.core.display.HTML object>"
      ]
     },
     "metadata": {},
     "output_type": "display_data"
    },
    {
     "data": {
      "text/html": [
       "\n",
       "    <div>\n",
       "        <div>\n",
       "            <img class=\"pull-left\" src=https://lh3.googleusercontent.com/s2S7Q8NyH4OlJ8Evfgdm08DDn9xyT6gUsbxZd3eN9Fpr9p_QAnZZfocSbgFG0uwvBQC4vElFS_zJ5btSRg=s0#w=1440&h=780 width=6%/>\n",
       "        </div>\n",
       "        <div style=\"padding-left: 2cm;\">\n",
       "            <h5>6. Introduction to Geometry</h5>(course-v1:SchoolYourself+GeometryX+2T2016)\n",
       "        </div>\n",
       "    </div>\n"
      ],
      "text/plain": [
       "<IPython.core.display.HTML object>"
      ]
     },
     "metadata": {},
     "output_type": "display_data"
    },
    {
     "data": {
      "text/html": [
       "\n",
       "    <div>\n",
       "        <div>\n",
       "            <img class=\"pull-left\" src=https://lh3.googleusercontent.com/s2S7Q8NyH4OlJ8Evfgdm08DDn9xyT6gUsbxZd3eN9Fpr9p_QAnZZfocSbgFG0uwvBQC4vElFS_zJ5btSRg=s0#w=1440&h=780 width=6%/>\n",
       "        </div>\n",
       "        <div style=\"padding-left: 2cm;\">\n",
       "            <h5>7. Computational Geometry</h5>(course-v1:TsinghuaX+70240183x+3T2015)\n",
       "        </div>\n",
       "    </div>\n"
      ],
      "text/plain": [
       "<IPython.core.display.HTML object>"
      ]
     },
     "metadata": {},
     "output_type": "display_data"
    },
    {
     "data": {
      "text/html": [
       "\n",
       "    <div>\n",
       "        <div>\n",
       "            <img class=\"pull-left\" src=https://lh3.googleusercontent.com/s2S7Q8NyH4OlJ8Evfgdm08DDn9xyT6gUsbxZd3eN9Fpr9p_QAnZZfocSbgFG0uwvBQC4vElFS_zJ5btSRg=s0#w=1440&h=780 width=6%/>\n",
       "        </div>\n",
       "        <div style=\"padding-left: 2cm;\">\n",
       "            <h5>8. Computational Geometry</h5>(course-v1:TsinghuaX+70240183x+3T2016)\n",
       "        </div>\n",
       "    </div>\n"
      ],
      "text/plain": [
       "<IPython.core.display.HTML object>"
      ]
     },
     "metadata": {},
     "output_type": "display_data"
    },
    {
     "data": {
      "text/html": [
       "\n",
       "    <div>\n",
       "        <div>\n",
       "            <img class=\"pull-left\" src=https://lh3.googleusercontent.com/s2S7Q8NyH4OlJ8Evfgdm08DDn9xyT6gUsbxZd3eN9Fpr9p_QAnZZfocSbgFG0uwvBQC4vElFS_zJ5btSRg=s0#w=1440&h=780 width=6%/>\n",
       "        </div>\n",
       "        <div style=\"padding-left: 2cm;\">\n",
       "            <h5>9. How to Teach High School Geometry</h5>(course-v1:TeachForAmericaX+HSMATH2.1x+3T2016)\n",
       "        </div>\n",
       "    </div>\n"
      ],
      "text/plain": [
       "<IPython.core.display.HTML object>"
      ]
     },
     "metadata": {},
     "output_type": "display_data"
    },
    {
     "data": {
      "text/html": [
       "\n",
       "    <div>\n",
       "        <div>\n",
       "            <img class=\"pull-left\" src=https://lh3.googleusercontent.com/s2S7Q8NyH4OlJ8Evfgdm08DDn9xyT6gUsbxZd3eN9Fpr9p_QAnZZfocSbgFG0uwvBQC4vElFS_zJ5btSRg=s0#w=1440&h=780 width=6%/>\n",
       "        </div>\n",
       "        <div style=\"padding-left: 2cm;\">\n",
       "            <h5>10. Introduction to Algebra</h5>(SchoolYourself/AlgebraX/1T2015)\n",
       "        </div>\n",
       "    </div>\n"
      ],
      "text/plain": [
       "<IPython.core.display.HTML object>"
      ]
     },
     "metadata": {},
     "output_type": "display_data"
    },
    {
     "data": {
      "text/html": [
       "\n",
       "    <div>\n",
       "        <div>\n",
       "            <img class=\"pull-left\" src=https://lh3.googleusercontent.com/s2S7Q8NyH4OlJ8Evfgdm08DDn9xyT6gUsbxZd3eN9Fpr9p_QAnZZfocSbgFG0uwvBQC4vElFS_zJ5btSRg=s0#w=1440&h=780 width=6%/>\n",
       "        </div>\n",
       "        <div style=\"padding-left: 2cm;\">\n",
       "            <h5>11. Introduction to Algebra</h5>(course-v1:SchoolYourself+AlgebraX+2T2016)\n",
       "        </div>\n",
       "    </div>\n"
      ],
      "text/plain": [
       "<IPython.core.display.HTML object>"
      ]
     },
     "metadata": {},
     "output_type": "display_data"
    },
    {
     "data": {
      "text/html": [
       "\n",
       "    <div>\n",
       "        <div>\n",
       "            <img class=\"pull-left\" src=https://lh3.googleusercontent.com/s2S7Q8NyH4OlJ8Evfgdm08DDn9xyT6gUsbxZd3eN9Fpr9p_QAnZZfocSbgFG0uwvBQC4vElFS_zJ5btSRg=s0#w=1440&h=780 width=6%/>\n",
       "        </div>\n",
       "        <div style=\"padding-left: 2cm;\">\n",
       "            <h5>12. College Algebra and Problem Solving</h5>(course-v1:ASUx+MAT117x+1T2016)\n",
       "        </div>\n",
       "    </div>\n"
      ],
      "text/plain": [
       "<IPython.core.display.HTML object>"
      ]
     },
     "metadata": {},
     "output_type": "display_data"
    },
    {
     "data": {
      "text/html": [
       "\n",
       "    <div>\n",
       "        <div>\n",
       "            <img class=\"pull-left\" src=https://lh3.googleusercontent.com/s2S7Q8NyH4OlJ8Evfgdm08DDn9xyT6gUsbxZd3eN9Fpr9p_QAnZZfocSbgFG0uwvBQC4vElFS_zJ5btSRg=s0#w=1440&h=780 width=6%/>\n",
       "        </div>\n",
       "        <div style=\"padding-left: 2cm;\">\n",
       "            <h5>13. College Algebra Mobile Tester</h5>(course-v1:ASUx+MAT117x+Test123)\n",
       "        </div>\n",
       "    </div>\n"
      ],
      "text/plain": [
       "<IPython.core.display.HTML object>"
      ]
     },
     "metadata": {},
     "output_type": "display_data"
    },
    {
     "data": {
      "text/html": [
       "\n",
       "    <div>\n",
       "        <div>\n",
       "            <img class=\"pull-left\" src=https://lh3.googleusercontent.com/s2S7Q8NyH4OlJ8Evfgdm08DDn9xyT6gUsbxZd3eN9Fpr9p_QAnZZfocSbgFG0uwvBQC4vElFS_zJ5btSRg=s0#w=1440&h=780 width=6%/>\n",
       "        </div>\n",
       "        <div style=\"padding-left: 2cm;\">\n",
       "            <h5>14. Applications of Linear Algebra (Part 1)</h5>(DavidsonX/D003x.1/1T2015)\n",
       "        </div>\n",
       "    </div>\n"
      ],
      "text/plain": [
       "<IPython.core.display.HTML object>"
      ]
     },
     "metadata": {},
     "output_type": "display_data"
    },
    {
     "data": {
      "text/html": [
       "\n",
       "    <div>\n",
       "        <div>\n",
       "            <img class=\"pull-left\" src=https://lh3.googleusercontent.com/s2S7Q8NyH4OlJ8Evfgdm08DDn9xyT6gUsbxZd3eN9Fpr9p_QAnZZfocSbgFG0uwvBQC4vElFS_zJ5btSRg=s0#w=1440&h=780 width=6%/>\n",
       "        </div>\n",
       "        <div style=\"padding-left: 2cm;\">\n",
       "            <h5>15. Applications of Linear Algebra (Part 2)</h5>(DavidsonX/D003x.2/2T2015)\n",
       "        </div>\n",
       "    </div>\n"
      ],
      "text/plain": [
       "<IPython.core.display.HTML object>"
      ]
     },
     "metadata": {},
     "output_type": "display_data"
    },
    {
     "data": {
      "text/html": [
       "\n",
       "    <div>\n",
       "        <div>\n",
       "            <img class=\"pull-left\" src=https://lh3.googleusercontent.com/s2S7Q8NyH4OlJ8Evfgdm08DDn9xyT6gUsbxZd3eN9Fpr9p_QAnZZfocSbgFG0uwvBQC4vElFS_zJ5btSRg=s0#w=1440&h=780 width=6%/>\n",
       "        </div>\n",
       "        <div style=\"padding-left: 2cm;\">\n",
       "            <h5>16. Matrix Algebra and Linear Models</h5>(HarvardX/PH525.2x/1T2015)\n",
       "        </div>\n",
       "    </div>\n"
      ],
      "text/plain": [
       "<IPython.core.display.HTML object>"
      ]
     },
     "metadata": {},
     "output_type": "display_data"
    },
    {
     "data": {
      "text/html": [
       "\n",
       "    <div>\n",
       "        <div>\n",
       "            <img class=\"pull-left\" src=https://lh3.googleusercontent.com/s2S7Q8NyH4OlJ8Evfgdm08DDn9xyT6gUsbxZd3eN9Fpr9p_QAnZZfocSbgFG0uwvBQC4vElFS_zJ5btSRg=s0#w=1440&h=780 width=6%/>\n",
       "        </div>\n",
       "        <div style=\"padding-left: 2cm;\">\n",
       "            <h5>17. Bases matem??ticas: Algebra</h5>(UPValenciaX/BMA101x/2T2015)\n",
       "        </div>\n",
       "    </div>\n"
      ],
      "text/plain": [
       "<IPython.core.display.HTML object>"
      ]
     },
     "metadata": {},
     "output_type": "display_data"
    },
    {
     "data": {
      "text/html": [
       "\n",
       "    <div>\n",
       "        <div>\n",
       "            <img class=\"pull-left\" src=https://lh3.googleusercontent.com/s2S7Q8NyH4OlJ8Evfgdm08DDn9xyT6gUsbxZd3eN9Fpr9p_QAnZZfocSbgFG0uwvBQC4vElFS_zJ5btSRg=s0#w=1440&h=780 width=6%/>\n",
       "        </div>\n",
       "        <div style=\"padding-left: 2cm;\">\n",
       "            <h5>18. Introduction to Linear Models and Matrix Algebra</h5>(course-v1:HarvardX+PH525.2x+2T2016)\n",
       "        </div>\n",
       "    </div>\n"
      ],
      "text/plain": [
       "<IPython.core.display.HTML object>"
      ]
     },
     "metadata": {},
     "output_type": "display_data"
    },
    {
     "data": {
      "text/html": [
       "\n",
       "    <div>\n",
       "        <div>\n",
       "            <img class=\"pull-left\" src=https://lh3.googleusercontent.com/s2S7Q8NyH4OlJ8Evfgdm08DDn9xyT6gUsbxZd3eN9Fpr9p_QAnZZfocSbgFG0uwvBQC4vElFS_zJ5btSRg=s0#w=1440&h=780 width=6%/>\n",
       "        </div>\n",
       "        <div style=\"padding-left: 2cm;\">\n",
       "            <h5>19. LAFF: Linear Algebra - Foundations to Frontiers</h5>(UTAustinX/UT.5.01x/1T2014)\n",
       "        </div>\n",
       "    </div>\n"
      ],
      "text/plain": [
       "<IPython.core.display.HTML object>"
      ]
     },
     "metadata": {},
     "output_type": "display_data"
    },
    {
     "data": {
      "text/html": [
       "\n",
       "    <div>\n",
       "        <div>\n",
       "            <img class=\"pull-left\" src=https://lh3.googleusercontent.com/s2S7Q8NyH4OlJ8Evfgdm08DDn9xyT6gUsbxZd3eN9Fpr9p_QAnZZfocSbgFG0uwvBQC4vElFS_zJ5btSRg=s0#w=1440&h=780 width=6%/>\n",
       "        </div>\n",
       "        <div style=\"padding-left: 2cm;\">\n",
       "            <h5>20. Quantum Mechanics</h5>(course-v1:GeorgetownX+PHYX-008-01x+1T2017)\n",
       "        </div>\n",
       "    </div>\n"
      ],
      "text/plain": [
       "<IPython.core.display.HTML object>"
      ]
     },
     "metadata": {},
     "output_type": "display_data"
    },
    {
     "data": {
      "text/html": [
       "\n",
       "    <div>\n",
       "        <div>\n",
       "            <img class=\"pull-left\" src=https://lh3.googleusercontent.com/s2S7Q8NyH4OlJ8Evfgdm08DDn9xyT6gUsbxZd3eN9Fpr9p_QAnZZfocSbgFG0uwvBQC4vElFS_zJ5btSRg=s0#w=1440&h=780 width=6%/>\n",
       "        </div>\n",
       "        <div style=\"padding-left: 2cm;\">\n",
       "            <h5>21. Quantum Mechanics and Quantum Computation</h5>(BerkeleyX/CS191x/2013_Spring)\n",
       "        </div>\n",
       "    </div>\n"
      ],
      "text/plain": [
       "<IPython.core.display.HTML object>"
      ]
     },
     "metadata": {},
     "output_type": "display_data"
    },
    {
     "data": {
      "text/html": [
       "\n",
       "    <div>\n",
       "        <div>\n",
       "            <img class=\"pull-left\" src=https://lh3.googleusercontent.com/s2S7Q8NyH4OlJ8Evfgdm08DDn9xyT6gUsbxZd3eN9Fpr9p_QAnZZfocSbgFG0uwvBQC4vElFS_zJ5btSRg=s0#w=1440&h=780 width=6%/>\n",
       "        </div>\n",
       "        <div style=\"padding-left: 2cm;\">\n",
       "            <h5>22. Quantum Mechanics and Quantum Computation</h5>(BerkeleyX/CS-191x/2013_August)\n",
       "        </div>\n",
       "    </div>\n"
      ],
      "text/plain": [
       "<IPython.core.display.HTML object>"
      ]
     },
     "metadata": {},
     "output_type": "display_data"
    },
    {
     "data": {
      "text/html": [
       "\n",
       "    <div>\n",
       "        <div>\n",
       "            <img class=\"pull-left\" src=https://lh3.googleusercontent.com/s2S7Q8NyH4OlJ8Evfgdm08DDn9xyT6gUsbxZd3eN9Fpr9p_QAnZZfocSbgFG0uwvBQC4vElFS_zJ5btSRg=s0#w=1440&h=780 width=6%/>\n",
       "        </div>\n",
       "        <div style=\"padding-left: 2cm;\">\n",
       "            <h5>23. Mastering Quantum Mechanics</h5>(MITx/8.05x/1T2015)\n",
       "        </div>\n",
       "    </div>\n"
      ],
      "text/plain": [
       "<IPython.core.display.HTML object>"
      ]
     },
     "metadata": {},
     "output_type": "display_data"
    },
    {
     "data": {
      "text/html": [
       "\n",
       "    <div>\n",
       "        <div>\n",
       "            <img class=\"pull-left\" src=https://lh3.googleusercontent.com/s2S7Q8NyH4OlJ8Evfgdm08DDn9xyT6gUsbxZd3eN9Fpr9p_QAnZZfocSbgFG0uwvBQC4vElFS_zJ5btSRg=s0#w=1440&h=780 width=6%/>\n",
       "        </div>\n",
       "        <div style=\"padding-left: 2cm;\">\n",
       "            <h5>24. Mastering Quantum Mechanics Part 2: Quantum Dynamics</h5>(course-v1:MITx+8.05.2x+1T2016)\n",
       "        </div>\n",
       "    </div>\n"
      ],
      "text/plain": [
       "<IPython.core.display.HTML object>"
      ]
     },
     "metadata": {},
     "output_type": "display_data"
    },
    {
     "data": {
      "text/html": [
       "\n",
       "    <div>\n",
       "        <div>\n",
       "            <img class=\"pull-left\" src=https://lh3.googleusercontent.com/s2S7Q8NyH4OlJ8Evfgdm08DDn9xyT6gUsbxZd3eN9Fpr9p_QAnZZfocSbgFG0uwvBQC4vElFS_zJ5btSRg=s0#w=1440&h=780 width=6%/>\n",
       "        </div>\n",
       "        <div style=\"padding-left: 2cm;\">\n",
       "            <h5>25. Mastering Quantum Mechanics Part I: Wave Mechanics</h5>(course-v1:MITx+8.05.1x+1T2016)\n",
       "        </div>\n",
       "    </div>\n"
      ],
      "text/plain": [
       "<IPython.core.display.HTML object>"
      ]
     },
     "metadata": {},
     "output_type": "display_data"
    },
    {
     "data": {
      "text/html": [
       "\n",
       "    <div>\n",
       "        <div>\n",
       "            <img class=\"pull-left\" src=https://lh3.googleusercontent.com/s2S7Q8NyH4OlJ8Evfgdm08DDn9xyT6gUsbxZd3eN9Fpr9p_QAnZZfocSbgFG0uwvBQC4vElFS_zJ5btSRg=s0#w=1440&h=780 width=6%/>\n",
       "        </div>\n",
       "        <div style=\"padding-left: 2cm;\">\n",
       "            <h5>26. Quantum Mechanics of Molecular Structures</h5>(course-v1:UTokyoX+UTokyo003x+2015T2)\n",
       "        </div>\n",
       "    </div>\n"
      ],
      "text/plain": [
       "<IPython.core.display.HTML object>"
      ]
     },
     "metadata": {},
     "output_type": "display_data"
    },
    {
     "data": {
      "text/html": [
       "\n",
       "    <div>\n",
       "        <div>\n",
       "            <img class=\"pull-left\" src=https://lh3.googleusercontent.com/s2S7Q8NyH4OlJ8Evfgdm08DDn9xyT6gUsbxZd3eN9Fpr9p_QAnZZfocSbgFG0uwvBQC4vElFS_zJ5btSRg=s0#w=1440&h=780 width=6%/>\n",
       "        </div>\n",
       "        <div style=\"padding-left: 2cm;\">\n",
       "            <h5>27. Quantum Mechanics of Molecular Structures</h5>(course-v1:UTokyoX+UTokyo003x+3T2015)\n",
       "        </div>\n",
       "    </div>\n"
      ],
      "text/plain": [
       "<IPython.core.display.HTML object>"
      ]
     },
     "metadata": {},
     "output_type": "display_data"
    },
    {
     "data": {
      "text/html": [
       "\n",
       "    <div>\n",
       "        <div>\n",
       "            <img class=\"pull-left\" src=https://lh3.googleusercontent.com/s2S7Q8NyH4OlJ8Evfgdm08DDn9xyT6gUsbxZd3eN9Fpr9p_QAnZZfocSbgFG0uwvBQC4vElFS_zJ5btSRg=s0#w=1440&h=780 width=6%/>\n",
       "        </div>\n",
       "        <div style=\"padding-left: 2cm;\">\n",
       "            <h5>28. Quantum Mechanics of Molecular Structures</h5>(course-v1:UTokyoX+UTokyo003x+1T2016)\n",
       "        </div>\n",
       "    </div>\n"
      ],
      "text/plain": [
       "<IPython.core.display.HTML object>"
      ]
     },
     "metadata": {},
     "output_type": "display_data"
    },
    {
     "data": {
      "text/html": [
       "\n",
       "    <div>\n",
       "        <div>\n",
       "            <img class=\"pull-left\" src=https://lh3.googleusercontent.com/s2S7Q8NyH4OlJ8Evfgdm08DDn9xyT6gUsbxZd3eN9Fpr9p_QAnZZfocSbgFG0uwvBQC4vElFS_zJ5btSRg=s0#w=1440&h=780 width=6%/>\n",
       "        </div>\n",
       "        <div style=\"padding-left: 2cm;\">\n",
       "            <h5>29. Mastering Quantum Mechanics Part 3: Entanglement and Angular Momentum</h5>(course-v1:MITx+8.05.3x+1T2016)\n",
       "        </div>\n",
       "    </div>\n"
      ],
      "text/plain": [
       "<IPython.core.display.HTML object>"
      ]
     },
     "metadata": {},
     "output_type": "display_data"
    },
    {
     "data": {
      "text/html": [
       "\n",
       "    <div>\n",
       "        <div>\n",
       "            <img class=\"pull-left\" src=https://lh3.googleusercontent.com/s2S7Q8NyH4OlJ8Evfgdm08DDn9xyT6gUsbxZd3eN9Fpr9p_QAnZZfocSbgFG0uwvBQC4vElFS_zJ5btSRg=s0#w=1440&h=780 width=6%/>\n",
       "        </div>\n",
       "        <div style=\"padding-left: 2cm;\">\n",
       "            <h5>30. Quantum Mechanics and Quantum Computation</h5>(BerkeleyX/CS191x/2013_Spring)\n",
       "        </div>\n",
       "    </div>\n"
      ],
      "text/plain": [
       "<IPython.core.display.HTML object>"
      ]
     },
     "metadata": {},
     "output_type": "display_data"
    },
    {
     "data": {
      "text/html": [
       "\n",
       "    <div>\n",
       "        <div>\n",
       "            <img class=\"pull-left\" src=https://lh3.googleusercontent.com/s2S7Q8NyH4OlJ8Evfgdm08DDn9xyT6gUsbxZd3eN9Fpr9p_QAnZZfocSbgFG0uwvBQC4vElFS_zJ5btSRg=s0#w=1440&h=780 width=6%/>\n",
       "        </div>\n",
       "        <div style=\"padding-left: 2cm;\">\n",
       "            <h5>31. Quantum Mechanics and Quantum Computation</h5>(BerkeleyX/CS-191x/2013_August)\n",
       "        </div>\n",
       "    </div>\n"
      ],
      "text/plain": [
       "<IPython.core.display.HTML object>"
      ]
     },
     "metadata": {},
     "output_type": "display_data"
    },
    {
     "data": {
      "text/html": [
       "\n",
       "    <div>\n",
       "        <div>\n",
       "            <img class=\"pull-left\" src=https://lh3.googleusercontent.com/s2S7Q8NyH4OlJ8Evfgdm08DDn9xyT6gUsbxZd3eN9Fpr9p_QAnZZfocSbgFG0uwvBQC4vElFS_zJ5btSRg=s0#w=1440&h=780 width=6%/>\n",
       "        </div>\n",
       "        <div style=\"padding-left: 2cm;\">\n",
       "            <h5>32. Computation Structures 1: Digital Circuits</h5>(course-v1:MITx+6.004.1x_2+3T2015)\n",
       "        </div>\n",
       "    </div>\n"
      ],
      "text/plain": [
       "<IPython.core.display.HTML object>"
      ]
     },
     "metadata": {},
     "output_type": "display_data"
    },
    {
     "data": {
      "text/html": [
       "\n",
       "    <div>\n",
       "        <div>\n",
       "            <img class=\"pull-left\" src=https://lh3.googleusercontent.com/s2S7Q8NyH4OlJ8Evfgdm08DDn9xyT6gUsbxZd3eN9Fpr9p_QAnZZfocSbgFG0uwvBQC4vElFS_zJ5btSRg=s0#w=1440&h=780 width=6%/>\n",
       "        </div>\n",
       "        <div style=\"padding-left: 2cm;\">\n",
       "            <h5>33. Computation Structures 2: Computer Architecture</h5>(course-v1:MITx+6.004.2x+3T2015)\n",
       "        </div>\n",
       "    </div>\n"
      ],
      "text/plain": [
       "<IPython.core.display.HTML object>"
      ]
     },
     "metadata": {},
     "output_type": "display_data"
    },
    {
     "data": {
      "text/html": [
       "\n",
       "    <div>\n",
       "        <div>\n",
       "            <img class=\"pull-left\" src=https://lh3.googleusercontent.com/s2S7Q8NyH4OlJ8Evfgdm08DDn9xyT6gUsbxZd3eN9Fpr9p_QAnZZfocSbgFG0uwvBQC4vElFS_zJ5btSRg=s0#w=1440&h=780 width=6%/>\n",
       "        </div>\n",
       "        <div style=\"padding-left: 2cm;\">\n",
       "            <h5>34. Computation Structures 3: Computer Organization</h5>(course-v1:MITx+6.004.3x+2T2016)\n",
       "        </div>\n",
       "    </div>\n"
      ],
      "text/plain": [
       "<IPython.core.display.HTML object>"
      ]
     },
     "metadata": {},
     "output_type": "display_data"
    },
    {
     "data": {
      "text/html": [
       "\n",
       "    <div>\n",
       "        <div>\n",
       "            <img class=\"pull-left\" src=https://lh3.googleusercontent.com/s2S7Q8NyH4OlJ8Evfgdm08DDn9xyT6gUsbxZd3eN9Fpr9p_QAnZZfocSbgFG0uwvBQC4vElFS_zJ5btSRg=s0#w=1440&h=780 width=6%/>\n",
       "        </div>\n",
       "        <div style=\"padding-left: 2cm;\">\n",
       "            <h5>35. Computation Structures 1: Digital Circuits</h5>(course-v1:MITx+6.004.1x_3+3T2016)\n",
       "        </div>\n",
       "    </div>\n"
      ],
      "text/plain": [
       "<IPython.core.display.HTML object>"
      ]
     },
     "metadata": {},
     "output_type": "display_data"
    },
    {
     "data": {
      "text/html": [
       "\n",
       "    <div>\n",
       "        <div>\n",
       "            <img class=\"pull-left\" src=https://lh3.googleusercontent.com/s2S7Q8NyH4OlJ8Evfgdm08DDn9xyT6gUsbxZd3eN9Fpr9p_QAnZZfocSbgFG0uwvBQC4vElFS_zJ5btSRg=s0#w=1440&h=780 width=6%/>\n",
       "        </div>\n",
       "        <div style=\"padding-left: 2cm;\">\n",
       "            <h5>36. Computation Structures 2: Computer Architecture</h5>(course-v1:MITx+6.004.2x_2+3T2016)\n",
       "        </div>\n",
       "    </div>\n"
      ],
      "text/plain": [
       "<IPython.core.display.HTML object>"
      ]
     },
     "metadata": {},
     "output_type": "display_data"
    },
    {
     "data": {
      "text/html": [
       "\n",
       "    <div>\n",
       "        <div>\n",
       "            <img class=\"pull-left\" src=https://lh3.googleusercontent.com/s2S7Q8NyH4OlJ8Evfgdm08DDn9xyT6gUsbxZd3eN9Fpr9p_QAnZZfocSbgFG0uwvBQC4vElFS_zJ5btSRg=s0#w=1440&h=780 width=6%/>\n",
       "        </div>\n",
       "        <div style=\"padding-left: 2cm;\">\n",
       "            <h5>37. Computation Structures - Part 1: Digital Circuits</h5>(MITx/6.004.1x/1T2015)\n",
       "        </div>\n",
       "    </div>\n"
      ],
      "text/plain": [
       "<IPython.core.display.HTML object>"
      ]
     },
     "metadata": {},
     "output_type": "display_data"
    },
    {
     "data": {
      "text/html": [
       "\n",
       "    <div>\n",
       "        <div>\n",
       "            <img class=\"pull-left\" src=https://lh3.googleusercontent.com/s2S7Q8NyH4OlJ8Evfgdm08DDn9xyT6gUsbxZd3eN9Fpr9p_QAnZZfocSbgFG0uwvBQC4vElFS_zJ5btSRg=s0#w=1440&h=780 width=6%/>\n",
       "        </div>\n",
       "        <div style=\"padding-left: 2cm;\">\n",
       "            <h5>38. AP?? Calculus: Challenging Concepts from Calculus AB & Calculus BC</h5>(course-v1:DavidsonNext+Cal_APccx+2T2015)\n",
       "        </div>\n",
       "    </div>\n"
      ],
      "text/plain": [
       "<IPython.core.display.HTML object>"
      ]
     },
     "metadata": {},
     "output_type": "display_data"
    },
    {
     "data": {
      "text/html": [
       "\n",
       "    <div>\n",
       "        <div>\n",
       "            <img class=\"pull-left\" src=https://lh3.googleusercontent.com/s2S7Q8NyH4OlJ8Evfgdm08DDn9xyT6gUsbxZd3eN9Fpr9p_QAnZZfocSbgFG0uwvBQC4vElFS_zJ5btSRg=s0#w=1440&h=780 width=6%/>\n",
       "        </div>\n",
       "        <div style=\"padding-left: 2cm;\">\n",
       "            <h5>39. AP?? Calculus: Challenging Concepts from Calculus AB & Calculus BC</h5>(course-v1:DavidsonNext+Cal_APccx+2T2016)\n",
       "        </div>\n",
       "    </div>\n"
      ],
      "text/plain": [
       "<IPython.core.display.HTML object>"
      ]
     },
     "metadata": {},
     "output_type": "display_data"
    },
    {
     "data": {
      "text/html": [
       "\n",
       "    <div>\n",
       "        <div>\n",
       "            <img class=\"pull-left\" src=https://lh3.googleusercontent.com/s2S7Q8NyH4OlJ8Evfgdm08DDn9xyT6gUsbxZd3eN9Fpr9p_QAnZZfocSbgFG0uwvBQC4vElFS_zJ5btSRg=s0#w=1440&h=780 width=6%/>\n",
       "        </div>\n",
       "        <div style=\"padding-left: 2cm;\">\n",
       "            <h5>40. Principles of Economics with Calculus</h5>(CaltechX/Ec1011x/1T2014)\n",
       "        </div>\n",
       "    </div>\n"
      ],
      "text/plain": [
       "<IPython.core.display.HTML object>"
      ]
     },
     "metadata": {},
     "output_type": "display_data"
    },
    {
     "data": {
      "text/html": [
       "\n",
       "    <div>\n",
       "        <div>\n",
       "            <img class=\"pull-left\" src=https://lh3.googleusercontent.com/s2S7Q8NyH4OlJ8Evfgdm08DDn9xyT6gUsbxZd3eN9Fpr9p_QAnZZfocSbgFG0uwvBQC4vElFS_zJ5btSRg=s0#w=1440&h=780 width=6%/>\n",
       "        </div>\n",
       "        <div style=\"padding-left: 2cm;\">\n",
       "            <h5>41. Principles of Economics with Calculus</h5>(course-v1:CaltechX+Ec1011x_2+T12015)\n",
       "        </div>\n",
       "    </div>\n"
      ],
      "text/plain": [
       "<IPython.core.display.HTML object>"
      ]
     },
     "metadata": {},
     "output_type": "display_data"
    },
    {
     "data": {
      "text/html": [
       "\n",
       "    <div>\n",
       "        <div>\n",
       "            <img class=\"pull-left\" src=https://lh3.googleusercontent.com/s2S7Q8NyH4OlJ8Evfgdm08DDn9xyT6gUsbxZd3eN9Fpr9p_QAnZZfocSbgFG0uwvBQC4vElFS_zJ5btSRg=s0#w=1440&h=780 width=6%/>\n",
       "        </div>\n",
       "        <div style=\"padding-left: 2cm;\">\n",
       "            <h5>42. Principles of Economics with Calculus</h5>(course-v1:CaltechX+Ec1011x+1T2016)\n",
       "        </div>\n",
       "    </div>\n"
      ],
      "text/plain": [
       "<IPython.core.display.HTML object>"
      ]
     },
     "metadata": {},
     "output_type": "display_data"
    },
    {
     "data": {
      "text/html": [
       "\n",
       "    <div>\n",
       "        <div>\n",
       "            <img class=\"pull-left\" src=https://lh3.googleusercontent.com/s2S7Q8NyH4OlJ8Evfgdm08DDn9xyT6gUsbxZd3eN9Fpr9p_QAnZZfocSbgFG0uwvBQC4vElFS_zJ5btSRg=s0#w=1440&h=780 width=6%/>\n",
       "        </div>\n",
       "        <div style=\"padding-left: 2cm;\">\n",
       "            <h5>43. Principles of Economics with Calculus</h5>(course-v1:CaltechX+Ec1011x+1T2017)\n",
       "        </div>\n",
       "    </div>\n"
      ],
      "text/plain": [
       "<IPython.core.display.HTML object>"
      ]
     },
     "metadata": {},
     "output_type": "display_data"
    },
    {
     "data": {
      "text/html": [
       "\n",
       "    <div>\n",
       "        <div>\n",
       "            <img class=\"pull-left\" src=https://lh3.googleusercontent.com/s2S7Q8NyH4OlJ8Evfgdm08DDn9xyT6gUsbxZd3eN9Fpr9p_QAnZZfocSbgFG0uwvBQC4vElFS_zJ5btSRg=s0#w=1440&h=780 width=6%/>\n",
       "        </div>\n",
       "        <div style=\"padding-left: 2cm;\">\n",
       "            <h5>44. AP?? Calculus BC</h5>(course-v1:DavidsonNext+Cal_APBCx+3T2016)\n",
       "        </div>\n",
       "    </div>\n"
      ],
      "text/plain": [
       "<IPython.core.display.HTML object>"
      ]
     },
     "metadata": {},
     "output_type": "display_data"
    },
    {
     "data": {
      "text/html": [
       "\n",
       "    <div>\n",
       "        <div>\n",
       "            <img class=\"pull-left\" src=https://lh3.googleusercontent.com/s2S7Q8NyH4OlJ8Evfgdm08DDn9xyT6gUsbxZd3eN9Fpr9p_QAnZZfocSbgFG0uwvBQC4vElFS_zJ5btSRg=s0#w=1440&h=780 width=6%/>\n",
       "        </div>\n",
       "        <div style=\"padding-left: 2cm;\">\n",
       "            <h5>45. Pre-University Calculus</h5>(DelftX/Calc001x/2T2015)\n",
       "        </div>\n",
       "    </div>\n"
      ],
      "text/plain": [
       "<IPython.core.display.HTML object>"
      ]
     },
     "metadata": {},
     "output_type": "display_data"
    },
    {
     "data": {
      "text/html": [
       "\n",
       "    <div>\n",
       "        <div>\n",
       "            <img class=\"pull-left\" src=https://lh3.googleusercontent.com/s2S7Q8NyH4OlJ8Evfgdm08DDn9xyT6gUsbxZd3eN9Fpr9p_QAnZZfocSbgFG0uwvBQC4vElFS_zJ5btSRg=s0#w=1440&h=780 width=6%/>\n",
       "        </div>\n",
       "        <div style=\"padding-left: 2cm;\">\n",
       "            <h5>46. Pre-University Calculus</h5>(course-v1:DelftX+Calc001x+2T2016)\n",
       "        </div>\n",
       "    </div>\n"
      ],
      "text/plain": [
       "<IPython.core.display.HTML object>"
      ]
     },
     "metadata": {},
     "output_type": "display_data"
    },
    {
     "data": {
      "text/html": [
       "\n",
       "    <div>\n",
       "        <div>\n",
       "            <img class=\"pull-left\" src=https://lh3.googleusercontent.com/s2S7Q8NyH4OlJ8Evfgdm08DDn9xyT6gUsbxZd3eN9Fpr9p_QAnZZfocSbgFG0uwvBQC4vElFS_zJ5btSRg=s0#w=1440&h=780 width=6%/>\n",
       "        </div>\n",
       "        <div style=\"padding-left: 2cm;\">\n",
       "            <h5>47. Pre-University Calculus</h5>(course-v1:DelftX+Calc001x+3T2016)\n",
       "        </div>\n",
       "    </div>\n"
      ],
      "text/plain": [
       "<IPython.core.display.HTML object>"
      ]
     },
     "metadata": {},
     "output_type": "display_data"
    }
   ],
   "source": [
    "\n",
    "\n",
    "tmp_img_url = \"https://lh3.googleusercontent.com/s2S7Q8NyH4OlJ8Evfgdm08DDn9xyT6gUsbxZd3eN9Fpr9p_QAnZZfocSbgFG0uwvBQC4vElFS_zJ5btSRg=s0#w=1440&h=780\"\n",
    "template = \"\"\"\n",
    "    <div>\n",
    "        <div>\n",
    "            <img class=\"pull-left\" src={} width=6%/>\n",
    "        </div>\n",
    "        <div style=\"padding-left: 2cm;\">\n",
    "            <h5>{}. {}</h5>({})\n",
    "        </div>\n",
    "    </div>\n",
    "\"\"\"\n",
    "\n",
    "display(HTML('<div>Total Number of Results {}</div>'.format(len(rewritten_results))))\n",
    "for i,r in enumerate(rewritten_results):\n",
    "    display(HTML(template.format(tmp_img_url,i+1,r['name'].encode('ascii', 'replace'),r['course_id'].encode('ascii', 'replace'))))"
   ]
  },
  {
   "cell_type": "code",
   "execution_count": null,
   "metadata": {
    "collapsed": true
   },
   "outputs": [],
   "source": []
  },
  {
   "cell_type": "code",
   "execution_count": 13,
   "metadata": {
    "collapsed": true
   },
   "outputs": [],
   "source": [
    "uni = u'Bases matem\\xc3\\xa1ticas: Algebra'"
   ]
  },
  {
   "cell_type": "code",
   "execution_count": 18,
   "metadata": {
    "collapsed": false
   },
   "outputs": [
    {
     "data": {
      "text/plain": [
       "'Bases matem??ticas: Algebra'"
      ]
     },
     "execution_count": 18,
     "metadata": {},
     "output_type": "execute_result"
    }
   ],
   "source": [
    "uni.encode('ascii', 'replace')"
   ]
  },
  {
   "cell_type": "code",
   "execution_count": null,
   "metadata": {
    "collapsed": true
   },
   "outputs": [],
   "source": []
  },
  {
   "cell_type": "code",
   "execution_count": null,
   "metadata": {
    "collapsed": true
   },
   "outputs": [],
   "source": []
  },
  {
   "cell_type": "code",
   "execution_count": null,
   "metadata": {
    "collapsed": true
   },
   "outputs": [],
   "source": []
  },
  {
   "cell_type": "code",
   "execution_count": null,
   "metadata": {
    "collapsed": true
   },
   "outputs": [],
   "source": []
  },
  {
   "cell_type": "code",
   "execution_count": null,
   "metadata": {
    "collapsed": true
   },
   "outputs": [],
   "source": []
  },
  {
   "cell_type": "code",
   "execution_count": null,
   "metadata": {
    "collapsed": true
   },
   "outputs": [],
   "source": []
  },
  {
   "cell_type": "code",
   "execution_count": null,
   "metadata": {
    "collapsed": true
   },
   "outputs": [],
   "source": []
  },
  {
   "cell_type": "code",
   "execution_count": null,
   "metadata": {
    "collapsed": true
   },
   "outputs": [],
   "source": []
  },
  {
   "cell_type": "code",
   "execution_count": null,
   "metadata": {
    "collapsed": true
   },
   "outputs": [],
   "source": []
  },
  {
   "cell_type": "code",
   "execution_count": null,
   "metadata": {
    "collapsed": true
   },
   "outputs": [],
   "source": []
  },
  {
   "cell_type": "code",
   "execution_count": null,
   "metadata": {
    "collapsed": true
   },
   "outputs": [],
   "source": []
  },
  {
   "cell_type": "code",
   "execution_count": null,
   "metadata": {
    "collapsed": true
   },
   "outputs": [],
   "source": []
  },
  {
   "cell_type": "code",
   "execution_count": null,
   "metadata": {
    "collapsed": true
   },
   "outputs": [],
   "source": []
  },
  {
   "cell_type": "code",
   "execution_count": null,
   "metadata": {
    "collapsed": true
   },
   "outputs": [],
   "source": []
  },
  {
   "cell_type": "code",
   "execution_count": null,
   "metadata": {
    "collapsed": true
   },
   "outputs": [],
   "source": []
  },
  {
   "cell_type": "code",
   "execution_count": null,
   "metadata": {
    "collapsed": true
   },
   "outputs": [],
   "source": []
  }
 ],
 "metadata": {
  "anaconda-cloud": {},
  "kernelspec": {
   "display_name": "Python [default]",
   "language": "python",
   "name": "python2"
  },
  "language_info": {
   "codemirror_mode": {
    "name": "ipython",
    "version": 2
   },
   "file_extension": ".py",
   "mimetype": "text/x-python",
   "name": "python",
   "nbconvert_exporter": "python",
   "pygments_lexer": "ipython2",
   "version": "2.7.12"
  }
 },
 "nbformat": 4,
 "nbformat_minor": 2
}
