{
 "cells": [
  {
   "cell_type": "markdown",
   "metadata": {},
   "source": [
    "# SearchBetter demos"
   ]
  },
  {
   "cell_type": "markdown",
   "metadata": {},
   "source": [
    "## Getting started\n",
    "\n",
    "Before you run this demo, you'll need to do a few things:\n",
    "\n",
    "* Make sure you define `secure.py` in the `src/` directory. We've provided a `secure.py.example` for you to work off! Also, ensure that all the folders you referenced in `secure.py` exist.\n",
    "* Download the [Udacity course listings](https://www.udacity.com/public-api/v0/courses) and put it in the folder you defined as `DATASET_PATH_BASE` in `secure.py`.\n",
    "* Download and clean the Wikipedia dump as described in the README."
   ]
  },
  {
   "cell_type": "code",
   "execution_count": 1,
   "metadata": {
    "collapsed": false
   },
   "outputs": [],
   "source": [
    "# First, let's get all the imports out of the way...\n",
    "\n",
    "import gensim.models.word2vec as word2vec\n",
    "from pprint import pprint\n",
    "\n",
    "import sys\n",
    "sys.path.append('../')\n",
    "sys.path.append('../src/')\n",
    "\n",
    "import searchbetter.search as search\n",
    "reload(search)\n",
    "import searchbetter.rewriter as rewriter\n",
    "reload(rewriter)\n",
    "\n",
    "import secure"
   ]
  },
  {
   "cell_type": "markdown",
   "metadata": {},
   "source": [
    "## Making a search engine\n",
    "\n",
    "SearchBetter lets you make custom, batteries-included search engines out of any dataset, no matter how large or how small. We include some examples in `search.py`. As an example, consider the pre-built edX search engine, which searches over a dump of all edX courses."
   ]
  },
  {
   "cell_type": "code",
   "execution_count": 2,
   "metadata": {
    "collapsed": false
   },
   "outputs": [
    {
     "name": "stdout",
     "output_type": "stream",
     "text": [
      "32 Udacity search results for 'android':\n",
      "[({'slug': u'developing-android-apps--ud853', 'title': u'Developing Android Apps'}, 27.891231793004),\n",
      " ({'slug': u'new-android-fundamentals--ud851', 'title': u'New Android Fundamentals'}, 26.929221353569236),\n",
      " ({'slug': u'android-for-beginners--ud834', 'title': u'Android for Beginners'}, 26.75707216368228),\n",
      " ({'slug': u'android-for-beginners--ud834', 'title': u'Android for Beginners'}, 26.75707216368228),\n",
      " ({'slug': u'android-tv-and-google-cast-development--ud875B', 'title': u'Android TV and Google Cast Development'}, 21.311355239018084),\n",
      " ({'slug': u'gradle-for-android-and-java--ud867', 'title': u'Gradle for Android and Java'}, 21.10007543619399),\n",
      " ({'slug': u'android-wear-development--ud875A', 'title': u'Android Wear Development'}, 19.264404039503354),\n",
      " ({'slug': u'material-design-for-android-developers--ud862', 'title': u'Material Design for Android Developers'}, 19.188179664578513),\n",
      " ({'slug': u'android-basics-user-input--ud836', 'title': u'Android Basics: User Input'}, 19.11634972679303),\n",
      " ({'slug': u'android-basics-user-input--ud836', 'title': u'Android Basics: User Input'}, 19.11634972679303),\n",
      " ({'slug': u'android-basics-networking--ud843', 'title': u'Android Basics: Networking'}, 17.60295037819826),\n",
      " ({'slug': u'android-basics-networking--ud843', 'title': u'Android Basics: Networking'}, 17.60295037819826),\n",
      " ({'slug': u'android-basics-multi-screen-apps--ud839', 'title': u'Android Basics: Multi-screen Apps'}, 16.58196369949852),\n",
      " ({'slug': u'android-basics-data-storage--ud845', 'title': u'Android Basics: Data Storage'}, 16.396480537288635),\n",
      " ({'slug': u'monetize-your-android-app-with-ads--ud876-3', 'title': u'Monetize Your Android App with Ads'}, 16.20912394544632),\n",
      " ({'slug': u'android-auto-development--ud875C', 'title': u'Android Auto Development'}, 15.777494182896843),\n",
      " ({'slug': u'google-location-services-on-android--ud876-1', 'title': u'Google Location Services on Android'}, 15.218265776752935),\n",
      " ({'slug': u'google-analytics-for-android--ud876-2', 'title': u'Google Analytics for Android'}, 14.61065347503726),\n",
      " ({'slug': u'add-google-maps-to-your-android-app--ud876-4', 'title': u'Add Google Maps to your Android App'}, 14.463698150368904),\n",
      " ({'slug': u'advanced-android-app-development--ud855', 'title': u'Advanced Android App Development'}, 13.960184800008111),\n",
      " ({'slug': u'android-performance--ud825', 'title': u'Android Performance'}, 12.713908308302491),\n",
      " ({'slug': u'ux-design-for-mobile-developers--ud849', 'title': u'UX Design for Mobile Developers'}, 12.282743978049073),\n",
      " ({'slug': u'firebase-essentials-for-android--ud009', 'title': u'Firebase Essentials For Android'}, 11.668952369040962),\n",
      " ({'slug': u'firebase-in-a-weekend-by-google-android--ud0352', 'title': u'Firebase in a Weekend by Google: Android'}, 11.038456872373068),\n",
      " ({'slug': u'developing-scalable-apps-in-java--ud859', 'title': u'Developing Scalable Apps in Java'}, 7.273413796900539),\n",
      " ({'slug': u'2d-game-development-with-libgdx--ud405', 'title': u'2D Game Development with libGDX'}, 4.331130843986378),\n",
      " ({'slug': u'java-programming-basics--ud282', 'title': u'Java Programming Basics'}, 4.042153082512434),\n",
      " ({'slug': u'developing-scalable-apps-in-python--ud858', 'title': u'Developing Scalable Apps in Python'}, 3.7690489731826435),\n",
      " ({'slug': u'mobile-web-development--cs256', 'title': u'Mobile Web Development'}, 3.032391199783027),\n",
      " ({'slug': u'intro-to-java-programming--cs046', 'title': u'Intro to Java Programming'}, 2.5291822941828452),\n",
      " ({'slug': u'software-development-process--ud805', 'title': u'Software Development Process'}, 2.185297310511487),\n",
      " ({'slug': u'firebase-in-a-weekend-by-google-ios--ud0351', 'title': u'Firebase in a Weekend by Google: iOS'}, 1.8700573294592286)]\n",
      "\n",
      "\n",
      "15 Udacity search results for 'machine learning':\n",
      "[({'slug': u'deep-learning--ud730', 'title': u'Deep Learning'}, 47.550493539028466),\n",
      " ({'slug': u'intro-to-machine-learning--ud120', 'title': u'Intro to Machine Learning'}, 47.366745059644586),\n",
      " ({'slug': u'machine-learning-for-trading--ud501', 'title': u'Machine Learning for Trading'}, 46.211637044152376),\n",
      " ({'slug': u'machine-learning--ud262', 'title': u'Machine Learning'}, 41.25203270672728),\n",
      " ({'slug': u'intro-to-artificial-intelligence--cs271', 'title': u'Intro to Artificial Intelligence'}, 33.710023338914375),\n",
      " ({'slug': u'reinforcement-learning--ud600', 'title': u'Reinforcement Learning'}, 32.032009425495815),\n",
      " ({'slug': u'model-building-and-validation--ud919', 'title': u'Model Building and Validation'}, 23.884872987325835),\n",
      " ({'slug': u'intro-to-data-science--ud359', 'title': u'Intro to Data Science'}, 15.197983858488389),\n",
      " ({'slug': u'cse-8803-special-topics-big-data--ud758', 'title': u'CSE 8803 Special Topics: Big Data'}, 13.473366651333809),\n",
      " ({'slug': u'introduction-to-computer-vision--ud810', 'title': u'Introduction to Computer Vision'}, 13.053622566247574),\n",
      " ({'slug': u'configuring-linux-web-servers--ud299', 'title': u'Configuring Linux Web Servers'}, 11.736469526891145),\n",
      " ({'slug': u'segmentation-and-clustering--ud981', 'title': u'Segmentation and Clustering'}, 8.541501498264628),\n",
      " ({'slug': u'intro-to-descriptive-statistics--ud827', 'title': u'Intro to Descriptive Statistics'}, 7.634297592944632),\n",
      " ({'slug': u'scalable-microservices-with-kubernetes--ud615', 'title': u'Scalable Microservices with Kubernetes'}, 6.5650180277851025),\n",
      " ({'slug': u'intro-to-relational-databases--ud197', 'title': u'Intro to Relational Databases'}, 5.6437400637826505)]\n"
     ]
    }
   ],
   "source": [
    "# Create a search engine that searches over all edX courses.\n",
    "# Under the hood, this uses Python's Whoosh library to index\n",
    "# the course data stored in a CSV and then run searches against it.\n",
    "dataset_path = secure.DATASET_PATH_BASE+'udacity-api.json'\n",
    "index_path = secure.INDEX_PATH_BASE+'udacity'\n",
    "\n",
    "# Use `create=False` if you've already made the search engine, `create=True` if this is\n",
    "# your first time making it. We cache the search indices behind search engines on disk.\n",
    "### UNCOMMENT THE BELOW IF YOU'RE RUNNING THIS FOR THE FIRST TIME\n",
    "# udacity_engine = search.UdacitySearchEngine(dataset_path, index_path, create=True)\n",
    "### COMMENT THE BELOW IF YOU'RE RUNNING THIS FOR THE FIRST TIME\n",
    "udacity_engine = search.UdacitySearchEngine(dataset_path, index_path, create=False)\n",
    "\n",
    "# We expose a simple searching API\n",
    "search_term = \"android\"\n",
    "udacity_results = udacity_engine.search(search_term)\n",
    "print \"%d Udacity search results for '%s':\" % (len(udacity_results), search_term)\n",
    "pprint(udacity_results)\n",
    "\n",
    "print \"\\n\"\n",
    "\n",
    "# Searching works on bigrams (two-word queries) too!\n",
    "search_term = \"machine learning\"\n",
    "udacity_results = udacity_engine.search(search_term)\n",
    "print \"%d Udacity search results for '%s':\" % (len(udacity_results), search_term)\n",
    "pprint(udacity_results)"
   ]
  },
  {
   "cell_type": "markdown",
   "metadata": {},
   "source": [
    "## Query rewriting\n",
    "\n",
    "Sometimes the plain-vanilla search engine just doesn't cut it. Sometimes search queries don't return enough results.   With query rewriting, the search engine looks for semantically related terms to the user's query in addition to the query itself. This helps find more search results, which is particularly useful if the bare query doesn't get any hits.\n",
    "\n",
    "SearchBetter has two built-in query rewriters: a simple one that uses Wikipedia's Categories API to find similar terms, and a more complex one that uses Google's Word2Vec (a ML similar-word-finding algorithm trained on Wikipedia article dumps) to find similar phrases."
   ]
  },
  {
   "cell_type": "code",
   "execution_count": 3,
   "metadata": {
    "collapsed": false,
    "scrolled": true
   },
   "outputs": [
    {
     "name": "stdout",
     "output_type": "stream",
     "text": [
      "Rewrites of 'socialism' using Wikipedia Categories:\n",
      "['socialism']\n",
      "\n",
      "\n",
      "Rewrites of 'socialism' using Word2Vec:\n",
      "[u'communism',\n",
      " u'capitalism',\n",
      " u'ideology',\n",
      " u'fascism',\n",
      " u'liberalism',\n",
      " u'marxism',\n",
      " u'marxist',\n",
      " u'laissez faire',\n",
      " u'imperialism',\n",
      " u'nationalism',\n",
      " u'socialism']\n"
     ]
    }
   ],
   "source": [
    "# Query rewriting lets you turn a single search query into\n",
    "# multiple related queries. You can then search for *all*\n",
    "# of these queries, which can result in more and more useful\n",
    "# results than just the original query would give.\n",
    "\n",
    "# First, a rewriter that uses the Wikipedia category API\n",
    "# to find terms related to the original term\n",
    "wiki_rewriter = rewriter.WikipediaRewriter()\n",
    "term = \"socialism\"\n",
    "wiki_rewritten_queries = wiki_rewriter.rewrite(term)\n",
    "print \"Rewrites of '%s' using Wikipedia Categories:\" % term\n",
    "pprint(wiki_rewritten_queries)\n",
    "\n",
    "\n",
    "print \"\\n\"\n",
    "\n",
    "\n",
    "# Second, a rewriter that uses Word2Vec to find similar\n",
    "# words to the entered term. This is a machine learning\n",
    "# algorithm trained on a large text corpus.\n",
    "# Prepare the corpus (from Wikipedia) to use for the Word2Vec Rewriter.\n",
    "corpus = word2vec.LineSentence(secure.DATASET_PATH_BASE + 'wikiclean8')\n",
    "\n",
    "# Now make the rewriter...\n",
    "model_path = secure.MODEL_PATH_BASE+'word2vec/word2vec'\n",
    "\n",
    "## UNCOMMENT the below line if it's your first time making this rewriter\n",
    "# w2v_rewriter = rewriter.Word2VecRewriter(model_path, create=True, corpus=corpus, bigrams=True)\n",
    "## UNCOMMENT the below line if you've made the rewriter before\n",
    "w2v_rewriter = rewriter.Word2VecRewriter(model_path, create=False)\n",
    "\n",
    "w2v_rewritten_queries = w2v_rewriter.rewrite(term)\n",
    "print \"Rewrites of '%s' using Word2Vec:\" % term\n",
    "pprint(w2v_rewritten_queries)"
   ]
  },
  {
   "cell_type": "markdown",
   "metadata": {},
   "source": [
    "## Putting it together: Query-Rewriting Search Engines\n",
    "\n",
    "As we've seen, query rewriters convert one search term into a set of semantically similar ones. Hopefully, by searching for the whole set of terms instead of just one term, we could get more (and more useful) results out of a search engine.\n",
    "\n",
    "With SearchBetter, you can connect any query rewriter to any search engine and automatically start getting more results."
   ]
  },
  {
   "cell_type": "code",
   "execution_count": 4,
   "metadata": {
    "collapsed": false
   },
   "outputs": [
    {
     "name": "stdout",
     "output_type": "stream",
     "text": [
      "Without rewriting, 5 results for 'artificial intelligence':\n",
      "[({'slug': u'knowledge-based-ai-cognitive-systems--ud409', 'title': u'Knowledge-Based AI: Cognitive Systems'}, 46.24125226687919),\n",
      " ({'slug': u'intro-to-artificial-intelligence--cs271', 'title': u'Intro to Artificial Intelligence'}, 28.374782225574677),\n",
      " ({'slug': u'artificial-intelligence-for-robotics--cs373', 'title': u'Artificial Intelligence for Robotics'}, 19.221448099586404),\n",
      " ({'slug': u'deep-learning--ud730', 'title': u'Deep Learning'}, 10.734610989407734),\n",
      " ({'slug': u'machine-learning--ud262', 'title': u'Machine Learning'}, 7.2160323163384295)]\n",
      "\n",
      "\n",
      "With Wikipedia Categories rewriting, 5 results for 'artificial intelligence':\n",
      "[({'slug': u'knowledge-based-ai-cognitive-systems--ud409', 'title': u'Knowledge-Based AI: Cognitive Systems'}, 46.24125226687919),\n",
      " ({'slug': u'intro-to-artificial-intelligence--cs271', 'title': u'Intro to Artificial Intelligence'}, 28.374782225574677),\n",
      " ({'slug': u'artificial-intelligence-for-robotics--cs373', 'title': u'Artificial Intelligence for Robotics'}, 19.221448099586404),\n",
      " ({'slug': u'deep-learning--ud730', 'title': u'Deep Learning'}, 10.734610989407734),\n",
      " ({'slug': u'machine-learning--ud262', 'title': u'Machine Learning'}, 7.2160323163384295)]\n",
      "\n",
      "\n",
      "With Word2Vec rewriting, 19 results for 'artificial intelligence':\n",
      "[({'slug': u'software-development-process--ud805', 'title': u'Software Development Process'}, 57.44743951652065),\n",
      " ({'slug': u'knowledge-based-ai-cognitive-systems--ud409', 'title': u'Knowledge-Based AI: Cognitive Systems'}, 46.24125226687919),\n",
      " ({'slug': u'intro-to-computer-science--cs101', 'title': u'Intro to Computer Science'}, 44.07395709156124),\n",
      " ({'slug': u'intro-to-theoretical-computer-science--cs313', 'title': u'Intro to Theoretical Computer Science'}, 39.97226939999818),\n",
      " ({'slug': u'computer-networking--ud436', 'title': u'Computer Networking'}, 29.08133009497014),\n",
      " ({'slug': u'intro-to-java-programming--cs046', 'title': u'Intro to Java Programming'}, 23.91325075613908),\n",
      " ({'slug': u'intro-to-artificial-intelligence--cs271', 'title': u'Intro to Artificial Intelligence'}, 16.32023060034226),\n",
      " ({'slug': u'introduction-to-computer-vision--ud810', 'title': u'Introduction to Computer Vision'}, 14.949360194906026),\n",
      " ({'slug': u'differential-equations-in-action--cs222', 'title': u'Differential Equations in Action'}, 12.321830208889988),\n",
      " ({'slug': u'deep-learning--ud730', 'title': u'Deep Learning'}, 10.734610989407734),\n",
      " ({'slug': u'technical-interview--ud513', 'title': u'Technical Interview'}, 10.283877682449393),\n",
      " ({'slug': u'product-design--ud509', 'title': u'Product Design'}, 9.348356182226443),\n",
      " ({'slug': u'machine-learning--ud262', 'title': u'Machine Learning'}, 9.348127550054356),\n",
      " ({'slug': u'software-debugging--cs259', 'title': u'Software Debugging'}, 7.909412457685507),\n",
      " ({'slug': u'reinforcement-learning--ud600', 'title': u'Reinforcement Learning'}, 7.75350157277364),\n",
      " ({'slug': u'intro-to-machine-learning--ud120', 'title': u'Intro to Machine Learning'}, 7.664740407368823),\n",
      " ({'slug': u'artificial-intelligence-for-robotics--cs373', 'title': u'Artificial Intelligence for Robotics'}, 7.222525679923923),\n",
      " ({'slug': u'developing-android-apps--ud853', 'title': u'Developing Android Apps'}, 5.529735822881141),\n",
      " ({'slug': u'data-wrangling-with-mongodb--ud032', 'title': u'Data Wrangling with MongoDB'}, 5.367658549871007)]\n"
     ]
    }
   ],
   "source": [
    "# Let's plug our two rewriters into the search engine\n",
    "# to compare the results\n",
    "\n",
    "# Suppose this is the user's search term\n",
    "search_term = 'artificial intelligence'\n",
    "\n",
    "# First, what do we get without rewriting?\n",
    "udacity_engine.set_rewriter(None)\n",
    "bare_results = udacity_engine.search(search_term)\n",
    "print \"Without rewriting, %d results for '%s':\" % (len(bare_results), search_term)\n",
    "pprint(bare_results)\n",
    "\n",
    "print \"\\n\"\n",
    "\n",
    "# Next, try the Wikipedia rewriter\n",
    "udacity_engine.set_rewriter(wiki_rewriter)\n",
    "wiki_rewritten_results = udacity_engine.search(search_term)\n",
    "print \"With Wikipedia Categories rewriting, %d results for '%s':\" % (len(wiki_rewritten_results), search_term)\n",
    "pprint(wiki_rewritten_results)\n",
    "\n",
    "print \"\\n\"\n",
    "\n",
    "# Last, try the Word2Vec rewriter\n",
    "udacity_engine.set_rewriter(w2v_rewriter)\n",
    "w2v_rewritten_results = udacity_engine.search(search_term)\n",
    "print \"With Word2Vec rewriting, %d results for '%s':\" % (len(w2v_rewritten_results), search_term)\n",
    "pprint(w2v_rewritten_results)"
   ]
  },
  {
   "cell_type": "markdown",
   "metadata": {},
   "source": [
    "## Using SearchBetter Yourself\n",
    "\n",
    "If you want to use SearchBetter's query rewriting and search engine capabilities in your own project, you have two easy options:\n",
    "\n",
    "* If you have a raw dataset you want to search (e.g. a CSV or JSON file), make a subclass of `search.WhooshSearchEngine`. You can find examples in `search.py`. All you have to specify is how to read over the dataset and put the data into the search engine index.\n",
    "* If you've already made a search engine or are working with some external API, you can wrap it in a subclass of `search.GenericSearchEngine` and get access to SearchBetter's query rewriting power with no additional work. \n",
    "\n",
    "Here's an example of how you'd wrap a custom search engine in a `search.GenericSearchEngine` to start taking advantage of our query rewriting functionality."
   ]
  },
  {
   "cell_type": "code",
   "execution_count": 5,
   "metadata": {
    "collapsed": false
   },
   "outputs": [
    {
     "name": "stdout",
     "output_type": "stream",
     "text": [
      "Before rewriting:\n",
      "['let sleeping dogs lie', 'raining cats and dogs']\n",
      "\n",
      "\n",
      "After Word2Vec rewriting:\n",
      "['raining cats and dogs',\n",
      " 'sacred cow',\n",
      " 'bay of pigs',\n",
      " 'duck duck goose',\n",
      " 'let sleeping dogs lie',\n",
      " 'raining cats and dogs']\n"
     ]
    }
   ],
   "source": [
    "def prebuilt_black_box_search(term):\n",
    "    # this is an example of a custom, pre-built search engine\n",
    "    # that you can't change or look inside (i.e. it's a black box)\n",
    "    strings = [\n",
    "        \"let sleeping dogs lie\",\n",
    "        \"raining cats and dogs\",\n",
    "        \"bay of pigs\",\n",
    "        \"duck duck goose\",\n",
    "        \"sacred cow\",\n",
    "        \"llama llama llama\",\n",
    "        \"poison dart frog\"\n",
    "    ]\n",
    "    \n",
    "    # do a simple text search for the term within the corpus\n",
    "    # of strings\n",
    "    matching_strings = [s for s in strings if term in s]\n",
    "    return matching_strings\n",
    "\n",
    "\n",
    "class SampleSearchEngine(search.GenericSearchEngine):\n",
    "    \"\"\"\n",
    "    A sample search engine that wraps the\n",
    "    `magic_black_box_search` search function.\n",
    "    \"\"\"\n",
    "    def __init__(self):\n",
    "        super(SampleSearchEngine, self).__init__()\n",
    "    \n",
    "    def single_search(self, term):\n",
    "        return prebuilt_black_box_search(term)\n",
    "    \n",
    "\n",
    "sample_engine = SampleSearchEngine()\n",
    "\n",
    "# first do a search without rewriting\n",
    "term = \"dog\"\n",
    "print \"Before rewriting:\"\n",
    "pprint(sample_engine.search(term))\n",
    "\n",
    "print \"\\n\"\n",
    "\n",
    "# now add a rewriter and search again\n",
    "# you'll find that we get more results!\n",
    "sample_engine.set_rewriter(w2v_rewriter)\n",
    "print \"After Word2Vec rewriting:\"\n",
    "pprint(sample_engine.search(term))"
   ]
  }
 ],
 "metadata": {
  "anaconda-cloud": {},
  "kernelspec": {
   "display_name": "Python [default]",
   "language": "python",
   "name": "python2"
  },
  "language_info": {
   "codemirror_mode": {
    "name": "ipython",
    "version": 2
   },
   "file_extension": ".py",
   "mimetype": "text/x-python",
   "name": "python",
   "nbconvert_exporter": "python",
   "pygments_lexer": "ipython2",
   "version": "2.7.12"
  }
 },
 "nbformat": 4,
 "nbformat_minor": 2
}
