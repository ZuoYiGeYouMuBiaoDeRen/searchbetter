{
 "cells": [
  {
   "cell_type": "code",
   "execution_count": 91,
   "metadata": {
    "collapsed": false
   },
   "outputs": [],
   "source": [
    "# # reading harvardx data from the csv\n",
    "# # still a work in progress since their dataset is malformatted\n",
    "# import csv\n",
    "\n",
    "# # load data\n",
    "# csvfile_path = '../datasets/corpus_HarvardX_LatestCourses_based_on_2016-10-18.csv'\n",
    "\n",
    "# with open(csvfile_path, 'r') as csvfile:\n",
    "#     reader = csv.DictReader(csvfile)\n",
    "#     print reader.next()"
   ]
  },
  {
   "cell_type": "code",
   "execution_count": 92,
   "metadata": {
    "collapsed": false
   },
   "outputs": [
    {
     "name": "stdout",
     "output_type": "stream",
     "text": [
      "<Schema: ['expected_learning', 'short_summary', 'slug', 'subtitle', 'summary', 'syllabus', 'title']>\n"
     ]
    }
   ],
   "source": [
    "# reading udacity stuff\n",
    "import json\n",
    "from whoosh.fields import *\n",
    "\n",
    "# load data \n",
    "udacity_path = 'datasets/udacity-api.json'\n",
    "\n",
    "udacity_data = None\n",
    "with open(udacity_path, 'r') as file:\n",
    "    udacity_data = json.load(file)\n",
    "    \n",
    "# print udacity_data['courses']\n",
    "\n",
    "\n",
    "# set up whoosh\n",
    "# schema \n",
    "schema = Schema(\n",
    "    slug=ID(stored=True),\n",
    "    title=TEXT(stored=True),\n",
    "    subtitle=TEXT,\n",
    "    expected_learning=TEXT,\n",
    "    syllabus=TEXT,\n",
    "    summary=TEXT,\n",
    "    short_summary=TEXT\n",
    ")\n",
    "\n",
    "print schema"
   ]
  },
  {
   "cell_type": "code",
   "execution_count": 93,
   "metadata": {
    "collapsed": false
   },
   "outputs": [
    {
     "name": "stdout",
     "output_type": "stream",
     "text": [
      "FileIndex(FileStorage('whoosh_indices'), 'MAIN')\n"
     ]
    }
   ],
   "source": [
    "# # make an index\n",
    "# # DONEEEEE FOR NOW\n",
    "# import os.path\n",
    "# from whoosh.index import create_in, open_dir\n",
    "\n",
    "# # make an index to store this stuff in \n",
    "# index_path = 'whoosh_indices'\n",
    "# if not os.path.exists(index_path):\n",
    "#     os.mkdir(index_path)\n",
    "# index = create_in(index_path, schema)\n",
    "\n",
    "# print index"
   ]
  },
  {
   "cell_type": "code",
   "execution_count": 94,
   "metadata": {
    "collapsed": true
   },
   "outputs": [],
   "source": [
    "# reopen index\n",
    "from whoosh.index import open_dir\n",
    "\n",
    "index = open_dir(index_path)\n"
   ]
  },
  {
   "cell_type": "code",
   "execution_count": 95,
   "metadata": {
    "collapsed": false
   },
   "outputs": [],
   "source": [
    "# start adding documents (i.e. the courses) to the index \n",
    "\n",
    "try:\n",
    "    writer = index.writer()\n",
    "    for course in udacity_data['courses']:\n",
    "#         print \"Writing course \" + course['title']\n",
    "        writer.add_document(\n",
    "            slug=course['slug'],\n",
    "            title=course['title'],\n",
    "            subtitle=course['subtitle'],\n",
    "            expected_learning=course['expected_learning'],\n",
    "            syllabus=course['syllabus'],\n",
    "            summary=course['summary'],\n",
    "            short_summary=course['short_summary'])\n",
    "    writer.commit()\n",
    "except Exception as e:\n",
    "#     print \":(\"\n",
    "    print e"
   ]
  },
  {
   "cell_type": "code",
   "execution_count": 98,
   "metadata": {
    "collapsed": false
   },
   "outputs": [
    {
     "name": "stdout",
     "output_type": "stream",
     "text": [
      "[<Hit {'slug': u'introduction-to-computer-vision--ud810', 'title': u'Introduction to Computer Vision'}>, <Hit {'slug': u'intro-to-artificial-intelligence--cs271', 'title': u'Intro to Artificial Intelligence'}>]\n"
     ]
    }
   ],
   "source": [
    "# search\n",
    "from whoosh.query import *\n",
    "from whoosh.qparser import MultifieldParser\n",
    "\n",
    "# query parser so we can enter normal english language queries\n",
    "fields = [\"title\", \"subtitle\", \"expected_learning\", \"syllabus\", \"summary\", \"short_summary\"]\n",
    "parser = MultifieldParser(fields, index.schema)\n",
    "\n",
    "with index.searcher() as searcher:\n",
    "    # run a test search\n",
    "    myquery = parser.parse(\"computer vision\")\n",
    "    results = searcher.search(myquery)\n",
    "    print list(results)\n",
    "    \n",
    "    "
   ]
  },
  {
   "cell_type": "code",
   "execution_count": null,
   "metadata": {
    "collapsed": true
   },
   "outputs": [],
   "source": []
  },
  {
   "cell_type": "code",
   "execution_count": null,
   "metadata": {
    "collapsed": true
   },
   "outputs": [],
   "source": []
  },
  {
   "cell_type": "code",
   "execution_count": null,
   "metadata": {
    "collapsed": true
   },
   "outputs": [],
   "source": []
  },
  {
   "cell_type": "code",
   "execution_count": null,
   "metadata": {
    "collapsed": true
   },
   "outputs": [],
   "source": []
  },
  {
   "cell_type": "code",
   "execution_count": null,
   "metadata": {
    "collapsed": true
   },
   "outputs": [],
   "source": []
  },
  {
   "cell_type": "code",
   "execution_count": null,
   "metadata": {
    "collapsed": true
   },
   "outputs": [],
   "source": []
  }
 ],
 "metadata": {
  "anaconda-cloud": {},
  "kernelspec": {
   "display_name": "Python [default]",
   "language": "python",
   "name": "python2"
  },
  "language_info": {
   "codemirror_mode": {
    "name": "ipython",
    "version": 2
   },
   "file_extension": ".py",
   "mimetype": "text/x-python",
   "name": "python",
   "nbconvert_exporter": "python",
   "pygments_lexer": "ipython2",
   "version": "2.7.12"
  }
 },
 "nbformat": 4,
 "nbformat_minor": 2
}
