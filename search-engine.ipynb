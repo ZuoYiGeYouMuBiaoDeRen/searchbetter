{
 "cells": [
  {
   "cell_type": "code",
   "execution_count": 10,
   "metadata": {
    "collapsed": false
   },
   "outputs": [
    {
     "name": "stdout",
     "output_type": "stream",
     "text": [
      "[{'slug': u'grand-central-dispatch-gcd--ud576', 'title': u'Grand Central Dispatch (GCD)'}, {'slug': u'intro-to-ios-app-development-with-swift--ud585', 'title': u'Intro to iOS App Development with Swift'}, {'slug': u'swift-for-beginners--ud1022', 'title': u'Swift for Beginners'}, {'slug': u'server-side-swift--ud1031', 'title': u'Server-Side Swift'}, {'slug': u'learn-swift-programming-syntax--ud902', 'title': u'Learn Swift Programming Syntax'}, {'slug': u'ios-persistence-and-core-data--ud325', 'title': u'iOS Persistence and Core Data'}]\n"
     ]
    }
   ],
   "source": [
    "import search\n",
    "reload(search)\n",
    "\n",
    "# reopen index, but reload it instead of creating it afresh\n",
    "udacity_se = search.UdacitySearchEngine(create=False)\n",
    "    \n",
    "# dictionary of results\n",
    "results = udacity_se.search(\"apple\")\n",
    "print results"
   ]
  },
  {
   "cell_type": "code",
   "execution_count": 21,
   "metadata": {
    "collapsed": false
   },
   "outputs": [
    {
     "name": "stdout",
     "output_type": "stream",
     "text": [
      "[{'course_id': u'course-v1:HarvardX+GSE4x+2T2016', 'display_name': u'Kathleen Hoover-Dempsey Bio'}, {'course_id': u'course-v1:HarvardX+GSE4x+2T2016', 'display_name': u'Additional Resources'}, {'course_id': u'course-v1:HarvardX+GSE4x+2T2016', 'display_name': u'Watch: Parental Motivation for Engagement'}, {'course_id': u'course-v1:HarvardX+GSE4x+2T2016', 'display_name': u'Additional Resources'}, {'course_id': u'course-v1:HarvardX+PH201x+2013_SOND', 'display_name': u'Meet the Teaching Assistants: Felicia Browne'}, {'course_id': u'course-v1:HarvardX+GSE2x+1T2016', 'display_name': u'Additional Resources'}, {'course_id': u'course-v1:HarvardX+GSE2x+1T2016', 'display_name': u'Intro to Neuroeducation'}, {'course_id': u'course-v1:HarvardX+1368.2x+2T2016', 'display_name': u'Glossary'}, {'course_id': u'course-v1:HarvardX+GSE4x+2T2016', 'display_name': u'Explore the Research'}, {'course_id': u'course-v1:HarvardX+AmPoX.6+2T2016', 'display_name': u''}]\n"
     ]
    }
   ],
   "source": [
    "import search\n",
    "reload(search)\n",
    "\n",
    "# reopen index, but reload it instead of creating it afresh\n",
    "se = search.HarvardXSearchEngine(create=False)\n",
    "    \n",
    "# dictionary of results\n",
    "results = se.search(\"Psychology\")\n",
    "print results"
   ]
  },
  {
   "cell_type": "code",
   "execution_count": 36,
   "metadata": {
    "collapsed": false
   },
   "outputs": [
    {
     "name": "stdout",
     "output_type": "stream",
     "text": [
      "('neural networks', 2, 2)\n",
      "('swift', 9, 9)\n",
      "('venture capital', 1, 1)\n",
      "('object-oriented programming', 6, 6)\n",
      "('deep learning', 1, 1)\n",
      "('macOS', 0, 0)\n"
     ]
    }
   ],
   "source": [
    "# compare query rewriting to the normal results \n",
    "import rewriter\n",
    "reload(rewriter)\n",
    "\n",
    "import search\n",
    "reload(search)\n",
    "\n",
    "searches = [\n",
    "    \"neural networks\",\n",
    "    \"swift\",\n",
    "    \"venture capital\",\n",
    "    \"object-oriented programming\",\n",
    "    \"deep learning\",\n",
    "    \"macOS\"\n",
    "]\n",
    "\n",
    "\n",
    "udacity_se = search.UdacitySearchEngine(create=False)\n",
    "rw = rewriter.WikipediaRewriter()\n",
    "cw = rewriter.ControlRewriter()\n",
    "\n",
    "wikidacity = rewriter.RewritingSearchEngine(rw, udacity_se)\n",
    "plaindacity = rewriter.RewritingSearchEngine(cw, udacity_se)\n",
    "\n",
    "for query in searches:\n",
    "    # normal results\n",
    "    num_plain_results = len(plaindacity.search(query))\n",
    "    \n",
    "    # with wikipedia rewriting\n",
    "    num_wiki_results = len(wikidacity.search(query))\n",
    "    \n",
    "    print (query, num_plain_results, num_wiki_results)"
   ]
  },
  {
   "cell_type": "code",
   "execution_count": null,
   "metadata": {
    "collapsed": true
   },
   "outputs": [],
   "source": []
  },
  {
   "cell_type": "code",
   "execution_count": 55,
   "metadata": {
    "collapsed": false
   },
   "outputs": [
    {
     "data": {
      "text/plain": [
       "<module 'rewriter' from 'rewriter.py'>"
      ]
     },
     "execution_count": 55,
     "metadata": {},
     "output_type": "execute_result"
    }
   ],
   "source": []
  },
  {
   "cell_type": "code",
   "execution_count": 64,
   "metadata": {
    "collapsed": false
   },
   "outputs": [],
   "source": [
    "import rewriter\n",
    "reload(rewriter)\n",
    "\n",
    "wv = rewriter.Word2VecRewriter(create=False)"
   ]
  },
  {
   "cell_type": "code",
   "execution_count": 65,
   "metadata": {
    "collapsed": true
   },
   "outputs": [],
   "source": [
    "worddacity = rewriter.RewritingSearchEngine(wv, udacity_se)"
   ]
  },
  {
   "cell_type": "code",
   "execution_count": 67,
   "metadata": {
    "collapsed": false
   },
   "outputs": [
    {
     "name": "stdout",
     "output_type": "stream",
     "text": [
      "('neural networks', 2, 2)\n",
      "('swift', 9, 11)\n",
      "('venture capital', 1, 1)\n",
      "('object-oriented programming', 6, 6)\n",
      "('deep learning', 1, 1)\n",
      "('macOS', 0, 0)\n"
     ]
    }
   ],
   "source": [
    "for query in searches:\n",
    "    # normal results\n",
    "    num_plain_results = len(plaindacity.search(query))\n",
    "\n",
    "    num_word_results = len(worddacity.search(query))\n",
    "    \n",
    "    print (query, num_plain_results, num_word_results)"
   ]
  },
  {
   "cell_type": "code",
   "execution_count": 69,
   "metadata": {
    "collapsed": true
   },
   "outputs": [],
   "source": [
    "# compare query rewriting to the normal results \n",
    "import rewriter\n",
    "reload(rewriter)\n",
    "\n",
    "import search\n",
    "reload(search)\n",
    "\n",
    "hx_se = search.HarvardXSearchEngine(create=False)\n",
    "\n",
    "cw = rewriter.ControlRewriter()\n",
    "rw = rewriter.WikipediaRewriter()\n",
    "wv = rewriter.Word2VecRewriter(create=False)\n",
    "\n",
    "rewrite_engines = [\n",
    "    rewriter.RewritingSearchEngine(cw, hx_se),\n",
    "    rewriter.RewritingSearchEngine(rw, hx_se),\n",
    "    rewriter.RewritingSearchEngine(wv, hx_se)\n",
    "]"
   ]
  },
  {
   "cell_type": "code",
   "execution_count": 76,
   "metadata": {
    "collapsed": false
   },
   "outputs": [
    {
     "name": "stdout",
     "output_type": "stream",
     "text": [
      "('confirmation bias', [2, 49, 2])\n",
      "('biochemistry', [10, 37, 101])\n",
      "('deep learning', [10, 13, 10])\n"
     ]
    }
   ],
   "source": [
    "searches = [\n",
    "    \"confirmation bias\",\n",
    "    \"biochemistry\",\n",
    "    \"deep learning\"\n",
    "]\n",
    "\n",
    "\n",
    "\n",
    "for query in searches:\n",
    "    result_nums = [len(qrse.search(query)) for qrse in rewrite_engines]\n",
    "    \n",
    "    print (query, result_nums)"
   ]
  },
  {
   "cell_type": "code",
   "execution_count": null,
   "metadata": {
    "collapsed": true
   },
   "outputs": [],
   "source": []
  },
  {
   "cell_type": "code",
   "execution_count": null,
   "metadata": {
    "collapsed": true
   },
   "outputs": [],
   "source": []
  },
  {
   "cell_type": "code",
   "execution_count": null,
   "metadata": {
    "collapsed": true
   },
   "outputs": [],
   "source": []
  },
  {
   "cell_type": "code",
   "execution_count": null,
   "metadata": {
    "collapsed": true
   },
   "outputs": [],
   "source": []
  },
  {
   "cell_type": "code",
   "execution_count": null,
   "metadata": {
    "collapsed": true
   },
   "outputs": [],
   "source": []
  },
  {
   "cell_type": "code",
   "execution_count": null,
   "metadata": {
    "collapsed": true
   },
   "outputs": [],
   "source": []
  },
  {
   "cell_type": "code",
   "execution_count": null,
   "metadata": {
    "collapsed": true
   },
   "outputs": [],
   "source": []
  }
 ],
 "metadata": {
  "anaconda-cloud": {},
  "kernelspec": {
   "display_name": "Python [default]",
   "language": "python",
   "name": "python2"
  },
  "language_info": {
   "codemirror_mode": {
    "name": "ipython",
    "version": 2
   },
   "file_extension": ".py",
   "mimetype": "text/x-python",
   "name": "python",
   "nbconvert_exporter": "python",
   "pygments_lexer": "ipython2",
   "version": "2.7.12"
  }
 },
 "nbformat": 4,
 "nbformat_minor": 2
}
