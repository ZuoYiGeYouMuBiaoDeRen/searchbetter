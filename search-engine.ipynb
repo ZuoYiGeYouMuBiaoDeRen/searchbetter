{
 "cells": [
  {
   "cell_type": "code",
   "execution_count": 2,
   "metadata": {
    "collapsed": false
   },
   "outputs": [
    {
     "name": "stdout",
     "output_type": "stream",
     "text": [
      "[{'slug': u'grand-central-dispatch-gcd--ud576', 'title': u'Grand Central Dispatch (GCD)'}, {'slug': u'intro-to-ios-app-development-with-swift--ud585', 'title': u'Intro to iOS App Development with Swift'}, {'slug': u'swift-for-beginners--ud1022', 'title': u'Swift for Beginners'}, {'slug': u'server-side-swift--ud1031', 'title': u'Server-Side Swift'}, {'slug': u'learn-swift-programming-syntax--ud902', 'title': u'Learn Swift Programming Syntax'}, {'slug': u'ios-persistence-and-core-data--ud325', 'title': u'iOS Persistence and Core Data'}]\n"
     ]
    }
   ],
   "source": [
    "import search\n",
    "reload(search)\n",
    "\n",
    "# reopen index, but reload it instead of creating it afresh\n",
    "udacity_se = search.UdacitySearchEngine(create=False)\n",
    "    \n",
    "# dictionary of results\n",
    "results = udacity_se.search(\"apple\")\n",
    "print results"
   ]
  },
  {
   "cell_type": "code",
   "execution_count": 21,
   "metadata": {
    "collapsed": false
   },
   "outputs": [
    {
     "name": "stdout",
     "output_type": "stream",
     "text": [
      "[{'course_id': u'course-v1:HarvardX+GSE4x+2T2016', 'display_name': u'Kathleen Hoover-Dempsey Bio'}, {'course_id': u'course-v1:HarvardX+GSE4x+2T2016', 'display_name': u'Additional Resources'}, {'course_id': u'course-v1:HarvardX+GSE4x+2T2016', 'display_name': u'Watch: Parental Motivation for Engagement'}, {'course_id': u'course-v1:HarvardX+GSE4x+2T2016', 'display_name': u'Additional Resources'}, {'course_id': u'course-v1:HarvardX+PH201x+2013_SOND', 'display_name': u'Meet the Teaching Assistants: Felicia Browne'}, {'course_id': u'course-v1:HarvardX+GSE2x+1T2016', 'display_name': u'Additional Resources'}, {'course_id': u'course-v1:HarvardX+GSE2x+1T2016', 'display_name': u'Intro to Neuroeducation'}, {'course_id': u'course-v1:HarvardX+1368.2x+2T2016', 'display_name': u'Glossary'}, {'course_id': u'course-v1:HarvardX+GSE4x+2T2016', 'display_name': u'Explore the Research'}, {'course_id': u'course-v1:HarvardX+AmPoX.6+2T2016', 'display_name': u''}]\n"
     ]
    }
   ],
   "source": [
    "import search\n",
    "reload(search)\n",
    "\n",
    "# reopen index, but reload it instead of creating it afresh\n",
    "se = search.HarvardXSearchEngine(create=False)\n",
    "    \n",
    "# dictionary of results\n",
    "results = se.search(\"Psychology\")\n",
    "print results"
   ]
  },
  {
   "cell_type": "code",
   "execution_count": 36,
   "metadata": {
    "collapsed": false
   },
   "outputs": [
    {
     "name": "stdout",
     "output_type": "stream",
     "text": [
      "('neural networks', 2, 2)\n",
      "('swift', 9, 9)\n",
      "('venture capital', 1, 1)\n",
      "('object-oriented programming', 6, 6)\n",
      "('deep learning', 1, 1)\n",
      "('macOS', 0, 0)\n"
     ]
    }
   ],
   "source": [
    "# compare query rewriting to the normal results \n",
    "import rewriter\n",
    "reload(rewriter)\n",
    "\n",
    "import search\n",
    "reload(search)\n",
    "\n",
    "searches = [\n",
    "    \"neural networks\",\n",
    "    \"swift\",\n",
    "    \"venture capital\",\n",
    "    \"object-oriented programming\",\n",
    "    \"deep learning\",\n",
    "    \"macOS\"\n",
    "]\n",
    "\n",
    "\n",
    "udacity_se = search.UdacitySearchEngine(create=False)\n",
    "rw = rewriter.WikipediaRewriter()\n",
    "cw = rewriter.ControlRewriter()\n",
    "\n",
    "wikidacity = rewriter.RewritingSearchEngine(rw, udacity_se)\n",
    "plaindacity = rewriter.RewritingSearchEngine(cw, udacity_se)\n",
    "\n",
    "for query in searches:\n",
    "    # normal results\n",
    "    num_plain_results = len(plaindacity.search(query))\n",
    "    \n",
    "    # with wikipedia rewriting\n",
    "    num_wiki_results = len(wikidacity.search(query))\n",
    "    \n",
    "    print (query, num_plain_results, num_wiki_results)"
   ]
  },
  {
   "cell_type": "code",
   "execution_count": null,
   "metadata": {
    "collapsed": true
   },
   "outputs": [],
   "source": []
  },
  {
   "cell_type": "code",
   "execution_count": 55,
   "metadata": {
    "collapsed": false
   },
   "outputs": [
    {
     "data": {
      "text/plain": [
       "<module 'rewriter' from 'rewriter.py'>"
      ]
     },
     "execution_count": 55,
     "metadata": {},
     "output_type": "execute_result"
    }
   ],
   "source": []
  },
  {
   "cell_type": "code",
   "execution_count": 64,
   "metadata": {
    "collapsed": false
   },
   "outputs": [],
   "source": [
    "import rewriter\n",
    "reload(rewriter)\n",
    "\n",
    "wv = rewriter.Word2VecRewriter(create=False)"
   ]
  },
  {
   "cell_type": "code",
   "execution_count": 65,
   "metadata": {
    "collapsed": true
   },
   "outputs": [],
   "source": [
    "worddacity = rewriter.RewritingSearchEngine(wv, udacity_se)"
   ]
  },
  {
   "cell_type": "code",
   "execution_count": 67,
   "metadata": {
    "collapsed": false
   },
   "outputs": [
    {
     "name": "stdout",
     "output_type": "stream",
     "text": [
      "('neural networks', 2, 2)\n",
      "('swift', 9, 11)\n",
      "('venture capital', 1, 1)\n",
      "('object-oriented programming', 6, 6)\n",
      "('deep learning', 1, 1)\n",
      "('macOS', 0, 0)\n"
     ]
    }
   ],
   "source": [
    "for query in searches:\n",
    "    # normal results\n",
    "    num_plain_results = len(plaindacity.search(query))\n",
    "\n",
    "    num_word_results = len(worddacity.search(query))\n",
    "    \n",
    "    print (query, num_plain_results, num_word_results)"
   ]
  },
  {
   "cell_type": "code",
   "execution_count": 87,
   "metadata": {
    "collapsed": true
   },
   "outputs": [],
   "source": [
    "# compare query rewriting to the normal results \n",
    "import rewriter\n",
    "reload(rewriter)\n",
    "\n",
    "import search\n",
    "reload(search)\n",
    "\n",
    "hx_se = search.HarvardXSearchEngine(create=False)\n",
    "\n",
    "cw = rewriter.ControlRewriter()\n",
    "rw = rewriter.WikipediaRewriter()\n",
    "wv = rewriter.Word2VecRewriter(create=False)\n",
    "\n",
    "rewrite_engines = [\n",
    "    rewriter.RewritingSearchEngine(cw, hx_se),\n",
    "    rewriter.RewritingSearchEngine(rw, hx_se),\n",
    "    rewriter.RewritingSearchEngine(wv, hx_se)\n",
    "]"
   ]
  },
  {
   "cell_type": "code",
   "execution_count": null,
   "metadata": {
    "collapsed": true
   },
   "outputs": [],
   "source": []
  },
  {
   "cell_type": "code",
   "execution_count": 77,
   "metadata": {
    "collapsed": false
   },
   "outputs": [
    {
     "name": "stdout",
     "output_type": "stream",
     "text": [
      "('confirmation bias', [2, 49, 2])\n",
      "('biochemistry', [10, 37, 101])\n",
      "('deep learning', [10, 13, 10])\n",
      "('existentialism', [0, 20, 53])\n"
     ]
    }
   ],
   "source": [
    "# TODO: word2vec doesn't work on multiple-word queries. we need to add ngram support\n",
    "searches = [\n",
    "    \"confirmation bias\",\n",
    "    \"biochemistry\",\n",
    "    \"deep learning\",\n",
    "    \"existentialism\"\n",
    "]\n",
    "\n",
    "\n",
    "\n",
    "for query in searches:\n",
    "    result_nums = [len(qrse.search(query)) for qrse in rewrite_engines]\n",
    "    \n",
    "    print (query, result_nums)"
   ]
  },
  {
   "cell_type": "code",
   "execution_count": 90,
   "metadata": {
    "collapsed": false
   },
   "outputs": [
    {
     "data": {
      "text/plain": [
       "[u'high-temperature',\n",
       " u'Games',\n",
       " u'cryptography',\n",
       " u'research',\n",
       " u'organisms',\n",
       " u'multiverse',\n",
       " u'organizational',\n",
       " u'models',\n",
       " u'bias',\n",
       " u'qualitative',\n",
       " u'biochemistry']"
      ]
     },
     "execution_count": 90,
     "metadata": {},
     "output_type": "execute_result"
    }
   ],
   "source": [
    "wv.rewrite(\"biochemistry\")"
   ]
  },
  {
   "cell_type": "code",
   "execution_count": null,
   "metadata": {
    "collapsed": true
   },
   "outputs": [],
   "source": []
  },
  {
   "cell_type": "code",
   "execution_count": 92,
   "metadata": {
    "collapsed": false
   },
   "outputs": [],
   "source": [
    "\n",
    "import search\n",
    "reload(search)\n",
    "\n",
    "edx = search.EdXSearchEngine(create=True)"
   ]
  },
  {
   "cell_type": "code",
   "execution_count": 94,
   "metadata": {
    "collapsed": false
   },
   "outputs": [
    {
     "data": {
      "text/plain": [
       "[{'course_id': u'ColumbiaX/HIST1.1x/3T2014',\n",
       "  'name': u'Civil War and Reconstruction - 1850-1861'},\n",
       " {'course_id': u'ColumbiaX/HIST1.2x/3T2014',\n",
       "  'name': u'Civil War and Reconstruction - 1861-1865'},\n",
       " {'course_id': u'ColumbiaX/HIST1.3x/1T2015',\n",
       "  'name': u'The Civil War and Reconstruction - 1865-1890'},\n",
       " {'course_id': u'course-v1:ColumbiaX+HIST1.1x+3T2015',\n",
       "  'name': u'The Civil War and Reconstruction - 1850-1861'},\n",
       " {'course_id': u'course-v1:ColumbiaX+HIST1.2x+3T2015',\n",
       "  'name': u'The Civil War and Reconstruction - 1861-1865'},\n",
       " {'course_id': u'course-v1:ColumbiaX+HIST1.3x+1T2016',\n",
       "  'name': u'The Civil War and Reconstruction - 1865-1890'},\n",
       " {'course_id': u'course-v1:HarvardX+AmPoX.5+2T2015',\n",
       "  'name': u'Poetry in America: The Civil War and Its Aftermath'}]"
      ]
     },
     "execution_count": 94,
     "metadata": {},
     "output_type": "execute_result"
    }
   ],
   "source": [
    "edx.search(\"civil war\")"
   ]
  },
  {
   "cell_type": "code",
   "execution_count": 95,
   "metadata": {
    "collapsed": false
   },
   "outputs": [
    {
     "data": {
      "text/plain": [
       "[{'course_id': u'course-v1:HarvardX+MCB63X+3T2015',\n",
       "  'display_name': u'Question 3'},\n",
       " {'course_id': u'course-v1:HarvardX+MCB63X+3T2015',\n",
       "  'display_name': u'Question 2'},\n",
       " {'course_id': u'course-v1:HarvardX+GSE2x+1T2016',\n",
       "  'display_name': u'Image Credits'},\n",
       " {'course_id': u'course-v1:HarvardX+HUM1.3x+3T2015',\n",
       "  'display_name': u'Reference'},\n",
       " {'course_id': u'course-v1:HarvardX+MUS24.2x+1T2016',\n",
       "  'display_name': u'Credits'},\n",
       " {'course_id': u'course-v1:HarvardX+MCB63X+3T2015',\n",
       "  'display_name': u'Glucose Catabolism in Bacteria and Fermentation'},\n",
       " {'course_id': u'course-v1:HarvardX+MCB63X+3T2015',\n",
       "  'display_name': u'Question 1'},\n",
       " {'course_id': u'course-v1:HarvardX+MUS24.1x+2T2016',\n",
       "  'display_name': u'Credits'},\n",
       " {'course_id': u'course-v1:HarvardX+MUS24.1x+2T2016',\n",
       "  'display_name': u'Tu se\\u2019 morta: Musical Expression '},\n",
       " {'course_id': u'course-v1:HarvardX+HDS3221.4x+2T2016',\n",
       "  'display_name': u'Resources for Further Study'}]"
      ]
     },
     "execution_count": 95,
     "metadata": {},
     "output_type": "execute_result"
    }
   ],
   "source": [
    "hx_se.search(\"ed\")"
   ]
  },
  {
   "cell_type": "code",
   "execution_count": 96,
   "metadata": {
    "collapsed": true
   },
   "outputs": [],
   "source": [
    "cw = rewriter.ControlRewriter()\n",
    "rw = rewriter.WikipediaRewriter()\n",
    "wv = rewriter.Word2VecRewriter(create=False)\n",
    "\n",
    "rewrite_engines = [\n",
    "    rewriter.RewritingSearchEngine(cw, edx),\n",
    "    rewriter.RewritingSearchEngine(rw, edx),\n",
    "    rewriter.RewritingSearchEngine(wv, edx)\n",
    "]"
   ]
  },
  {
   "cell_type": "code",
   "execution_count": 97,
   "metadata": {
    "collapsed": false
   },
   "outputs": [
    {
     "name": "stdout",
     "output_type": "stream",
     "text": [
      "('confirmation bias', [0, 4, 0])\n",
      "('biochemistry', [1, 10, 23])\n",
      "('deep learning', [0, 0, 0])\n",
      "('existentialism', [0, 0, 12])\n"
     ]
    }
   ],
   "source": [
    "# TODO: word2vec doesn't work on multiple-word queries. we need to add ngram support\n",
    "searches = [\n",
    "    \"confirmation bias\",\n",
    "    \"biochemistry\",\n",
    "    \"deep learning\",\n",
    "    \"existentialism\"\n",
    "]\n",
    "\n",
    "\n",
    "\n",
    "for query in searches:\n",
    "    result_nums = [len(qrse.search(query)) for qrse in rewrite_engines]\n",
    "    \n",
    "    print (query, result_nums)"
   ]
  },
  {
   "cell_type": "code",
   "execution_count": null,
   "metadata": {
    "collapsed": true
   },
   "outputs": [],
   "source": []
  },
  {
   "cell_type": "code",
   "execution_count": null,
   "metadata": {
    "collapsed": true
   },
   "outputs": [],
   "source": []
  },
  {
   "cell_type": "code",
   "execution_count": 1,
   "metadata": {
    "collapsed": true
   },
   "outputs": [],
   "source": [
    "### FORMAL DEMOS"
   ]
  },
  {
   "cell_type": "code",
   "execution_count": 12,
   "metadata": {
    "collapsed": false
   },
   "outputs": [
    {
     "name": "stdout",
     "output_type": "stream",
     "text": [
      "[{'course_id': u'MITx/7.28.1x/1T2015', 'name': u'Molecular Biology'},\n",
      " {'course_id': u'course-v1:RICEx+AdvBIOx+3T2016',\n",
      "  'name': u'AP\\xc2\\xae Biology'},\n",
      " {'course_id': u'course-v1:HarvardX+MCB64.1x+2T2016',\n",
      "  'name': u'Cell Biology: Mitochondria'},\n",
      " {'course_id': u'course-v1:IEEEx+SysBio1x+2016_T1',\n",
      "  'name': u'Introduction to Systems Biology.'},\n",
      " {'course_id': u'course-v1:IEEEx+SysBio1x+3T2016',\n",
      "  'name': u'Introduction to Systems Biology.'},\n",
      " {'course_id': u'MITx/7.QBWx/2T2014',\n",
      "  'name': u'Quantitative Biology Workshop'},\n",
      " {'course_id': u'MITx/7.QBW_1x/1T2015',\n",
      "  'name': u'Quantitative Biology Workshop'},\n",
      " {'course_id': u'course-v1:MITx+20.305x+3T2015',\n",
      "  'name': u'Principles of Synthetic Biology'},\n",
      " {'course_id': u'course-v1:MITx+7.QBWx_3+1T2016',\n",
      "  'name': u'Quantitative Biology Workshop'},\n",
      " {'course_id': u'course-v1:MITx+7.QBWx_4+3T2016',\n",
      "  'name': u'Quantitative Biology Workshop'}]\n"
     ]
    }
   ],
   "source": [
    "## SEARCH ENGINE DEMOS\n",
    "\n",
    "import search\n",
    "from pprint import pprint\n",
    "\n",
    "# Create a search engine that searches over all edX courses.\n",
    "# Under the hood, this uses Python's Whoosh library to index\n",
    "# the course data stored in a CSV and then run searches against it.\n",
    "edx_engine = search.EdXSearchEngine(create=False)\n",
    "\n",
    "# We expose a simple searching API\n",
    "edx_results = edx_engine.search(\"biology\")\n",
    "pprint(edx_results)\n",
    "\n",
    "# You could also search over HarvardX resources or Udacity courses\n",
    "# with similar classes!"
   ]
  },
  {
   "cell_type": "code",
   "execution_count": 26,
   "metadata": {
    "collapsed": false
   },
   "outputs": [
    {
     "name": "stdout",
     "output_type": "stream",
     "text": [
      "['All articles with unsourced statements',\n",
      " 'Articles containing video clips',\n",
      " 'Articles with unsourced statements from August 2012',\n",
      " 'Classical mechanics',\n",
      " 'Commons category with local link different than on Wikidata',\n",
      " 'Concepts in physics',\n",
      " 'Copernican Revolution',\n",
      " 'EngvarB from July 2014',\n",
      " 'Experimental physics',\n",
      " 'History of physics',\n",
      " \"newton's laws of motion\"]\n",
      "[u'injunctions',\n",
      " u'governance,',\n",
      " u'libertarians',\n",
      " u'social,',\n",
      " u'justice,',\n",
      " u'self-determination,',\n",
      " u'liberalism,',\n",
      " u'disregard',\n",
      " u'neutrality',\n",
      " u'ideological',\n",
      " u'socialism']\n"
     ]
    }
   ],
   "source": [
    "## QUERY REWRITING DEMOS\n",
    "\n",
    "import rewriter\n",
    "\n",
    "# Query rewriting lets you turn a single search query into\n",
    "# multiple related queries. You can then search for *all*\n",
    "# of these queries, which can result in more and more useful\n",
    "# results than just the original query would give.\n",
    "\n",
    "# First, a rewriter that uses the Wikipedia category API\n",
    "# to find terms related to the original term\n",
    "wiki_rewriter = rewriter.WikipediaRewriter()\n",
    "wiki_rewritten_queries = wiki_rewriter.rewrite(\"newton's laws of motion\")\n",
    "pprint(wiki_rewritten_queries)\n",
    "\n",
    "\n",
    "# Second, a rewriter that uses Word2Vec to find similar\n",
    "# words to the entered term. This is a machine learning\n",
    "# algorithm trained on a large text corpus (incidentally, a dump\n",
    "# of all Wikipedia articles.)\n",
    "w2v_rewriter = rewriter.Word2VecRewriter(create=False)\n",
    "w2v_rewritten_queries = w2v_rewriter.rewrite(\"socialism\")\n",
    "pprint(w2v_rewritten_queries)"
   ]
  },
  {
   "cell_type": "code",
   "execution_count": 31,
   "metadata": {
    "collapsed": false
   },
   "outputs": [
    {
     "name": "stdout",
     "output_type": "stream",
     "text": [
      "[{'course_id': u'SchoolYourself/GeometryX/1T2015',\n",
      "  'name': u'Introduction to Geometry'},\n",
      " {'course_id': u'course-v1:SchoolYourself+GeometryX+2T2016',\n",
      "  'name': u'Introduction to Geometry'},\n",
      " {'course_id': u'course-v1:TsinghuaX+70240183x+3T2015',\n",
      "  'name': u'Computational Geometry'},\n",
      " {'course_id': u'course-v1:TsinghuaX+70240183x+3T2016',\n",
      "  'name': u'Computational Geometry'},\n",
      " {'course_id': u'course-v1:TeachForAmericaX+HSMATH2.1x+3T2016',\n",
      "  'name': u'How to Teach High School Geometry'},\n",
      " {'course_id': u'course-v1:GeorgetownX+PHYX-008-01x+1T2017',\n",
      "  'name': u'Quantum Mechanics'},\n",
      " {'course_id': u'MITx/8.01x/2013_SOND', 'name': u'Classical Mechanics'},\n",
      " {'course_id': u'MITx/8.MReVx/2T2014', 'name': u'Mechanics ReView'},\n",
      " {'course_id': u'course-v1:UrFUx+ENGM1.1.x+3T2016',\n",
      "  'name': u'Engineering Mechanics'},\n",
      " {'course_id': u'course-v1:MITx+8.05.1x+1T2016',\n",
      "  'name': u'Mastering Quantum Mechanics Part I: Wave Mechanics'},\n",
      " {'course_id': u'MITx/8.05x/1T2015', 'name': u'Mastering Quantum Mechanics'},\n",
      " {'course_id': u'course-v1:MITx+8.01.1x+3T2016',\n",
      "  'name': u'Mechanics: Kinematics and Dynamics'},\n",
      " {'course_id': u'course-v1:MITx+8.01.2x+3T2016',\n",
      "  'name': u'Mechanics: Momentum and Energy'},\n",
      " {'course_id': u'course-v1:MITx+8.01.3x+1T2017',\n",
      "  'name': u'Mechanics: Rotational Dynamics'},\n",
      " {'course_id': u'BerkeleyX/CS191x/2013_Spring',\n",
      "  'name': u'Quantum Mechanics and Quantum Computation'},\n",
      " {'course_id': u'BUx/Math226.1x/1T2015',\n",
      "  'name': u'Introduction to Differential Equations'},\n",
      " {'course_id': u'course-v1:BUx+Math226.2x+2T2015',\n",
      "  'name': u'Linear Differential Equations'},\n",
      " {'course_id': u'course-v1:BUx+Math226.1x+1T2016',\n",
      "  'name': u'Introduction to Differential Equations'},\n",
      " {'course_id': u'course-v1:BUx+Math226.2x+1T2016',\n",
      "  'name': u'Linear Differential Equations'},\n",
      " {'course_id': u'course-v1:BUx+Math226.3x+3T2015',\n",
      "  'name': u'Nonlinear Differential Equations: Order and Chaos'},\n",
      " {'course_id': u'course-v1:BUx+Math226.3x+1T2016',\n",
      "  'name': u'Nonlinear Differential Equations: Order and Chaos'},\n",
      " {'course_id': u'BerkeleyX/CS191x/2013_Spring',\n",
      "  'name': u'Quantum Mechanics and Quantum Computation'},\n",
      " {'course_id': u'BerkeleyX/CS-191x/2013_August',\n",
      "  'name': u'Quantum Mechanics and Quantum Computation'},\n",
      " {'course_id': u'course-v1:CaltechDelftX+QuCryptox+3T2016',\n",
      "  'name': u'Quantum cryptography'},\n",
      " {'course_id': u'course-v1:GeorgetownX+PHYX-008-01x+1T2017',\n",
      "  'name': u'Quantum Mechanics'},\n",
      " {'course_id': u'course-v1:HarvardX+CHEM160+1T2017',\n",
      "  'name': u'The Quantum World'},\n",
      " {'course_id': u'course-v1:MITx+8.05.2x+1T2016',\n",
      "  'name': u'Mastering Quantum Mechanics Part 2: Quantum Dynamics'},\n",
      " {'course_id': u'MITx/8.05x/1T2015', 'name': u'Mastering Quantum Mechanics'},\n",
      " {'course_id': u'course-v1:MITx+8.371x+3T2016',\n",
      "  'name': u'Quantum Information Science II'},\n",
      " {'course_id': u'course-v1:UTokyoX+UTokyo003x+2015T2',\n",
      "  'name': u'Quantum Mechanics of Molecular Structures'},\n",
      " {'course_id': u'course-v1:UTokyoX+UTokyo003x+3T2015',\n",
      "  'name': u'Quantum Mechanics of Molecular Structures'},\n",
      " {'course_id': u'BerkeleyX/CS191x/2013_Spring',\n",
      "  'name': u'Quantum Mechanics and Quantum Computation'},\n",
      " {'course_id': u'BerkeleyX/CS-191x/2013_August',\n",
      "  'name': u'Quantum Mechanics and Quantum Computation'},\n",
      " {'course_id': u'course-v1:CaltechDelftX+QuCryptox+3T2016',\n",
      "  'name': u'Quantum cryptography'},\n",
      " {'course_id': u'course-v1:GeorgetownX+PHYX-008-01x+1T2017',\n",
      "  'name': u'Quantum Mechanics'},\n",
      " {'course_id': u'course-v1:HarvardX+CHEM160+1T2017',\n",
      "  'name': u'The Quantum World'},\n",
      " {'course_id': u'course-v1:MITx+8.05.2x+1T2016',\n",
      "  'name': u'Mastering Quantum Mechanics Part 2: Quantum Dynamics'},\n",
      " {'course_id': u'MITx/8.05x/1T2015', 'name': u'Mastering Quantum Mechanics'},\n",
      " {'course_id': u'course-v1:MITx+8.371x+3T2016',\n",
      "  'name': u'Quantum Information Science II'},\n",
      " {'course_id': u'course-v1:UTokyoX+UTokyo003x+2015T2',\n",
      "  'name': u'Quantum Mechanics of Molecular Structures'},\n",
      " {'course_id': u'course-v1:UTokyoX+UTokyo003x+3T2015',\n",
      "  'name': u'Quantum Mechanics of Molecular Structures'},\n",
      " {'course_id': u'CaltechX/BEM1105x/1T2015',\n",
      "  'name': u'Pricing Options with Mathematical Models'},\n",
      " {'course_id': u'course-v1:CaltechX+BEM1105x+3T2015',\n",
      "  'name': u'Pricing Options with Mathematical Models'},\n",
      " {'course_id': u'course-v1:CaltechX+BEM1105x+1T2016',\n",
      "  'name': u'Pricing Options with Mathematical Models'},\n",
      " {'course_id': u'course-v1:CaltechX+BEM1105x+3T2016',\n",
      "  'name': u'Pricing Options with Mathematical Models'},\n",
      " {'course_id': u'course-v1:GeorgetownX+PHYX-008-01x+1T2017',\n",
      "  'name': u'Quantum Mechanics'},\n",
      " {'course_id': u'MITx/8.01x/2013_SOND', 'name': u'Classical Mechanics'},\n",
      " {'course_id': u'MITx/8.MReVx/2T2014', 'name': u'Mechanics ReView'},\n",
      " {'course_id': u'course-v1:UrFUx+ENGM1.1.x+3T2016',\n",
      "  'name': u'Engineering Mechanics'},\n",
      " {'course_id': u'course-v1:MITx+8.05.1x+1T2016',\n",
      "  'name': u'Mastering Quantum Mechanics Part I: Wave Mechanics'},\n",
      " {'course_id': u'MITx/8.05x/1T2015', 'name': u'Mastering Quantum Mechanics'},\n",
      " {'course_id': u'course-v1:MITx+8.01.1x+3T2016',\n",
      "  'name': u'Mechanics: Kinematics and Dynamics'},\n",
      " {'course_id': u'course-v1:MITx+8.01.2x+3T2016',\n",
      "  'name': u'Mechanics: Momentum and Energy'},\n",
      " {'course_id': u'course-v1:MITx+8.01.3x+1T2017',\n",
      "  'name': u'Mechanics: Rotational Dynamics'},\n",
      " {'course_id': u'BerkeleyX/CS191x/2013_Spring',\n",
      "  'name': u'Quantum Mechanics and Quantum Computation'},\n",
      " {'course_id': u'course-v1:DavidsonNext+Cal_APccx+2T2015',\n",
      "  'name': u'AP\\xc2\\xae Calculus: Challenging Concepts from Calculus AB & Calculus BC'},\n",
      " {'course_id': u'course-v1:DavidsonNext+Cal_APccx+2T2016',\n",
      "  'name': u'AP\\xc2\\xae Calculus: Challenging Concepts from Calculus AB & Calculus BC'},\n",
      " {'course_id': u'CaltechX/Ec1011x/1T2014',\n",
      "  'name': u'Principles of Economics with Calculus'},\n",
      " {'course_id': u'course-v1:CaltechX+Ec1011x_2+T12015',\n",
      "  'name': u'Principles of Economics with Calculus'},\n",
      " {'course_id': u'course-v1:CaltechX+Ec1011x+1T2016',\n",
      "  'name': u'Principles of Economics with Calculus'},\n",
      " {'course_id': u'course-v1:CaltechX+Ec1011x+1T2017',\n",
      "  'name': u'Principles of Economics with Calculus'},\n",
      " {'course_id': u'course-v1:DavidsonNext+Cal_APBCx+3T2016',\n",
      "  'name': u'AP\\xc2\\xae Calculus BC'},\n",
      " {'course_id': u'DelftX/Calc001x/2T2015', 'name': u'Pre-University Calculus'},\n",
      " {'course_id': u'course-v1:DelftX+Calc001x+2T2016',\n",
      "  'name': u'Pre-University Calculus'},\n",
      " {'course_id': u'course-v1:DelftX+Calc001x+3T2016',\n",
      "  'name': u'Pre-University Calculus'}]\n"
     ]
    }
   ],
   "source": [
    "## PUTTING IT ALL TOGETHER\n",
    "\n",
    "# We can apply a query rewriter to a search engine\n",
    "# to create a new search engine that runs the\n",
    "# query rewriter on all incoming searches and returns\n",
    "# all results it gets from the queries\n",
    "\n",
    "# For example, imagine trying the Word2Vec rewriter\n",
    "# on the edX search engine \n",
    "w2v_edx_engine = rewriter.RewritingSearchEngine(w2v_rewriter, edx_engine)\n",
    "rewritten_results = w2v_edx_engine.search(\"calculus\")\n",
    "pprint(rewritten_results)"
   ]
  }
 ],
 "metadata": {
  "anaconda-cloud": {},
  "kernelspec": {
   "display_name": "Python [default]",
   "language": "python",
   "name": "python2"
  },
  "language_info": {
   "codemirror_mode": {
    "name": "ipython",
    "version": 2
   },
   "file_extension": ".py",
   "mimetype": "text/x-python",
   "name": "python",
   "nbconvert_exporter": "python",
   "pygments_lexer": "ipython2",
   "version": "2.7.12"
  }
 },
 "nbformat": 4,
 "nbformat_minor": 2
}
