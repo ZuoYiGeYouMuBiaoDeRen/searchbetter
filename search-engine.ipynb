{
 "cells": [
  {
   "cell_type": "code",
   "execution_count": 11,
   "metadata": {
    "collapsed": false
   },
   "outputs": [
    {
     "name": "stdout",
     "output_type": "stream",
     "text": [
      "[{'slug': u'grand-central-dispatch-gcd--ud576', 'title': u'Grand Central Dispatch (GCD)'}, {'slug': u'intro-to-ios-app-development-with-swift--ud585', 'title': u'Intro to iOS App Development with Swift'}, {'slug': u'swift-for-beginners--ud1022', 'title': u'Swift for Beginners'}, {'slug': u'server-side-swift--ud1031', 'title': u'Server-Side Swift'}, {'slug': u'learn-swift-programming-syntax--ud902', 'title': u'Learn Swift Programming Syntax'}, {'slug': u'ios-persistence-and-core-data--ud325', 'title': u'iOS Persistence and Core Data'}]\n"
     ]
    }
   ],
   "source": [
    "import search\n",
    "reload(search)\n",
    "\n",
    "# reopen index, but reload it instead of creating it afresh\n",
    "udacity_se = search.UdacitySearchEngine(create=False)\n",
    "    \n",
    "# dictionary of results\n",
    "results = udacity_se.search(\"apple\")\n",
    "print results"
   ]
  },
  {
   "cell_type": "code",
   "execution_count": null,
   "metadata": {
    "collapsed": true
   },
   "outputs": [],
   "source": []
  },
  {
   "cell_type": "code",
   "execution_count": null,
   "metadata": {
    "collapsed": true
   },
   "outputs": [],
   "source": []
  },
  {
   "cell_type": "code",
   "execution_count": 12,
   "metadata": {
    "collapsed": false
   },
   "outputs": [
    {
     "name": "stdout",
     "output_type": "stream",
     "text": [
      "[{'course_id': u'course-v1:HarvardX+GSE4x+2T2016', 'display_name': u'Kathleen Hoover-Dempsey Bio'}, {'course_id': u'course-v1:HarvardX+GSE4x+2T2016', 'display_name': u'Additional Resources'}, {'course_id': u'course-v1:HarvardX+GSE4x+2T2016', 'display_name': u'Watch: Parental Motivation for Engagement'}, {'course_id': u'course-v1:HarvardX+GSE4x+2T2016', 'display_name': u'Additional Resources'}, {'course_id': u'course-v1:HarvardX+PH201x+2013_SOND', 'display_name': u'Meet the Teaching Assistants: Felicia Browne'}, {'course_id': u'course-v1:HarvardX+GSE2x+1T2016', 'display_name': u'Additional Resources'}, {'course_id': u'course-v1:HarvardX+GSE2x+1T2016', 'display_name': u'Intro to Neuroeducation'}, {'course_id': u'course-v1:HarvardX+1368.2x+2T2016', 'display_name': u'Glossary'}, {'course_id': u'course-v1:HarvardX+GSE4x+2T2016', 'display_name': u'Explore the Research'}, {'course_id': u'course-v1:HarvardX+AmPoX.6+2T2016', 'display_name': u''}]\n"
     ]
    }
   ],
   "source": [
    "import search\n",
    "reload(search)\n",
    "\n",
    "# reopen index, but reload it instead of creating it afresh\n",
    "se = search.HarvardXSearchEngine(create=False)\n",
    "    \n",
    "# dictionary of results\n",
    "results = se.search(\"Psychology\")\n",
    "print results"
   ]
  },
  {
   "cell_type": "code",
   "execution_count": null,
   "metadata": {
    "collapsed": true
   },
   "outputs": [],
   "source": []
  },
  {
   "cell_type": "code",
   "execution_count": null,
   "metadata": {
    "collapsed": true
   },
   "outputs": [],
   "source": []
  },
  {
   "cell_type": "code",
   "execution_count": 13,
   "metadata": {
    "collapsed": false
   },
   "outputs": [
    {
     "name": "stdout",
     "output_type": "stream",
     "text": [
      "[]\n",
      "neural networks\n",
      "('neural networks', 2, 2)\n",
      "['apodidae', 'birds by common name']\n",
      "apodidae birds by common name swift\n",
      "('swift', 9, 9)\n",
      "['corporate finance', 'entrepreneurship', 'equity securities', 'private equity']\n",
      "corporate finance entrepreneurship equity securities private equity venture capital\n",
      "('venture capital', 1, 1)\n",
      "[]\n",
      "object-oriented programming\n",
      "('object-oriented programming', 6, 6)\n",
      "[]\n",
      "deep learning\n",
      "('deep learning', 1, 1)\n",
      "['1999 software', 'apple inc. operating systems', 'apple inc. software', 'computer-related introductions in 1999', 'macos', 'mac os']\n",
      "1999 software apple inc. operating systems apple inc. software computer-related introductions in 1999 macos mac os macOS\n",
      "('macOS', 0, 0)\n",
      "['surnames']\n",
      "surnames einstein\n",
      "('einstein', 2, 2)\n"
     ]
    }
   ],
   "source": [
    "# compare query rewriting to the normal results \n",
    "import rewriter\n",
    "reload(rewriter)\n",
    "\n",
    "import search\n",
    "reload(search)\n",
    "\n",
    "searches = [\n",
    "    \"neural networks\",\n",
    "    \"swift\",\n",
    "    \"venture capital\",\n",
    "    \"object-oriented programming\",\n",
    "    \"deep learning\",\n",
    "    \"macOS\",\n",
    "    \"einstein\"\n",
    "]\n",
    "\n",
    "\n",
    "udacity_se = search.UdacitySearchEngine(create=False)\n",
    "rw = rewriter.WikipediaRewriter()\n",
    "cw = rewriter.ControlRewriter()\n",
    "\n",
    "wikidacity = rewriter.RewritingSearchEngine(rw, udacity_se)\n",
    "plaindacity = rewriter.RewritingSearchEngine(cw, udacity_se)\n",
    "\n",
    "for query in searches:\n",
    "    # normal results\n",
    "    num_plain_results = len(plaindacity.search(query))\n",
    "    \n",
    "    # with wikipedia rewriting\n",
    "    num_wiki_results = len(wikidacity.search(query))\n",
    "    \n",
    "    print (query, num_plain_results, num_wiki_results)"
   ]
  },
  {
   "cell_type": "code",
   "execution_count": null,
   "metadata": {
    "collapsed": true
   },
   "outputs": [],
   "source": []
  },
  {
   "cell_type": "code",
   "execution_count": null,
   "metadata": {
    "collapsed": false
   },
   "outputs": [],
   "source": []
  },
  {
   "cell_type": "code",
   "execution_count": 14,
   "metadata": {
    "collapsed": false
   },
   "outputs": [],
   "source": [
    "import rewriter\n",
    "reload(rewriter)\n",
    "\n",
    "wv = rewriter.Word2VecRewriter(create=True)"
   ]
  },
  {
   "cell_type": "code",
   "execution_count": null,
   "metadata": {
    "collapsed": true
   },
   "outputs": [],
   "source": []
  },
  {
   "cell_type": "code",
   "execution_count": 15,
   "metadata": {
    "collapsed": true
   },
   "outputs": [],
   "source": [
    "worddacity = rewriter.RewritingSearchEngine(wv, udacity_se)"
   ]
  },
  {
   "cell_type": "code",
   "execution_count": 16,
   "metadata": {
    "collapsed": false
   },
   "outputs": [
    {
     "name": "stdout",
     "output_type": "stream",
     "text": [
      "('neural networks', 2, 2)\n",
      "('swift', 9, 10)\n",
      "('venture capital', 1, 1)\n",
      "('object-oriented programming', 6, 6)\n",
      "('deep learning', 1, 1)\n",
      "('macOS', 0, 0)\n",
      "('einstein', 2, 2)\n"
     ]
    }
   ],
   "source": [
    "for query in searches:\n",
    "    # normal results\n",
    "    num_plain_results = len(plaindacity.search(query))\n",
    "\n",
    "    num_word_results = len(worddacity.search(query))\n",
    "    \n",
    "    print (query, num_plain_results, num_word_results)"
   ]
  },
  {
   "cell_type": "code",
   "execution_count": 17,
   "metadata": {
    "collapsed": true
   },
   "outputs": [],
   "source": [
    "import gensim.models.word2vec as word2vec\n",
    "import secure\n",
    "\n",
    "# compare query rewriting to the normal results \n",
    "import rewriter\n",
    "reload(rewriter)\n",
    "\n",
    "import search\n",
    "reload(search)\n",
    "\n",
    "hx_se = search.HarvardXSearchEngine(create=False)\n",
    "\n",
    "# prepare corpus\n",
    "corpus = word2vec.Text8Corpus(secure.DATASET_PATH_BASE + 'enwik8')\n",
    "\n",
    "cw = rewriter.ControlRewriter()\n",
    "rw = rewriter.WikipediaRewriter()\n",
    "wv = rewriter.Word2VecRewriter(corpus, create=False)\n",
    "\n",
    "rewrite_engines = [\n",
    "    rewriter.RewritingSearchEngine(cw, hx_se),\n",
    "    rewriter.RewritingSearchEngine(rw, hx_se),\n",
    "    rewriter.RewritingSearchEngine(wv, hx_se)\n",
    "]"
   ]
  },
  {
   "cell_type": "code",
   "execution_count": null,
   "metadata": {
    "collapsed": true
   },
   "outputs": [],
   "source": []
  },
  {
   "cell_type": "code",
   "execution_count": 77,
   "metadata": {
    "collapsed": false
   },
   "outputs": [
    {
     "name": "stdout",
     "output_type": "stream",
     "text": [
      "('confirmation bias', [2, 49, 2])\n",
      "('biochemistry', [10, 37, 101])\n",
      "('deep learning', [10, 13, 10])\n",
      "('existentialism', [0, 20, 53])\n"
     ]
    }
   ],
   "source": [
    "# TODO: word2vec doesn't work on multiple-word queries. we need to add ngram support\n",
    "searches = [\n",
    "    \"confirmation bias\",\n",
    "    \"biochemistry\",\n",
    "    \"deep learning\",\n",
    "    \"existentialism\"\n",
    "]\n",
    "\n",
    "\n",
    "\n",
    "for query in searches:\n",
    "    result_nums = [len(qrse.search(query)) for qrse in rewrite_engines]\n",
    "    \n",
    "    print (query, result_nums)"
   ]
  },
  {
   "cell_type": "code",
   "execution_count": 90,
   "metadata": {
    "collapsed": false
   },
   "outputs": [
    {
     "data": {
      "text/plain": [
       "[u'high-temperature',\n",
       " u'Games',\n",
       " u'cryptography',\n",
       " u'research',\n",
       " u'organisms',\n",
       " u'multiverse',\n",
       " u'organizational',\n",
       " u'models',\n",
       " u'bias',\n",
       " u'qualitative',\n",
       " u'biochemistry']"
      ]
     },
     "execution_count": 90,
     "metadata": {},
     "output_type": "execute_result"
    }
   ],
   "source": [
    "wv.rewrite(\"biochemistry\")"
   ]
  },
  {
   "cell_type": "code",
   "execution_count": null,
   "metadata": {
    "collapsed": true
   },
   "outputs": [],
   "source": []
  },
  {
   "cell_type": "code",
   "execution_count": 92,
   "metadata": {
    "collapsed": false
   },
   "outputs": [],
   "source": [
    "\n",
    "import search\n",
    "reload(search)\n",
    "\n",
    "edx = search.EdXSearchEngine(create=True)"
   ]
  },
  {
   "cell_type": "code",
   "execution_count": 94,
   "metadata": {
    "collapsed": false
   },
   "outputs": [
    {
     "data": {
      "text/plain": [
       "[{'course_id': u'ColumbiaX/HIST1.1x/3T2014',\n",
       "  'name': u'Civil War and Reconstruction - 1850-1861'},\n",
       " {'course_id': u'ColumbiaX/HIST1.2x/3T2014',\n",
       "  'name': u'Civil War and Reconstruction - 1861-1865'},\n",
       " {'course_id': u'ColumbiaX/HIST1.3x/1T2015',\n",
       "  'name': u'The Civil War and Reconstruction - 1865-1890'},\n",
       " {'course_id': u'course-v1:ColumbiaX+HIST1.1x+3T2015',\n",
       "  'name': u'The Civil War and Reconstruction - 1850-1861'},\n",
       " {'course_id': u'course-v1:ColumbiaX+HIST1.2x+3T2015',\n",
       "  'name': u'The Civil War and Reconstruction - 1861-1865'},\n",
       " {'course_id': u'course-v1:ColumbiaX+HIST1.3x+1T2016',\n",
       "  'name': u'The Civil War and Reconstruction - 1865-1890'},\n",
       " {'course_id': u'course-v1:HarvardX+AmPoX.5+2T2015',\n",
       "  'name': u'Poetry in America: The Civil War and Its Aftermath'}]"
      ]
     },
     "execution_count": 94,
     "metadata": {},
     "output_type": "execute_result"
    }
   ],
   "source": [
    "edx.search(\"civil war\")"
   ]
  },
  {
   "cell_type": "code",
   "execution_count": 95,
   "metadata": {
    "collapsed": false
   },
   "outputs": [
    {
     "data": {
      "text/plain": [
       "[{'course_id': u'course-v1:HarvardX+MCB63X+3T2015',\n",
       "  'display_name': u'Question 3'},\n",
       " {'course_id': u'course-v1:HarvardX+MCB63X+3T2015',\n",
       "  'display_name': u'Question 2'},\n",
       " {'course_id': u'course-v1:HarvardX+GSE2x+1T2016',\n",
       "  'display_name': u'Image Credits'},\n",
       " {'course_id': u'course-v1:HarvardX+HUM1.3x+3T2015',\n",
       "  'display_name': u'Reference'},\n",
       " {'course_id': u'course-v1:HarvardX+MUS24.2x+1T2016',\n",
       "  'display_name': u'Credits'},\n",
       " {'course_id': u'course-v1:HarvardX+MCB63X+3T2015',\n",
       "  'display_name': u'Glucose Catabolism in Bacteria and Fermentation'},\n",
       " {'course_id': u'course-v1:HarvardX+MCB63X+3T2015',\n",
       "  'display_name': u'Question 1'},\n",
       " {'course_id': u'course-v1:HarvardX+MUS24.1x+2T2016',\n",
       "  'display_name': u'Credits'},\n",
       " {'course_id': u'course-v1:HarvardX+MUS24.1x+2T2016',\n",
       "  'display_name': u'Tu se\\u2019 morta: Musical Expression '},\n",
       " {'course_id': u'course-v1:HarvardX+HDS3221.4x+2T2016',\n",
       "  'display_name': u'Resources for Further Study'}]"
      ]
     },
     "execution_count": 95,
     "metadata": {},
     "output_type": "execute_result"
    }
   ],
   "source": [
    "hx_se.search(\"ed\")"
   ]
  },
  {
   "cell_type": "code",
   "execution_count": 96,
   "metadata": {
    "collapsed": true
   },
   "outputs": [],
   "source": [
    "cw = rewriter.ControlRewriter()\n",
    "rw = rewriter.WikipediaRewriter()\n",
    "wv = rewriter.Word2VecRewriter(create=False)\n",
    "\n",
    "rewrite_engines = [\n",
    "    rewriter.RewritingSearchEngine(cw, edx),\n",
    "    rewriter.RewritingSearchEngine(rw, edx),\n",
    "    rewriter.RewritingSearchEngine(wv, edx)\n",
    "]"
   ]
  },
  {
   "cell_type": "code",
   "execution_count": 97,
   "metadata": {
    "collapsed": false
   },
   "outputs": [
    {
     "name": "stdout",
     "output_type": "stream",
     "text": [
      "('confirmation bias', [0, 4, 0])\n",
      "('biochemistry', [1, 10, 23])\n",
      "('deep learning', [0, 0, 0])\n",
      "('existentialism', [0, 0, 12])\n"
     ]
    }
   ],
   "source": [
    "# TODO: word2vec doesn't work on multiple-word queries. we need to add ngram support\n",
    "searches = [\n",
    "    \"confirmation bias\",\n",
    "    \"biochemistry\",\n",
    "    \"deep learning\",\n",
    "    \"existentialism\"\n",
    "]\n",
    "\n",
    "\n",
    "\n",
    "for query in searches:\n",
    "    result_nums = [len(qrse.search(query)) for qrse in rewrite_engines]\n",
    "    \n",
    "    print (query, result_nums)"
   ]
  },
  {
   "cell_type": "code",
   "execution_count": 21,
   "metadata": {
    "collapsed": true
   },
   "outputs": [],
   "source": [
    "from lxml import etree\n",
    "import abc\n",
    "import re\n",
    "import requests\n",
    "\n",
    "import gensim.models as models\n",
    "import gensim.models.word2vec as word2vec\n",
    "import secure\n"
   ]
  },
  {
   "cell_type": "code",
   "execution_count": null,
   "metadata": {
    "collapsed": true
   },
   "outputs": [],
   "source": []
  },
  {
   "cell_type": "code",
   "execution_count": 25,
   "metadata": {
    "collapsed": false
   },
   "outputs": [],
   "source": [
    "# this model is ok but it doesn't include n-grams :(\n",
    "MODEL_PATH = secure.MODEL_PATH_BASE+'wiki_sg/word2vec.bin'\n",
    "model = word2vec.Word2Vec.load(MODEL_PATH)"
   ]
  },
  {
   "cell_type": "code",
   "execution_count": 38,
   "metadata": {
    "collapsed": false
   },
   "outputs": [
    {
     "data": {
      "text/plain": [
       "[(u'biased', 0.6823517084121704),\n",
       " (u'biases', 0.6762338876724243),\n",
       " (u'confirm', 0.6072741746902466),\n",
       " (u'erroneous', 0.5618748068809509),\n",
       " (u'validity', 0.5594800114631653),\n",
       " (u'confirmatory', 0.5481467843055725),\n",
       " (u'confirming', 0.5426996946334839),\n",
       " (u'regarding', 0.5399358868598938),\n",
       " (u'unbiased', 0.5323933362960815),\n",
       " (u'reject', 0.5210485458374023)]"
      ]
     },
     "execution_count": 38,
     "metadata": {},
     "output_type": "execute_result"
    }
   ],
   "source": [
    "model.most_similar(positive=['confirmation', 'bias'], topn=10)"
   ]
  },
  {
   "cell_type": "code",
   "execution_count": null,
   "metadata": {
    "collapsed": true
   },
   "outputs": [],
   "source": []
  },
  {
   "cell_type": "code",
   "execution_count": null,
   "metadata": {
    "collapsed": true
   },
   "outputs": [],
   "source": []
  },
  {
   "cell_type": "code",
   "execution_count": null,
   "metadata": {
    "collapsed": true
   },
   "outputs": [],
   "source": []
  },
  {
   "cell_type": "code",
   "execution_count": null,
   "metadata": {
    "collapsed": true
   },
   "outputs": [],
   "source": []
  },
  {
   "cell_type": "code",
   "execution_count": null,
   "metadata": {
    "collapsed": true
   },
   "outputs": [],
   "source": []
  },
  {
   "cell_type": "code",
   "execution_count": null,
   "metadata": {
    "collapsed": true
   },
   "outputs": [],
   "source": []
  },
  {
   "cell_type": "code",
   "execution_count": null,
   "metadata": {
    "collapsed": true
   },
   "outputs": [],
   "source": []
  },
  {
   "cell_type": "code",
   "execution_count": null,
   "metadata": {
    "collapsed": true
   },
   "outputs": [],
   "source": []
  },
  {
   "cell_type": "code",
   "execution_count": null,
   "metadata": {
    "collapsed": true
   },
   "outputs": [],
   "source": []
  },
  {
   "cell_type": "code",
   "execution_count": null,
   "metadata": {
    "collapsed": true
   },
   "outputs": [],
   "source": []
  },
  {
   "cell_type": "code",
   "execution_count": null,
   "metadata": {
    "collapsed": true
   },
   "outputs": [],
   "source": []
  },
  {
   "cell_type": "code",
   "execution_count": null,
   "metadata": {
    "collapsed": true
   },
   "outputs": [],
   "source": []
  },
  {
   "cell_type": "code",
   "execution_count": null,
   "metadata": {
    "collapsed": true
   },
   "outputs": [],
   "source": []
  },
  {
   "cell_type": "code",
   "execution_count": null,
   "metadata": {
    "collapsed": true
   },
   "outputs": [],
   "source": []
  },
  {
   "cell_type": "code",
   "execution_count": null,
   "metadata": {
    "collapsed": true
   },
   "outputs": [],
   "source": []
  },
  {
   "cell_type": "code",
   "execution_count": null,
   "metadata": {
    "collapsed": true
   },
   "outputs": [],
   "source": []
  },
  {
   "cell_type": "code",
   "execution_count": null,
   "metadata": {
    "collapsed": true
   },
   "outputs": [],
   "source": []
  },
  {
   "cell_type": "code",
   "execution_count": 1,
   "metadata": {
    "collapsed": true
   },
   "outputs": [],
   "source": [
    "from lxml import etree\n",
    "import abc\n",
    "import re\n",
    "import requests\n",
    "\n",
    "import gensim.models as models\n",
    "import gensim.models.word2vec as word2vec\n",
    "import secure\n",
    "\n",
    "\n",
    "corpus = word2vec.Text8Corpus(secure.DATASET_PATH_BASE + 'enwik8')\n",
    "# self.model = word2vec.Word2Vec(corpus, workers=8)\n",
    "# self.model.save(self.MODEL_PATH)"
   ]
  },
  {
   "cell_type": "code",
   "execution_count": 2,
   "metadata": {
    "collapsed": false
   },
   "outputs": [
    {
     "data": {
      "text/plain": [
       "<gensim.models.word2vec.Text8Corpus at 0x104837dd0>"
      ]
     },
     "execution_count": 2,
     "metadata": {},
     "output_type": "execute_result"
    }
   ],
   "source": [
    "corpus"
   ]
  },
  {
   "cell_type": "code",
   "execution_count": 3,
   "metadata": {
    "collapsed": false
   },
   "outputs": [
    {
     "ename": "TypeError",
     "evalue": "'Text8Corpus' object does not support indexing",
     "output_type": "error",
     "traceback": [
      "\u001b[0;31m---------------------------------------------------------------------------\u001b[0m",
      "\u001b[0;31mTypeError\u001b[0m                                 Traceback (most recent call last)",
      "\u001b[0;32m<ipython-input-3-c8251f4473b8>\u001b[0m in \u001b[0;36m<module>\u001b[0;34m()\u001b[0m\n\u001b[0;32m----> 1\u001b[0;31m \u001b[0mcorpus\u001b[0m\u001b[0;34m[\u001b[0m\u001b[0;36m0\u001b[0m\u001b[0;34m]\u001b[0m\u001b[0;34m\u001b[0m\u001b[0m\n\u001b[0m",
      "\u001b[0;31mTypeError\u001b[0m: 'Text8Corpus' object does not support indexing"
     ]
    }
   ],
   "source": [
    "corpus[0]"
   ]
  },
  {
   "cell_type": "code",
   "execution_count": 4,
   "metadata": {
    "collapsed": false
   },
   "outputs": [
    {
     "data": {
      "text/plain": [
       "['__class__',\n",
       " '__delattr__',\n",
       " '__format__',\n",
       " '__getattribute__',\n",
       " '__hash__',\n",
       " '__init__',\n",
       " '__iter__',\n",
       " '__new__',\n",
       " '__reduce__',\n",
       " '__reduce_ex__',\n",
       " '__repr__',\n",
       " '__setattr__',\n",
       " '__sizeof__',\n",
       " '__str__',\n",
       " '__subclasshook__']"
      ]
     },
     "execution_count": 4,
     "metadata": {},
     "output_type": "execute_result"
    }
   ],
   "source": [
    "[method for method in dir(corpus) if callable(getattr(corpus, method))]"
   ]
  },
  {
   "cell_type": "code",
   "execution_count": 5,
   "metadata": {
    "collapsed": false
   },
   "outputs": [
    {
     "data": {
      "text/plain": [
       "['__class__',\n",
       " '__delattr__',\n",
       " '__dict__',\n",
       " '__doc__',\n",
       " '__format__',\n",
       " '__getattribute__',\n",
       " '__hash__',\n",
       " '__init__',\n",
       " '__iter__',\n",
       " '__module__',\n",
       " '__new__',\n",
       " '__reduce__',\n",
       " '__reduce_ex__',\n",
       " '__repr__',\n",
       " '__setattr__',\n",
       " '__sizeof__',\n",
       " '__str__',\n",
       " '__subclasshook__',\n",
       " '__weakref__',\n",
       " 'fname',\n",
       " 'max_sentence_length']"
      ]
     },
     "execution_count": 5,
     "metadata": {},
     "output_type": "execute_result"
    }
   ],
   "source": [
    "dir(corpus)"
   ]
  },
  {
   "cell_type": "code",
   "execution_count": 6,
   "metadata": {
    "collapsed": false
   },
   "outputs": [
    {
     "data": {
      "text/plain": [
       "<bound method Text8Corpus.__iter__ of <gensim.models.word2vec.Text8Corpus object at 0x104837dd0>>"
      ]
     },
     "execution_count": 6,
     "metadata": {},
     "output_type": "execute_result"
    }
   ],
   "source": []
  },
  {
   "cell_type": "code",
   "execution_count": 7,
   "metadata": {
    "collapsed": false
   },
   "outputs": [
    {
     "ename": "AttributeError",
     "evalue": "'Text8Corpus' object has no attribute 'next'",
     "output_type": "error",
     "traceback": [
      "\u001b[0;31m---------------------------------------------------------------------------\u001b[0m",
      "\u001b[0;31mAttributeError\u001b[0m                            Traceback (most recent call last)",
      "\u001b[0;32m<ipython-input-7-518a81be6ee2>\u001b[0m in \u001b[0;36m<module>\u001b[0;34m()\u001b[0m\n\u001b[0;32m----> 1\u001b[0;31m \u001b[0mcorpus\u001b[0m\u001b[0;34m.\u001b[0m\u001b[0mnext\u001b[0m\u001b[0;34m(\u001b[0m\u001b[0;34m)\u001b[0m\u001b[0;34m\u001b[0m\u001b[0m\n\u001b[0m",
      "\u001b[0;31mAttributeError\u001b[0m: 'Text8Corpus' object has no attribute 'next'"
     ]
    }
   ],
   "source": []
  },
  {
   "cell_type": "code",
   "execution_count": 9,
   "metadata": {
    "collapsed": true
   },
   "outputs": [],
   "source": [
    "from gensim.models.phrases import *\n",
    "\n",
    "ph = Phrases(corpus)"
   ]
  },
  {
   "cell_type": "code",
   "execution_count": 12,
   "metadata": {
    "collapsed": false
   },
   "outputs": [],
   "source": [
    "phr = Phraser(ph)"
   ]
  },
  {
   "cell_type": "code",
   "execution_count": 13,
   "metadata": {
    "collapsed": true
   },
   "outputs": [],
   "source": [
    "sent = [u'the', u'mayor', u'of', u'new', u'york', u'was', u'there']"
   ]
  },
  {
   "cell_type": "code",
   "execution_count": 14,
   "metadata": {
    "collapsed": false
   },
   "outputs": [
    {
     "name": "stdout",
     "output_type": "stream",
     "text": [
      "[u'the', u'mayor', u'of', u'new', u'york', u'was', u'there']\n"
     ]
    }
   ],
   "source": [
    "print phr[sent]"
   ]
  },
  {
   "cell_type": "code",
   "execution_count": 17,
   "metadata": {
    "collapsed": false
   },
   "outputs": [
    {
     "data": {
      "text/plain": [
       "[u'chemical_reactions', u'are', u'cool']"
      ]
     },
     "execution_count": 17,
     "metadata": {},
     "output_type": "execute_result"
    }
   ],
   "source": [
    "phr[[u'chemical',u'reactions',u'are',u'cool']]"
   ]
  },
  {
   "cell_type": "code",
   "execution_count": 21,
   "metadata": {
    "collapsed": true
   },
   "outputs": [],
   "source": [
    "import warnings"
   ]
  },
  {
   "cell_type": "code",
   "execution_count": 22,
   "metadata": {
    "collapsed": true
   },
   "outputs": [],
   "source": [
    "import re\n",
    "warnings.filterwarnings(\"ignore\", message=re.escape(\"For a faster implementation, use the gensim.models.phrases.Phraser class\"))"
   ]
  },
  {
   "cell_type": "code",
   "execution_count": null,
   "metadata": {
    "collapsed": true
   },
   "outputs": [],
   "source": []
  },
  {
   "cell_type": "code",
   "execution_count": 23,
   "metadata": {
    "collapsed": false
   },
   "outputs": [],
   "source": [
    "mod = word2vec.Word2Vec(ph[corpus],size=10)"
   ]
  },
  {
   "cell_type": "code",
   "execution_count": 26,
   "metadata": {
    "collapsed": false
   },
   "outputs": [
    {
     "data": {
      "text/plain": [
       "[(u'looking_forward', 0.9501240849494934),\n",
       " (u'compounds]', 0.9304075241088867),\n",
       " (u\"'''[[Internet\", 0.9185891151428223),\n",
       " (u'Marks]]', 0.9161316156387329),\n",
       " (u'(1995).', 0.9128404259681702),\n",
       " (u'anti-Communist', 0.9109591245651245),\n",
       " (u'Font', 0.9097691774368286),\n",
       " (u'[[National_Library', 0.9085487723350525),\n",
       " (u\"'''F'''\", 0.9075831174850464),\n",
       " (u'(Istat_2005)', 0.9073328971862793)]"
      ]
     },
     "execution_count": 26,
     "metadata": {},
     "output_type": "execute_result"
    }
   ],
   "source": [
    "mod.most_similar(positive=['person'], topn=10)"
   ]
  },
  {
   "cell_type": "code",
   "execution_count": null,
   "metadata": {
    "collapsed": true
   },
   "outputs": [],
   "source": []
  },
  {
   "cell_type": "code",
   "execution_count": null,
   "metadata": {
    "collapsed": true
   },
   "outputs": [],
   "source": []
  },
  {
   "cell_type": "code",
   "execution_count": 27,
   "metadata": {
    "collapsed": true
   },
   "outputs": [],
   "source": [
    "from gensim.models.wrappers import FastText"
   ]
  },
  {
   "cell_type": "code",
   "execution_count": 33,
   "metadata": {
    "collapsed": false
   },
   "outputs": [],
   "source": [
    "# WARNING: takes like 10 min to train\n",
    "# made from https://github.com/facebookresearch/fastText\n",
    "path = '/Users/neel/Dropbox/Harvard/Classes/research/query-rewriter/fastText/fasttext'\n",
    "fm = FastText.train(path, corpus_file=secure.DATASET_PATH_BASE + 'enwik8')"
   ]
  },
  {
   "cell_type": "code",
   "execution_count": 61,
   "metadata": {
    "collapsed": false
   },
   "outputs": [
    {
     "data": {
      "text/plain": [
       "[(u'Zork', 0.816493034362793),\n",
       " (u'Ankh-Morpork', 0.7960439920425415),\n",
       " (u'Artwork', 0.7774671316146851),\n",
       " (u'Network', 0.7542241811752319),\n",
       " (u'pork', 0.7466747760772705),\n",
       " (u'Clockwork', 0.7459302544593811),\n",
       " (u'homework', 0.7433512806892395),\n",
       " (u'Cork', 0.7420310974121094),\n",
       " (u'newsreel', 0.7417821884155273),\n",
       " (u'newline', 0.7417464256286621),\n",
       " (u'Pork', 0.7369546294212341),\n",
       " (u'(Network', 0.729056715965271),\n",
       " (u'company_slogan', 0.7259443998336792),\n",
       " (u'news]', 0.7191295623779297),\n",
       " (u'network', 0.7173770666122437),\n",
       " (u'new', 0.7120053172111511),\n",
       " (u'Yorkshire', 0.7098603248596191),\n",
       " (u'stonework', 0.7096399068832397),\n",
       " (u'new,', 0.7078135013580322),\n",
       " (u'artwork', 0.7072222232818604)]"
      ]
     },
     "execution_count": 61,
     "metadata": {},
     "output_type": "execute_result"
    }
   ],
   "source": [
    "fm.similar_by_word('new_york', topn=20)"
   ]
  },
  {
   "cell_type": "code",
   "execution_count": null,
   "metadata": {
    "collapsed": true
   },
   "outputs": [],
   "source": []
  },
  {
   "cell_type": "code",
   "execution_count": 4,
   "metadata": {
    "collapsed": true
   },
   "outputs": [],
   "source": [
    "from gensim.models.wrappers import FastText\n",
    "import secure"
   ]
  },
  {
   "cell_type": "code",
   "execution_count": null,
   "metadata": {
    "collapsed": true
   },
   "outputs": [],
   "source": []
  },
  {
   "cell_type": "code",
   "execution_count": null,
   "metadata": {
    "collapsed": true
   },
   "outputs": [],
   "source": []
  },
  {
   "cell_type": "code",
   "execution_count": 64,
   "metadata": {
    "collapsed": false
   },
   "outputs": [
    {
     "data": {
      "text/plain": [
       "[(u'Zork', 0.816493034362793),\n",
       " (u'Ankh-Morpork', 0.7960439920425415),\n",
       " (u'Artwork', 0.7774671316146851),\n",
       " (u'Network', 0.7542241811752319),\n",
       " (u'pork', 0.7466747760772705),\n",
       " (u'Clockwork', 0.7459302544593811),\n",
       " (u'homework', 0.7433512806892395),\n",
       " (u'Cork', 0.7420310974121094),\n",
       " (u'newsreel', 0.7417821884155273),\n",
       " (u'newline', 0.7417464256286621),\n",
       " (u'Pork', 0.7369546294212341),\n",
       " (u'(Network', 0.729056715965271),\n",
       " (u'company_slogan', 0.7259443998336792),\n",
       " (u'news]', 0.7191295623779297),\n",
       " (u'network', 0.7173770666122437),\n",
       " (u'new', 0.7120053172111511),\n",
       " (u'Yorkshire', 0.7098603248596191),\n",
       " (u'stonework', 0.7096399068832397),\n",
       " (u'new,', 0.7078135013580322),\n",
       " (u'artwork', 0.7072222232818604)]"
      ]
     },
     "execution_count": 64,
     "metadata": {},
     "output_type": "execute_result"
    }
   ],
   "source": [
    "fm.most_similar(positive=['new_york'], topn=20)"
   ]
  },
  {
   "cell_type": "code",
   "execution_count": null,
   "metadata": {
    "collapsed": true
   },
   "outputs": [],
   "source": [
    "[]"
   ]
  },
  {
   "cell_type": "code",
   "execution_count": 68,
   "metadata": {
    "collapsed": false
   },
   "outputs": [],
   "source": [
    "fm.save(secure.MODEL_PATH_BASE+'fasttext/fasttext')"
   ]
  },
  {
   "cell_type": "code",
   "execution_count": 5,
   "metadata": {
    "collapsed": false
   },
   "outputs": [],
   "source": [
    "fm2 = FastText.load(secure.MODEL_PATH_BASE+'fasttext/fasttext')"
   ]
  },
  {
   "cell_type": "code",
   "execution_count": null,
   "metadata": {
    "collapsed": true
   },
   "outputs": [],
   "source": []
  },
  {
   "cell_type": "code",
   "execution_count": null,
   "metadata": {
    "collapsed": true
   },
   "outputs": [],
   "source": []
  },
  {
   "cell_type": "code",
   "execution_count": null,
   "metadata": {
    "collapsed": true
   },
   "outputs": [],
   "source": []
  },
  {
   "cell_type": "code",
   "execution_count": 6,
   "metadata": {
    "collapsed": false
   },
   "outputs": [
    {
     "data": {
      "text/plain": [
       "[(u'biochemistry', 0.9830586910247803),\n",
       " (u'chemistry|', 0.9796395897865295),\n",
       " (u'(chemistry)', 0.9524341821670532),\n",
       " (u'chemistry,', 0.9513406753540039),\n",
       " (u'chemistry==', 0.9481360912322998),\n",
       " (u'biochemistry,', 0.9481123685836792),\n",
       " (u\"'Radiochemistry\", 0.9445796608924866),\n",
       " (u'Biochemistry', 0.9373379945755005),\n",
       " (u'Electrochemistry', 0.9102224111557007),\n",
       " (u\"chemistry'''\", 0.9014816284179688),\n",
       " (u'chemist', 0.8953343629837036),\n",
       " (u'chemistry.', 0.8936431407928467),\n",
       " (u'[[biochemistry|biochemical]]', 0.8890479803085327),\n",
       " (u'electrochemistry', 0.8872667551040649),\n",
       " (u'biochemistry.', 0.8862274289131165),\n",
       " (u'chemist,', 0.8851226568222046),\n",
       " (u'biochemist', 0.8840389251708984),\n",
       " (u'biochemist,', 0.8771650195121765),\n",
       " (u'[[chemistry|chemical]]', 0.8727388381958008),\n",
       " (u'Chemistry', 0.8726977109909058),\n",
       " (u'ischemic', 0.8639161586761475),\n",
       " (u'alchemist', 0.8624183535575867),\n",
       " (u'physiology', 0.8568892478942871),\n",
       " (u'Chemistry,', 0.8566870093345642),\n",
       " (u'[[electrochemistry|electrochemical]]', 0.8530532121658325)]"
      ]
     },
     "execution_count": 6,
     "metadata": {},
     "output_type": "execute_result"
    }
   ],
   "source": [
    "fm2.similar_by_word('chemistry', topn=25)"
   ]
  },
  {
   "cell_type": "code",
   "execution_count": null,
   "metadata": {
    "collapsed": true
   },
   "outputs": [],
   "source": []
  },
  {
   "cell_type": "code",
   "execution_count": 77,
   "metadata": {
    "collapsed": false
   },
   "outputs": [
    {
     "ename": "IndexError",
     "evalue": "index 1962073 is out of bounds for size 1474803",
     "output_type": "error",
     "traceback": [
      "\u001b[0;31m---------------------------------------------------------------------------\u001b[0m",
      "\u001b[0;31mIndexError\u001b[0m                                Traceback (most recent call last)",
      "\u001b[0;32m<ipython-input-77-982f31035151>\u001b[0m in \u001b[0;36m<module>\u001b[0;34m()\u001b[0m\n\u001b[0;32m----> 1\u001b[0;31m \u001b[0mfm2\u001b[0m\u001b[0;34m.\u001b[0m\u001b[0minit_ngrams\u001b[0m\u001b[0;34m(\u001b[0m\u001b[0;34m)\u001b[0m\u001b[0;34m\u001b[0m\u001b[0m\n\u001b[0m",
      "\u001b[0;32m/Users/neel/usr/anaconda2/lib/python2.7/site-packages/gensim/models/wrappers/fasttext.pyc\u001b[0m in \u001b[0;36minit_ngrams\u001b[0;34m(self)\u001b[0m\n\u001b[1;32m    329\u001b[0m             \u001b[0mngram_indices\u001b[0m\u001b[0;34m.\u001b[0m\u001b[0mappend\u001b[0m\u001b[0;34m(\u001b[0m\u001b[0;34m(\u001b[0m\u001b[0mlen\u001b[0m\u001b[0;34m(\u001b[0m\u001b[0mself\u001b[0m\u001b[0;34m.\u001b[0m\u001b[0mwv\u001b[0m\u001b[0;34m.\u001b[0m\u001b[0mvocab\u001b[0m\u001b[0;34m)\u001b[0m \u001b[0;34m+\u001b[0m \u001b[0mngram_hash\u001b[0m\u001b[0;34m)\u001b[0m \u001b[0;34m%\u001b[0m \u001b[0mself\u001b[0m\u001b[0;34m.\u001b[0m\u001b[0mbucket\u001b[0m\u001b[0;34m)\u001b[0m\u001b[0;34m\u001b[0m\u001b[0m\n\u001b[1;32m    330\u001b[0m             \u001b[0mself\u001b[0m\u001b[0;34m.\u001b[0m\u001b[0mwv\u001b[0m\u001b[0;34m.\u001b[0m\u001b[0mngrams\u001b[0m\u001b[0;34m[\u001b[0m\u001b[0mngram\u001b[0m\u001b[0;34m]\u001b[0m \u001b[0;34m=\u001b[0m \u001b[0mi\u001b[0m\u001b[0;34m\u001b[0m\u001b[0m\n\u001b[0;32m--> 331\u001b[0;31m         \u001b[0mself\u001b[0m\u001b[0;34m.\u001b[0m\u001b[0mwv\u001b[0m\u001b[0;34m.\u001b[0m\u001b[0msyn0_all\u001b[0m \u001b[0;34m=\u001b[0m \u001b[0mself\u001b[0m\u001b[0;34m.\u001b[0m\u001b[0mwv\u001b[0m\u001b[0;34m.\u001b[0m\u001b[0msyn0_all\u001b[0m\u001b[0;34m.\u001b[0m\u001b[0mtake\u001b[0m\u001b[0;34m(\u001b[0m\u001b[0mngram_indices\u001b[0m\u001b[0;34m,\u001b[0m \u001b[0maxis\u001b[0m\u001b[0;34m=\u001b[0m\u001b[0;36m0\u001b[0m\u001b[0;34m)\u001b[0m\u001b[0;34m\u001b[0m\u001b[0m\n\u001b[0m\u001b[1;32m    332\u001b[0m \u001b[0;34m\u001b[0m\u001b[0m\n\u001b[1;32m    333\u001b[0m     \u001b[0;34m@\u001b[0m\u001b[0mstaticmethod\u001b[0m\u001b[0;34m\u001b[0m\u001b[0m\n",
      "\u001b[0;31mIndexError\u001b[0m: index 1962073 is out of bounds for size 1474803"
     ]
    }
   ],
   "source": [
    "fm2.init_ngrams()"
   ]
  },
  {
   "cell_type": "code",
   "execution_count": null,
   "metadata": {
    "collapsed": true
   },
   "outputs": [],
   "source": []
  },
  {
   "cell_type": "code",
   "execution_count": null,
   "metadata": {
    "collapsed": true
   },
   "outputs": [],
   "source": []
  },
  {
   "cell_type": "code",
   "execution_count": null,
   "metadata": {
    "collapsed": true
   },
   "outputs": [],
   "source": []
  },
  {
   "cell_type": "code",
   "execution_count": null,
   "metadata": {
    "collapsed": true
   },
   "outputs": [],
   "source": []
  },
  {
   "cell_type": "code",
   "execution_count": null,
   "metadata": {
    "collapsed": true
   },
   "outputs": [],
   "source": []
  },
  {
   "cell_type": "code",
   "execution_count": null,
   "metadata": {
    "collapsed": true
   },
   "outputs": [],
   "source": []
  },
  {
   "cell_type": "code",
   "execution_count": null,
   "metadata": {
    "collapsed": true
   },
   "outputs": [],
   "source": []
  },
  {
   "cell_type": "code",
   "execution_count": null,
   "metadata": {
    "collapsed": true
   },
   "outputs": [],
   "source": []
  },
  {
   "cell_type": "code",
   "execution_count": null,
   "metadata": {
    "collapsed": true
   },
   "outputs": [],
   "source": []
  },
  {
   "cell_type": "code",
   "execution_count": null,
   "metadata": {
    "collapsed": true
   },
   "outputs": [],
   "source": []
  },
  {
   "cell_type": "code",
   "execution_count": null,
   "metadata": {
    "collapsed": true
   },
   "outputs": [],
   "source": []
  },
  {
   "cell_type": "code",
   "execution_count": null,
   "metadata": {
    "collapsed": true
   },
   "outputs": [],
   "source": []
  },
  {
   "cell_type": "code",
   "execution_count": null,
   "metadata": {
    "collapsed": true
   },
   "outputs": [],
   "source": []
  },
  {
   "cell_type": "code",
   "execution_count": null,
   "metadata": {
    "collapsed": true
   },
   "outputs": [],
   "source": []
  },
  {
   "cell_type": "code",
   "execution_count": null,
   "metadata": {
    "collapsed": true
   },
   "outputs": [],
   "source": []
  },
  {
   "cell_type": "code",
   "execution_count": null,
   "metadata": {
    "collapsed": true
   },
   "outputs": [],
   "source": []
  },
  {
   "cell_type": "code",
   "execution_count": null,
   "metadata": {
    "collapsed": true
   },
   "outputs": [],
   "source": []
  },
  {
   "cell_type": "code",
   "execution_count": null,
   "metadata": {
    "collapsed": true
   },
   "outputs": [],
   "source": []
  },
  {
   "cell_type": "code",
   "execution_count": null,
   "metadata": {
    "collapsed": true
   },
   "outputs": [],
   "source": []
  },
  {
   "cell_type": "code",
   "execution_count": null,
   "metadata": {
    "collapsed": true
   },
   "outputs": [],
   "source": []
  },
  {
   "cell_type": "code",
   "execution_count": null,
   "metadata": {
    "collapsed": true
   },
   "outputs": [],
   "source": []
  },
  {
   "cell_type": "code",
   "execution_count": null,
   "metadata": {
    "collapsed": true
   },
   "outputs": [],
   "source": []
  },
  {
   "cell_type": "code",
   "execution_count": null,
   "metadata": {
    "collapsed": true
   },
   "outputs": [],
   "source": []
  },
  {
   "cell_type": "code",
   "execution_count": null,
   "metadata": {
    "collapsed": true
   },
   "outputs": [],
   "source": []
  },
  {
   "cell_type": "code",
   "execution_count": null,
   "metadata": {
    "collapsed": true
   },
   "outputs": [],
   "source": []
  },
  {
   "cell_type": "code",
   "execution_count": null,
   "metadata": {
    "collapsed": true
   },
   "outputs": [],
   "source": []
  },
  {
   "cell_type": "code",
   "execution_count": null,
   "metadata": {
    "collapsed": true
   },
   "outputs": [],
   "source": []
  },
  {
   "cell_type": "code",
   "execution_count": null,
   "metadata": {
    "collapsed": true
   },
   "outputs": [],
   "source": []
  },
  {
   "cell_type": "code",
   "execution_count": null,
   "metadata": {
    "collapsed": true
   },
   "outputs": [],
   "source": []
  },
  {
   "cell_type": "code",
   "execution_count": null,
   "metadata": {
    "collapsed": true
   },
   "outputs": [],
   "source": []
  },
  {
   "cell_type": "code",
   "execution_count": null,
   "metadata": {
    "collapsed": true
   },
   "outputs": [],
   "source": []
  },
  {
   "cell_type": "code",
   "execution_count": null,
   "metadata": {
    "collapsed": true
   },
   "outputs": [],
   "source": []
  },
  {
   "cell_type": "code",
   "execution_count": null,
   "metadata": {
    "collapsed": true
   },
   "outputs": [],
   "source": []
  },
  {
   "cell_type": "code",
   "execution_count": null,
   "metadata": {
    "collapsed": true
   },
   "outputs": [],
   "source": []
  },
  {
   "cell_type": "code",
   "execution_count": null,
   "metadata": {
    "collapsed": true
   },
   "outputs": [],
   "source": []
  },
  {
   "cell_type": "code",
   "execution_count": null,
   "metadata": {
    "collapsed": true
   },
   "outputs": [],
   "source": []
  },
  {
   "cell_type": "code",
   "execution_count": null,
   "metadata": {
    "collapsed": true
   },
   "outputs": [],
   "source": []
  },
  {
   "cell_type": "code",
   "execution_count": null,
   "metadata": {
    "collapsed": true
   },
   "outputs": [],
   "source": []
  },
  {
   "cell_type": "code",
   "execution_count": null,
   "metadata": {
    "collapsed": true
   },
   "outputs": [],
   "source": []
  },
  {
   "cell_type": "code",
   "execution_count": null,
   "metadata": {
    "collapsed": true
   },
   "outputs": [],
   "source": [
    "\n"
   ]
  },
  {
   "cell_type": "code",
   "execution_count": 7,
   "metadata": {
    "collapsed": true
   },
   "outputs": [],
   "source": [
    "from lxml import etree\n",
    "import abc\n",
    "import re\n",
    "import requests\n",
    "\n",
    "import gensim.models as models\n",
    "import gensim.models.word2vec as word2vec\n",
    "import secure"
   ]
  },
  {
   "cell_type": "code",
   "execution_count": 16,
   "metadata": {
    "collapsed": true
   },
   "outputs": [],
   "source": [
    "corpus = word2vec.LineSentence(secure.DATASET_PATH_BASE + 'wikiclean8')"
   ]
  },
  {
   "cell_type": "code",
   "execution_count": null,
   "metadata": {
    "collapsed": true
   },
   "outputs": [],
   "source": []
  },
  {
   "cell_type": "code",
   "execution_count": 17,
   "metadata": {
    "collapsed": false
   },
   "outputs": [],
   "source": [
    "model = word2vec.Word2Vec(corpus, workers=8)"
   ]
  },
  {
   "cell_type": "code",
   "execution_count": 18,
   "metadata": {
    "collapsed": true
   },
   "outputs": [],
   "source": [
    "MODEL_PATH = secure.MODEL_PATH_BASE+'word2vec/word2vec'"
   ]
  },
  {
   "cell_type": "code",
   "execution_count": 19,
   "metadata": {
    "collapsed": true
   },
   "outputs": [],
   "source": [
    "model.save(MODEL_PATH)"
   ]
  },
  {
   "cell_type": "code",
   "execution_count": 21,
   "metadata": {
    "collapsed": false
   },
   "outputs": [],
   "source": [
    "import rewriter\n",
    "\n",
    "w2v = rewriter.Word2VecRewriter(corpus=corpus, create=False)"
   ]
  },
  {
   "cell_type": "code",
   "execution_count": 22,
   "metadata": {
    "collapsed": false
   },
   "outputs": [
    {
     "data": {
      "text/plain": [
       "[u'anthropology',\n",
       " u'biology',\n",
       " u'cognitive',\n",
       " u'sociology',\n",
       " u'ethics',\n",
       " u'aesthetics',\n",
       " u'humanities',\n",
       " u'linguistics',\n",
       " u'economics',\n",
       " u'developmental',\n",
       " u'psychology']"
      ]
     },
     "execution_count": 22,
     "metadata": {},
     "output_type": "execute_result"
    }
   ],
   "source": [
    "w2v.rewrite(\"psychology\")"
   ]
  },
  {
   "cell_type": "code",
   "execution_count": 24,
   "metadata": {
    "collapsed": false
   },
   "outputs": [
    {
     "data": {
      "text/plain": [
       "[(u'anthropology', 0.854270339012146),\n",
       " (u'biology', 0.818304181098938),\n",
       " (u'cognitive', 0.8170984983444214),\n",
       " (u'sociology', 0.8107180595397949),\n",
       " (u'ethics', 0.8038102984428406),\n",
       " (u'aesthetics', 0.8002983331680298),\n",
       " (u'humanities', 0.7997688055038452),\n",
       " (u'linguistics', 0.7869040966033936),\n",
       " (u'economics', 0.7797198295593262),\n",
       " (u'developmental', 0.779336154460907)]"
      ]
     },
     "execution_count": 24,
     "metadata": {},
     "output_type": "execute_result"
    }
   ],
   "source": [
    "w2v.model.similar_by_word(\"psychology\")"
   ]
  },
  {
   "cell_type": "code",
   "execution_count": null,
   "metadata": {
    "collapsed": true
   },
   "outputs": [],
   "source": []
  },
  {
   "cell_type": "code",
   "execution_count": null,
   "metadata": {
    "collapsed": true
   },
   "outputs": [],
   "source": []
  },
  {
   "cell_type": "code",
   "execution_count": null,
   "metadata": {
    "collapsed": true
   },
   "outputs": [],
   "source": []
  },
  {
   "cell_type": "code",
   "execution_count": null,
   "metadata": {
    "collapsed": true
   },
   "outputs": [],
   "source": []
  },
  {
   "cell_type": "code",
   "execution_count": null,
   "metadata": {
    "collapsed": true
   },
   "outputs": [],
   "source": []
  }
 ],
 "metadata": {
  "anaconda-cloud": {},
  "kernelspec": {
   "display_name": "Python [default]",
   "language": "python",
   "name": "python2"
  },
  "language_info": {
   "codemirror_mode": {
    "name": "ipython",
    "version": 2
   },
   "file_extension": ".py",
   "mimetype": "text/x-python",
   "name": "python",
   "nbconvert_exporter": "python",
   "pygments_lexer": "ipython2",
   "version": "2.7.12"
  }
 },
 "nbformat": 4,
 "nbformat_minor": 2
}
